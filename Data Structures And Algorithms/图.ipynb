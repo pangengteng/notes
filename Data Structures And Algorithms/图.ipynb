{
 "cells": [
  {
   "cell_type": "markdown",
   "metadata": {},
   "source": [
    "# 图\n",
    "\n",
    "> 由顶点和连接这些顶点的边组成\n",
    "\n",
    "## 关键概念\n",
    "\n",
    "> 无向图：边没有方向，或者说是双向的\n",
    ">\n",
    "> 有向图：边有方向\n",
    ">\n",
    "> 度：无向图中，顶点的边的数量\n",
    ">\n",
    "> 出度：有向图中，从该顶点出发的边的数量\n",
    ">\n",
    "> 入度：有向图中，到该顶点的边的数量\n",
    "\n",
    "## 在内存中的实现\n",
    "\n",
    "> 邻接矩阵：在一个有v个顶点的图中，用 v*v 的二维矩阵A表示，A[i][j] = 1 表示顶点i和j之间有边\n",
    ">> 优点：基于矩阵操作简单\n",
    ">>\n",
    ">> 缺点：对于边比较少的稀疏矩阵空间浪费大\n",
    ">\n",
    "> 邻接表：在一个有v个顶点的图中，用长度为v的数组A表示，A[i]是一个列表，表示和顶点i相邻的顶点\n",
    ">> 优点：占用空间小\n",
    ">>\n",
    ">> 缺点：操作相对复杂，需要用支持快速查找的动态数据结构，比如跳表、红黑树，替代列表\n",
    "\n",
    "## 搜索算法\n",
    "\n",
    "> BFS(Breadth First Search)：“地毯式”搜索，每次遍历一层顶点\n",
    ">\n",
    "> DFS(Deepth First Search)：“走迷宫”搜索，沿着一条路走到头，没路时沿路返回\n",
    "\n",
    "### 复杂度分析\n",
    "\n",
    "> time complexity\n",
    ">> BFS：遍历每个节点，O(V)\n",
    ">> DFS：遍历每个节点，O(V)\n",
    "\n",
    "> space complexity\n",
    ">> BFS, DFS：需要 adj、visited，O(V)"
   ]
  },
  {
   "cell_type": "code",
   "execution_count": 1,
   "metadata": {},
   "outputs": [],
   "source": [
    "from IPython.core.interactiveshell import InteractiveShell\n",
    "InteractiveShell.ast_node_interactivity = \"all\""
   ]
  },
  {
   "cell_type": "code",
   "execution_count": null,
   "metadata": {},
   "outputs": [],
   "source": [
    "class Graph:\n",
    "    def __init__(self, v, directed=False):\n",
    "        self.v = v\n",
    "        self.directed = directed\n",
    "        self.adj = [[] for _ in range(self.v)]\n",
    "    \n",
    "    def add_edge(self, s, t, directed=None):\n",
    "        self.adj[s].append(t)\n",
    "        # directed 优先级比 self.directed 高\n",
    "        if directed is not None:\n",
    "            if directed == False:\n",
    "                self.adj[t].append(s)\n",
    "        elif not self.directed:\n",
    "            self.adj[t].append(s)\n",
    "\n",
    "g = Graph(8)\n",
    "g.add_edge(0, 1)\n",
    "g.add_edge(0, 3)\n",
    "g.add_edge(1, 2)\n",
    "g.add_edge(1, 4)\n",
    "g.add_edge(2, 5)\n",
    "g.add_edge(3, 4)\n",
    "g.add_edge(4, 5)\n",
    "g.add_edge(4, 6)\n",
    "g.add_edge(5, 7)\n",
    "g.add_edge(6, 7)"
   ]
  },
  {
   "cell_type": "code",
   "execution_count": 27,
   "metadata": {},
   "outputs": [
    {
     "data": {
      "text/plain": [
       "[0, 3, 4, 6]"
      ]
     },
     "execution_count": 27,
     "metadata": {},
     "output_type": "execute_result"
    }
   ],
   "source": [
    "from collections import deque\n",
    "\n",
    "# BFS\n",
    "def bfs(g, s, t):\n",
    "    if s == t:\n",
    "        return [t]\n",
    "    queue = deque()\n",
    "    queue.append(s)\n",
    "    visited = [False] * g.v\n",
    "    prev = [-1] * g.v\n",
    "    while queue:\n",
    "        w = queue.popleft()\n",
    "        visited[w] = True\n",
    "        for v in g.adj[w]:\n",
    "            if visited[v]:\n",
    "                continue\n",
    "            prev[v] = w\n",
    "            if v == t:\n",
    "                return path(prev, s, t)\n",
    "            queue.append(v)\n",
    "    return []\n",
    "\n",
    "def path(prev, s, t):\n",
    "    p = []\n",
    "    while prev[t] != -1 and s != t:\n",
    "        p.append(t)\n",
    "        t = prev[t]\n",
    "    p.append(s)\n",
    "    return p[::-1]\n",
    "\n",
    "bfs(g, 0, 6)"
   ]
  },
  {
   "cell_type": "code",
   "execution_count": 28,
   "metadata": {},
   "outputs": [
    {
     "data": {
      "text/plain": [
       "[0, 1, 2, 5, 4, 6]"
      ]
     },
     "execution_count": 28,
     "metadata": {},
     "output_type": "execute_result"
    }
   ],
   "source": [
    "# DFS\n",
    "\n",
    "def dfs(g, s, t):\n",
    "    visited = [False] * g.v\n",
    "    prev = [-1] * g.v\n",
    "    found = False\n",
    "\n",
    "    def recurdfs(g, s, t):\n",
    "        nonlocal found\n",
    "        visited[s] = True\n",
    "        if s == t:\n",
    "            found = True\n",
    "            return\n",
    "        for v in g.adj[s]:\n",
    "            if found:\n",
    "                return\n",
    "            if visited[v]:\n",
    "                continue\n",
    "            prev[v] = s\n",
    "            recurdfs(g, v, t)\n",
    "    \n",
    "    recurdfs(g, s, t)\n",
    "    return path(prev, s, t)\n",
    "\n",
    "dfs(g, 0, 6)\n"
   ]
  },
  {
   "cell_type": "markdown",
   "metadata": {},
   "source": [
    "## 拓扑排序（topological sort）\n",
    "\n",
    "> 从局部顺序中找出全局顺序\n",
    ">\n",
    "> 常见算法有：Kahn, DFS"
   ]
  },
  {
   "cell_type": "code",
   "execution_count": 37,
   "metadata": {},
   "outputs": [
    {
     "name": "stdout",
     "output_type": "stream",
     "text": [
      "a->b表示a先于b, kahn: [2, 3, 0, 1]\n"
     ]
    },
    {
     "data": {
      "text/plain": [
       "[2, 3, 0, 1]"
      ]
     },
     "execution_count": 37,
     "metadata": {},
     "output_type": "execute_result"
    },
    {
     "data": {
      "text/plain": [
       "[]"
      ]
     },
     "execution_count": 37,
     "metadata": {},
     "output_type": "execute_result"
    },
    {
     "data": {
      "text/plain": [
       "[2, 3, 0, 1]"
      ]
     },
     "execution_count": 37,
     "metadata": {},
     "output_type": "execute_result"
    },
    {
     "data": {
      "text/plain": [
       "[2, 3, 0, 1]"
      ]
     },
     "execution_count": 37,
     "metadata": {},
     "output_type": "execute_result"
    },
    {
     "name": "stdout",
     "output_type": "stream",
     "text": [
      "a->b stand for a dependent b, dfs: []\n"
     ]
    }
   ],
   "source": [
    "# a -> b 表示a先于b\n",
    "topo1 = Graph(4, True)\n",
    "topo1.add_edge(2, 0)\n",
    "topo1.add_edge(2, 3)\n",
    "topo1.add_edge(3, 0)\n",
    "topo1.add_edge(0, 1)\n",
    "topo1.add_edge(3, 1)\n",
    "\n",
    "# a -> b 表示a依赖b\n",
    "topo2 = Graph(4, True)\n",
    "topo2.add_edge(0, 2)\n",
    "topo2.add_edge(0, 3)\n",
    "topo2.add_edge(1, 0)\n",
    "topo2.add_edge(1, 3)\n",
    "topo2.add_edge(3, 2)\n",
    "\n",
    "circled_topo = Graph(3, True)\n",
    "circled_topo.add_edge(0, 1)\n",
    "circled_topo.add_edge(1, 2)\n",
    "circled_topo.add_edge(2, 1)\n",
    "\n",
    "from collections import defaultdict, deque\n",
    "\n",
    "# kahn\n",
    "def topo1_sort_by_kahn(graph):\n",
    "    indegree = [0] * graph.v\n",
    "    for i in range(graph.v):\n",
    "        for j in graph.adj[i]:\n",
    "            indegree[j] += 1\n",
    "    res = []\n",
    "    queue = deque([v for v, e in enumerate(indegree) if e == 0])\n",
    "    while queue:\n",
    "        v = queue.popleft()\n",
    "        res.append(v)\n",
    "        for i in graph.adj[v]:\n",
    "            indegree[i] -= 1\n",
    "            if indegree[i] == 0:\n",
    "                queue.append(i)\n",
    "    \n",
    "    return res\n",
    "\n",
    "print(f'a->b表示a先于b, kahn: {topo1_sort_by_kahn(topo1)}')\n",
    "\n",
    "# def topo2_sort_by_kahn(graph):\n",
    "#     inverse_adj = [[] for _ in range(graph.v)]\n",
    "#     for i in range(graph.v):\n",
    "#         for j in graph.adj[i]:\n",
    "#             inverse_adj[j].append(i)\n",
    "#     g = Graph(graph.v)\n",
    "#     g.adj = inverse_adj\n",
    "#     return topo1_sort_by_kahn(g)\n",
    "\n",
    "# topo2_sort_by_kahn(topo2) \n",
    "# topo2_sort_by_kahn(circled_topo)\n",
    "\n",
    "# dfs\n",
    "# def topo1_sort_by_dfs(graph):\n",
    "#     # inverse_adj = defaultdict(list)\n",
    "#     # for i in range(graph.v):\n",
    "#     #     for j in graph.adj[i]:\n",
    "#     #         inverse_adj[j].append(i)\n",
    "    \n",
    "#     res = []\n",
    "#     visited = set()\n",
    "#     def dfs(v):\n",
    "#         if v in visited:\n",
    "#             return\n",
    "#         for i in graph.adj[v]:\n",
    "#             dfs(i)\n",
    "#         visited.add(v)\n",
    "#         res.append(v)\n",
    "\n",
    "#     for i in range(graph.v):\n",
    "#         dfs(i)\n",
    "#     return res[::-1]\n",
    "\n",
    "# topo1_sort_by_dfs(topo1)\n",
    "\n",
    "def topp2_sort_by_dfs(graph):\n",
    "    res = []\n",
    "    visited = set()\n",
    "    nopre = [False] * graph.v\n",
    "    def dfs(v):\n",
    "        if nopre[v]:\n",
    "            return True\n",
    "        \n",
    "        if v in visited:\n",
    "            return False\n",
    "\n",
    "        visited.add(v)\n",
    "        for i in graph.adj[v]:\n",
    "            if not dfs(i):\n",
    "                return False\n",
    "        nopre[v] = True\n",
    "        res.append(v)\n",
    "        return True\n",
    "\n",
    "    for i in range(graph.v):\n",
    "        dfs(i)\n",
    "    \n",
    "    return res\n",
    "\n",
    "topp2_sort_by_dfs(topo2)\n",
    "print(f'a->b stand for a dependent b, dfs: {topp2_sort_by_dfs(circled_topo)}')"
   ]
  },
  {
   "cell_type": "markdown",
   "metadata": {},
   "source": [
    "## 最短线路\n",
    "\n",
    "### Dijkstra 算法\n",
    "\n",
    "> 核心思路\n",
    "> 1. 初始化每个顶点（除起点外）到起点的距离为无穷大，起点到起点的距离为0\n",
    "> 2. 把起点加入优先（有序）队列\n",
    "> 3. 开始循环从队列里每次取距离最小的点出来\n",
    ">> 1. 如果点是终点，结束\n",
    ">> 2. 如果相邻点的距离小于已有的距离，更新距离，放入队列\n",
    ">\n",
    "> Dijkstra 算法也是一种DP算法，每次尝试处理最优子结构，但并不丢弃其他选择，这是和贪心算法一条路走到黑最明显的区别\n",
    ">\n",
    "> 时间复杂度：O(Elogv)"
   ]
  },
  {
   "cell_type": "code",
   "execution_count": 17,
   "metadata": {},
   "outputs": [
    {
     "data": {
      "text/plain": [
       "[0, 1, 3, 2, 5]"
      ]
     },
     "execution_count": 17,
     "metadata": {},
     "output_type": "execute_result"
    }
   ],
   "source": [
    "import heapq       \n",
    "\n",
    "class WeightGraph(Graph):\n",
    "    def __init__(self, v, directed=False):\n",
    "        super().__init__(v, directed)\n",
    "    \n",
    "    def add_edge(self, s, t, w, directed=None):\n",
    "        return super().add_edge(s, (t, w), directed)\n",
    "    \n",
    "    def dijkstra(self, s, t):\n",
    "        distance = [float('inf')] * self.v\n",
    "        distance[s] = 0\n",
    "        pre = [None] * self.v\n",
    "        queue = [(0, s)]\n",
    "        while queue:\n",
    "            dist, v = heapq.heappop(queue)\n",
    "            if v == t:\n",
    "                return self._path(s, t, pre)\n",
    "            if dist > distance[v]:\n",
    "                continue\n",
    "            for n, w in self.adj[v]:\n",
    "                if dist + w < distance[n]:\n",
    "                    pre[n] = v\n",
    "                    distance[n] = dist + w\n",
    "                    heapq.heappush(queue, (distance[n], n))\n",
    "        return []\n",
    "\n",
    "\n",
    "    def _path(self, s, t, pre):\n",
    "        if s == t:\n",
    "            return [s]\n",
    "        return self._path(s, pre[t], pre) + [t]\n",
    "\n",
    "\n",
    "weight_graph = WeightGraph(6, directed=True)\n",
    "weight_graph.add_edge(0, 1, 10)\n",
    "weight_graph.add_edge(0, 4, 15)\n",
    "weight_graph.add_edge(1, 2, 15)\n",
    "weight_graph.add_edge(1, 3, 2)\n",
    "weight_graph.add_edge(2, 5, 5)\n",
    "weight_graph.add_edge(3, 2, 1)\n",
    "weight_graph.add_edge(3, 5, 12)\n",
    "weight_graph.add_edge(4, 5, 10)\n",
    "\n",
    "weight_graph.dijkstra(0, 5)"
   ]
  },
  {
   "cell_type": "markdown",
   "metadata": {},
   "source": [
    "### A* 算法\n",
    "\n",
    "> 相比于Dijkstra用dist来计算顶点到起点的距离g(i)， A* 算法额外使用了启发函数来估算顶点和终点的距离h(i)，每次从队列中取f(i) = g(i) + h(i) 最小的顶点"
   ]
  },
  {
   "cell_type": "code",
   "execution_count": null,
   "metadata": {},
   "outputs": [],
   "source": [
    "def _heurisitic(self, s, t):\n",
    "    pass\n",
    "\n",
    "def a_start(self, s, t):\n",
    "    dist = [(float('inf'), float('inf'))] * self.v # (f, g)\n",
    "    dist[s] = (self._heuristic(s, t), 0)\n",
    "    queue = [(*dist[s], s)]\n",
    "    while queue:\n",
    "        f, g, v = heapq.heappop(queue)\n",
    "        if v == t:\n",
    "            return g\n",
    "        if f > dist[s][0]:\n",
    "            continue\n",
    "        for n, w in self.adj[v]:\n",
    "            if g + w < dist[n][1]:\n",
    "                dist[n] = (self._heuristic(n, t), g+w)\n",
    "                heapq.heappush(queue, (*dist[n], n))\n",
    "    \n",
    "    return -1\n",
    "\n",
    "setattr(WeightGraph, '_heuristic', _heurisitic)\n",
    "setattr(WeightGraph, 'a_start', a_start)\n"
   ]
  },
  {
   "cell_type": "markdown",
   "metadata": {},
   "source": [
    "### Bellman-Ford 算法\n",
    "\n",
    "> 核心思想\n",
    ">> 在有V个顶点的图中，两个顶点的之间的最短路径最多经过V-1个边\n",
    ">\n",
    "> 应用场景\n",
    "> 1. 稀疏图\n",
    "> 2. 负权边\n",
    "> 3. 检测负权环\n",
    "> \n",
    "> 时间复杂度: O(VE)"
   ]
  },
  {
   "cell_type": "code",
   "execution_count": null,
   "metadata": {},
   "outputs": [],
   "source": [
    "def bellford(self, s, t):\n",
    "    dist = [float('inf')] * self.v\n",
    "    dist[s] = 0\n",
    "    pre = [None] * self.v\n",
    "    for _ in range(self.v - 1):\n",
    "        for i in range(self.v):\n",
    "            for v, w in self.adj[i]:\n",
    "                if dist[i] != float('inf') and dist[i] + w < dist[v]:\n",
    "                    dist[v] = dist[i] + w\n",
    "                    pre[v] = i\n",
    "\n",
    "    # 检测负权环\n",
    "    for i in range(self.v):\n",
    "        for v, w in self.adj[i]:\n",
    "            if dist[i] != float('inf') and dist[i] + w < dist[v]:\n",
    "                return []\n",
    "    \n",
    "    return self._path(s, t, pre)\n",
    "\n",
    "setattr(WeightGraph, 'bellford', bellford)\n",
    "\n"
   ]
  },
  {
   "cell_type": "markdown",
   "metadata": {},
   "source": [
    "### Floyd-Warshall 算法\n",
    "\n",
    "> 基于DP的思想，用一个二维数组维护两个顶点之间最短路径，状态转移方程dist[i][j] = min (dist[i][j], dist[i][k] + dist[k][j])\n",
    ">\n",
    "> 时间复杂度: O(V3)"
   ]
  },
  {
   "cell_type": "code",
   "execution_count": null,
   "metadata": {},
   "outputs": [],
   "source": [
    "def floyd(self):\n",
    "    dist = [[float('inf')] for _ in self.v]\n",
    "    for i in range(self.v):\n",
    "        dist[i][i] = 0\n",
    "        for j, w in self.adj[i]:\n",
    "            dist[i][j] = w\n",
    "    \n",
    "    for k in range(self.v):\n",
    "        for i in range(self.v):\n",
    "            for j in range(self.v):\n",
    "                dist[i][j] = min(dist[i][j], dist[i][k] + dist[k][j])\n",
    "    \n",
    "    return dist\n",
    "\n",
    "setattr(WeightGraph, 'floyd', floyd)"
   ]
  },
  {
   "cell_type": "markdown",
   "metadata": {},
   "source": [
    "### Dijkstra Vs. Bellman-Ford Vs. Floyd-Warshall\n",
    "\n",
    "| **算法**          | **类型**              | **时间复杂度**       | **空间复杂度**      | **适用图**         | **是否支持负权边** | **适用场景** |\n",
    "|------------------|---------------------|---------------------|---------------------|------------------|-----------------|-------------|\n",
    "| **Dijkstra**     | 单源最短路径         | \\(O(ElogV)\\) (使用堆优化) | \\(O(V)\\)       | **有向 / 无向** | **不支持**       | **边权非负，稀疏图（E ≪ V²）** |\n",
    "| **Bellman-Ford** | 单源最短路径         | \\(O(VE)\\)           | \\(O(V)\\)           | **有向 / 无向** | **支持**        | **支持负权边，可检测负环** |\n",
    "| **Floyd-Warshall** | 多源最短路径        | \\(O(V^3)\\)          | \\(O(V^2)\\)         | **有向 / 无向** | **支持**        | **小规模图（V ≈ 1000 以下）** |"
   ]
  }
 ],
 "metadata": {
  "kernelspec": {
   "display_name": ".venv",
   "language": "python",
   "name": "python3"
  },
  "language_info": {
   "codemirror_mode": {
    "name": "ipython",
    "version": 3
   },
   "file_extension": ".py",
   "mimetype": "text/x-python",
   "name": "python",
   "nbconvert_exporter": "python",
   "pygments_lexer": "ipython3",
   "version": "3.13.0"
  }
 },
 "nbformat": 4,
 "nbformat_minor": 2
}
