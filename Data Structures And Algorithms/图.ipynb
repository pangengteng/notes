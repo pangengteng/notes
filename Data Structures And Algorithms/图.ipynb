{
 "cells": [
  {
   "cell_type": "markdown",
   "metadata": {},
   "source": [
    "# 图\n",
    "\n",
    "> 由顶点和连接这些顶点的边组成\n",
    "\n",
    "## 关键概念\n",
    "\n",
    "> 无向图：边没有方向\n",
    ">\n",
    "> 有向图：边有方向\n",
    ">\n",
    "> 度：无向图中，顶点的边的数量\n",
    ">\n",
    "> 出度：有向图中，从该顶点出发的边的数量\n",
    ">\n",
    "> 入度：有向图中，到该顶点的边的数量\n",
    "\n",
    "## 在内存中的实现\n",
    "\n",
    "> 邻接矩阵：在一个有v个顶点的图中，用 v*v 的二维矩阵A表示，A[i][j] = 1 表示顶点i和j之间有边\n",
    ">> 优点：基于矩阵操作简单\n",
    ">>\n",
    ">> 缺点：对于边比较少的稀疏矩阵空间浪费大\n",
    ">\n",
    "> 邻接表：在一个有v个顶点的图中，用长度为v的数组A表示，A[i]是一个列表，表示和顶点i相邻的顶点\n",
    ">> 优点：占用空间小\n",
    ">>\n",
    ">> 缺点：操作相对复杂，需要用支持快速查找的动态数据结构，比如跳表、红黑树，替代列表\n",
    "\n",
    "## 搜索算法\n",
    "\n",
    "> BFS(Breadth First Search)：“地毯式”搜索，每次遍历一层顶点\n",
    ">\n",
    "> DFS(Deepth First Search)：“走迷宫”搜索，沿着一条路走到头，没路时沿路返回\n",
    "\n",
    "### 复杂度分析\n",
    "\n",
    "> time complexity\n",
    ">> BFS：遍历每个节点，O(V)\n",
    ">> DFS：遍历每个节点，O(V)\n",
    "\n",
    "> space complexity\n",
    ">> BFS, DFS：需要 adj、visited，O(V)"
   ]
  },
  {
   "cell_type": "code",
   "execution_count": 26,
   "metadata": {},
   "outputs": [],
   "source": [
    "class Graph:\n",
    "    def __init__(self, v):\n",
    "        self.v = v\n",
    "        self.adj = [[] for _ in range(self.v)]\n",
    "    \n",
    "    def add_edge(self, s, t):\n",
    "        self.adj[s].append(t)\n",
    "        self.adj[t].append(s)\n",
    "\n",
    "g = Graph(8)\n",
    "g.add_edge(0, 1)\n",
    "g.add_edge(0, 3)\n",
    "g.add_edge(1, 2)\n",
    "g.add_edge(1, 4)\n",
    "g.add_edge(2, 5)\n",
    "g.add_edge(3, 4)\n",
    "g.add_edge(4, 5)\n",
    "g.add_edge(4, 6)\n",
    "g.add_edge(5, 7)\n",
    "g.add_edge(6, 7)"
   ]
  },
  {
   "cell_type": "code",
   "execution_count": 27,
   "metadata": {},
   "outputs": [
    {
     "data": {
      "text/plain": [
       "[0, 3, 4, 6]"
      ]
     },
     "execution_count": 27,
     "metadata": {},
     "output_type": "execute_result"
    }
   ],
   "source": [
    "from collections import deque\n",
    "\n",
    "# BFS\n",
    "def bfs(g, s, t):\n",
    "    if s == t:\n",
    "        return [t]\n",
    "    queue = deque()\n",
    "    queue.append(s)\n",
    "    visited = [False] * g.v\n",
    "    prev = [-1] * g.v\n",
    "    while queue:\n",
    "        w = queue.popleft()\n",
    "        visited[w] = True\n",
    "        for v in g.adj[w]:\n",
    "            if visited[v]:\n",
    "                continue\n",
    "            prev[v] = w\n",
    "            if v == t:\n",
    "                return path(prev, s, t)\n",
    "            queue.append(v)\n",
    "    return []\n",
    "\n",
    "def path(prev, s, t):\n",
    "    p = []\n",
    "    while prev[t] != -1 and s != t:\n",
    "        p.append(t)\n",
    "        t = prev[t]\n",
    "    p.append(s)\n",
    "    return p[::-1]\n",
    "\n",
    "bfs(g, 0, 6)"
   ]
  },
  {
   "cell_type": "code",
   "execution_count": 28,
   "metadata": {},
   "outputs": [
    {
     "data": {
      "text/plain": [
       "[0, 1, 2, 5, 4, 6]"
      ]
     },
     "execution_count": 28,
     "metadata": {},
     "output_type": "execute_result"
    }
   ],
   "source": [
    "# DFS\n",
    "\n",
    "def dfs(g, s, t):\n",
    "    visited = [False] * g.v\n",
    "    prev = [-1] * g.v\n",
    "    found = False\n",
    "\n",
    "    def recurdfs(g, s, t):\n",
    "        nonlocal visited, prev, found\n",
    "        visited[s] = True\n",
    "        if s == t:\n",
    "            found = True\n",
    "            return\n",
    "        for v in g.adj[s]:\n",
    "            if found:\n",
    "                return\n",
    "            if visited[v]:\n",
    "                continue\n",
    "            prev[v] = s\n",
    "            recurdfs(g, v, t)\n",
    "    \n",
    "    recurdfs(g, s, t)\n",
    "    return path(prev, s, t)\n",
    "\n",
    "dfs(g, 0, 6)\n"
   ]
  }
 ],
 "metadata": {
  "kernelspec": {
   "display_name": ".venv",
   "language": "python",
   "name": "python3"
  },
  "language_info": {
   "codemirror_mode": {
    "name": "ipython",
    "version": 3
   },
   "file_extension": ".py",
   "mimetype": "text/x-python",
   "name": "python",
   "nbconvert_exporter": "python",
   "pygments_lexer": "ipython3",
   "version": "3.13.0"
  }
 },
 "nbformat": 4,
 "nbformat_minor": 2
}
