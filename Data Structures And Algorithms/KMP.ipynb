{
 "cells": [
  {
   "cell_type": "markdown",
   "metadata": {},
   "source": [
    "# KMP 算法\n",
    "\n",
    "> 用于在文本中匹配给定的子串（模式串）\n",
    "> 假设我们现在有这样一个问题：有一个文本串S，一个模式串P，问P出现在S中吗？如果出现，P在S的什么位置？"
   ]
  },
  {
   "cell_type": "markdown",
   "metadata": {},
   "source": [
    "## 暴力算法\n",
    "\n",
    "> 遍历，如果当前遍历到文本位置i，模式串位置j，如果 S[i] == P[j], 则 i+=1, j+=1 继续匹配下一个位置；否则 i = i - (j-1), j = 0，相当于模式串右移一位，从模式串头对齐的位置匹配"
   ]
  },
  {
   "cell_type": "code",
   "execution_count": 16,
   "metadata": {},
   "outputs": [
    {
     "data": {
      "text/plain": [
       "2"
      ]
     },
     "execution_count": 16,
     "metadata": {},
     "output_type": "execute_result"
    }
   ],
   "source": [
    "# brute force solution\n",
    "def violent_match(s, p):\n",
    "    s_len = len(s)\n",
    "    p_len = len(p)\n",
    "    i = 0\n",
    "    while i <= s_len - p_len:\n",
    "        j = 0\n",
    "        while j < p_len and s[i] == p[j]:\n",
    "            i += 1\n",
    "            j += 1\n",
    "        \n",
    "        if j == p_len:\n",
    "            return i - j\n",
    "        else:\n",
    "            i = i - j + 1\n",
    "    return -1\n",
    "\n",
    "violent_match(\"hello\", \"ll\")"
   ]
  },
  {
   "cell_type": "markdown",
   "metadata": {},
   "source": [
    "### 暴力算法的缺点\n",
    "\n",
    "> 当 S[i] != P[j] 时，暴力算法回退比较 S[i-j+1] 和 P[0]，之前已经知道S[i-j+1] = P[1] (假设 j > 1), 所以等同于比较 P[0] 和 P[1]，这是已知的信息，有没有什么办法利用模式串的信息来优化算法呢\n",
    "\n",
    "## KMP 算法\n",
    "\n",
    "> 这里先对 KMP 的流程进行概述，然后再详细解释\n",
    "\n",
    "> 1. 当 S[i] == P[j] 时，比较S[++i] 和 P[++j]\n",
    "> 2. 当 S[i] != P[j] 时，比较S[++i] 和 P[next[j-1]]（j>0），或者比较S[++i] 和 P[j]（j==0）\n",
    "> 3. 当 j == p_len 时，在S中找到模式串的位置i - j, 匹配结束\n",
    "> 4. 当 i == s_len 时，无匹配，匹配结束\n",
    "\n",
    "\n",
    "### next 数组\n",
    "\n",
    "> 不同的实现方式有不同的定义，这里是其中一种定义\n",
    "> 定义：next 数组的值是对应的子串（比如下标i，对应P[:i+1]）的前缀、后缀中公共元素的最大长度（下文简称最大长度）\n",
    "\n",
    "\n",
    "### 字符串的前缀、后缀\n",
    "\n",
    "> 前缀：不包括尾字符，所有包括头字符的子串组合\n",
    "> 后缀：不包括头字符，所有包括尾字符的子串组合\n",
    "\n",
    "#### 举个例子\n",
    "> 字符串：abcab\n",
    "> 前缀：[abca, abc, ab, a]\n",
    "> 后缀：[b, ab, cab, bcab]\n",
    "> next数组\n",
    "> 1. next[0] 对应的子串是：a，最大长度是：0\n",
    "> 2. next[1] 对应的子串是：ab，最大长度是：0\n",
    "> 3. next[2] 对应的子串是：abc，最大长度是：0\n",
    "> 4. next[3] 对应的子串是：abca，最大长度是：1\n",
    "> 5. next[4] 对应的子串是：abcab，最大长度是：2\n",
    "\n",
    "\n",
    "#### next数组实现\n",
    "\n",
    "> 1. next[0] = 0, j=0（记录前缀的位置），i=1（记录后缀的位置）\n",
    "> 2. 如果 j>0 且 P[j] != P[i], j=next[j-1]\n",
    "> 3. 如果 P[j] == P[i], j++\n",
    "> 4. next[i] = j"
   ]
  },
  {
   "cell_type": "code",
   "execution_count": 26,
   "metadata": {},
   "outputs": [
    {
     "data": {
      "text/plain": [
       "[0, 0, 1, 2, 3, 0, 1]"
      ]
     },
     "execution_count": 26,
     "metadata": {},
     "output_type": "execute_result"
    }
   ],
   "source": [
    "# next数组实现\n",
    "def build_next(p):\n",
    "    l = len(p)\n",
    "    next = [0] * l\n",
    "    j = 0\n",
    "    for i in range(1, l):\n",
    "        while j > 0 and p[i] != p[j]:\n",
    "            j = next[j - 1]\n",
    "        if p[i] == p[j]:\n",
    "            j += 1\n",
    "            next[i] = j\n",
    "    return next\n",
    "\n",
    "build_next(\"ababaca\")"
   ]
  },
  {
   "cell_type": "code",
   "execution_count": 20,
   "metadata": {},
   "outputs": [
    {
     "data": {
      "text/plain": [
       "2"
      ]
     },
     "execution_count": 20,
     "metadata": {},
     "output_type": "execute_result"
    }
   ],
   "source": [
    "# KMP算法实现\n",
    "def kmp(s, p):\n",
    "    s_len = len(s)\n",
    "    p_len = len(p)\n",
    "    next = build_next(p)\n",
    "    j = 0\n",
    "    for i in range(s_len):\n",
    "        while j > 0 and s[i] != p[j]:\n",
    "            j = next[j - 1]\n",
    "        if s[i] == p[j]:\n",
    "            j += 1\n",
    "        if j == p_len:\n",
    "            return i - j + 1\n",
    "\n",
    "kmp(\"hello\", \"ll\")"
   ]
  },
  {
   "cell_type": "markdown",
   "metadata": {},
   "source": [
    "## 扩展\n",
    "\n",
    "### BM 算法\n",
    "\n",
    "> 整体流程\n",
    "> 1. 从模式串的尾部开始比较，初始化：i=0，skip=j=p_len-1\n",
    "> 2. 如果S[i+p_len-1] == p[j], 比较S[i+-1]和P[--j]\n",
    "> 3. 否则，S[i+] 称之为坏字符，坏字符规则：P向右移动位数 = 坏字符对应P的位置 - 坏字符在P[:j]中出现的最右位置，如果没有出现，位置则为-1\n",
    "> 4. 另外一种情况是，当S[i] != P[j]时，后面几位如：S[i+1] = P[j+1] …… S[i+k] = P[j+k] (j+k = p_len-1) 都已经匹配上，S[：i+p_len-1]称为好尾缀，这时可以用好尾缀规则：P向右移动位数 = 好尾缀位置 - 好尾缀在P中上一次出现的位置，如果没有出现，上一次位置则为-1\n",
    "> 5. 比较坏字符规则和好尾缀规则，取移动位置较大的那个\n",
    "> 6. P移动后，重新从尾部开始比较。直到完全匹配或者P移动出S的尾部"
   ]
  },
  {
   "cell_type": "code",
   "execution_count": null,
   "metadata": {},
   "outputs": [],
   "source": [
    "def bad_char_heuristic(p):\n",
    "    l = len(p)\n",
    "    bc = {}\n",
    "    for i in range(l):\n",
    "        bc[p[i]] = i\n",
    "    return bc"
   ]
  }
 ],
 "metadata": {
  "kernelspec": {
   "display_name": "Python 3",
   "language": "python",
   "name": "python3"
  },
  "language_info": {
   "codemirror_mode": {
    "name": "ipython",
    "version": 3
   },
   "file_extension": ".py",
   "mimetype": "text/x-python",
   "name": "python",
   "nbconvert_exporter": "python",
   "pygments_lexer": "ipython3",
   "version": "3.11.11"
  }
 },
 "nbformat": 4,
 "nbformat_minor": 2
}
