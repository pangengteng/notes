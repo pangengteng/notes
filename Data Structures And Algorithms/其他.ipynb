{
 "cells": [
  {
   "cell_type": "markdown",
   "metadata": {},
   "source": [
    "## 并查集（DSU / Disjoint Set Union）\n",
    "\n",
    "### 应用场景\n",
    "> 1. 查找元素所属集合 / 判断两个元素是否属于同一集合\n",
    "> 2. 合并两个集合\n",
    "\n",
    "### 核心逻辑\n",
    "> 一共有 n 个元素，标记为0 ～ n-1，初始每个元素都是独立的，用 parent 数组 [0, 1, ... , n-1] 表示每个元素所属的集合\n",
    "> 查找元素 x 所属的集合（根节点/集合代表节点）：如果 parent[x] = x 则返回 x，否则递归查找 parent[x]\n",
    "> 合并元素 x，y所属的集合：找出 parent[x]，parent[y]，把 x 的根节点指向 y 的根节点，parent[parent[x]] = parent[y]\n",
    "\n",
    "### 进一步优化\n",
    "> 查找问题：每次查找都要沿途找到跟节点\n",
    ">\n",
    "> 优化思路\n",
    "> 1. 路径压缩：在查找过程中，更新沿途节点的根节点\n",
    "\n",
    "> 合并问题：合并时会碰到一个问题，是把 x 合并到 y 上好，还是反过来好？\n",
    ">\n",
    "> 优化思路\n",
    "> 1. 按秩合并：用一个数组 rank，记录以当前节点为根节点的树高，合并时把 rank 小的树合并到 rank 大的树上去。\n",
    "> 2. 按大小合并：用一个数组 size，记录以当前节点为根节点的树大小（节点数量），合并时把 size 小的树合并到 size 大的树上去。\n",
    "\n",
    "### 经典问题\n"
   ]
  },
  {
   "cell_type": "code",
   "execution_count": null,
   "metadata": {},
   "outputs": [],
   "source": [
    "class DSU:\n",
    "    def __init__(self, n):\n",
    "        self.parent = list(range(n))\n",
    "        self.rank = [0] * n # self.size = [1] * n\n",
    "\n",
    "    def find(self, x):\n",
    "        if self.parent[x] != x:\n",
    "            self.parent[x] = self.find(self.parent[x])\n",
    "        return self.parent[x]\n",
    "\n",
    "    def union(self, x, y):\n",
    "        rx = self.find(x)\n",
    "        ry = self.find(y)\n",
    "\n",
    "        if rx == ry:\n",
    "            return\n",
    "        \n",
    "        if self.rank[rx] < self.rank[ry]:\n",
    "            self.parent[rx] = ry\n",
    "        elif self.rank[ry] < self.rank[rx]:\n",
    "            self.parent[ry] = rx\n",
    "        else:\n",
    "            self.parent[ry] = rx\n",
    "            self.rank[rx] += 1\n",
    "        \n",
    "        return\n",
    "\n",
    "        # size-base union\n",
    "        if self.size[rx] < self.size[ry]:\n",
    "            self.parent[rx] = ry\n",
    "            self.size[ry] += self.size[rx]\n",
    "        else:\n",
    "            self.parent[ry] = rx\n",
    "            self.size[rx] += slef.size[ry]"
   ]
  }
 ],
 "metadata": {
  "language_info": {
   "name": "python"
  }
 },
 "nbformat": 4,
 "nbformat_minor": 2
}
