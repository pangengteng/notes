{
 "cells": [
  {
   "cell_type": "markdown",
   "metadata": {},
   "source": [
    "# 树\n",
    "\n",
    "> 由一个个节点连接而成，每个节点只能从一条路径访问到\n",
    "\n",
    "## 核心概念\n",
    "\n",
    "> 父节点：节点在路径中前一个节点\n",
    ">\n",
    "> 子节点：节点在路径中的后续节点\n",
    ">\n",
    "> 根节点：入口节点\n",
    ">\n",
    "> 叶子节点：没有子节点\n",
    ">\n",
    "> 兄弟节点：拥有同一个父节点\n",
    ">\n",
    "> 节点高度：节点到叶子节点的最长路径\n",
    ">\n",
    "> 节点深度：根节点到节点的路径\n",
    ">\n",
    "> 层数：深度+1\n",
    "\n",
    "## 二叉树\n",
    "\n",
    "> 最多拥有2个子节点\n",
    ">\n",
    "> 满二叉树（Full Binary Tree）：除了最后一层的叶子节点，其他节点都拥有2个子节点。或者说，每个节点都有0或者2个子节点\n",
    ">\n",
    "> 完全二叉树（Complete Binary Tree）：可能除了最后一层，其他层是完全填满的，并且最后一层节点从左往右是连续的\n",
    ">\n",
    "> 完美二叉树（Perfect Binary Tree）：每个节点都有两个子节点，并且叶子节点在同一层\n",
    "\n",
    "### 二叉树的数据结构\n",
    "\n",
    "> 链表存储：最常见\n",
    ">\n",
    "> 数组存储：适用于完全二叉树。根节点存储在数组下标1的位置，如果父节点的下标为i，左子节点的下标为2i，右子节点的下标为：2i+1\n",
    "\n",
    "### 二叉树的遍历"
   ]
  },
  {
   "cell_type": "code",
   "execution_count": 4,
   "metadata": {},
   "outputs": [],
   "source": [
    "from IPython.core.interactiveshell import InteractiveShell\n",
    "InteractiveShell.ast_node_interactivity = \"all\""
   ]
  },
  {
   "cell_type": "code",
   "execution_count": 50,
   "metadata": {},
   "outputs": [],
   "source": [
    "# Tree Node\n",
    "class Node:\n",
    "    def __init__(self, value, left=None, right=None):\n",
    "        self.value = value\n",
    "        self.left = left\n",
    "        self.right = right\n",
    "    \n",
    "    def __repr__(self):\n",
    "        return f\"Node({self.value}, {self.left}, {self.right})\"\n",
    "\n",
    "node = Node(1, Node(2, Node(4), Node(5)), Node(3, Node(6), Node(7)))"
   ]
  },
  {
   "cell_type": "markdown",
   "metadata": {},
   "source": [
    "#### 前序遍历\n",
    "\n",
    "> 根节点 -> 左子节点 -> 右子节点"
   ]
  },
  {
   "cell_type": "code",
   "execution_count": 71,
   "metadata": {},
   "outputs": [
    {
     "name": "stdout",
     "output_type": "stream",
     "text": [
      "1\n",
      "2\n",
      "4\n",
      "5\n",
      "3\n",
      "6\n",
      "7\n"
     ]
    }
   ],
   "source": [
    "def pre_order(node):\n",
    "    if node is None:\n",
    "        return\n",
    "    print(node.value)\n",
    "    pre_order(node.left)\n",
    "    pre_order(node.right)\n",
    "\n",
    "pre_order(node)"
   ]
  },
  {
   "cell_type": "code",
   "execution_count": 72,
   "metadata": {},
   "outputs": [
    {
     "name": "stdout",
     "output_type": "stream",
     "text": [
      "1\n",
      "2\n",
      "4\n",
      "5\n",
      "3\n",
      "6\n",
      "7\n"
     ]
    }
   ],
   "source": [
    "def pre_order_stack(node):\n",
    "    stack = [node]\n",
    "    while stack:\n",
    "        node = stack.pop()\n",
    "        if not node:\n",
    "            continue\n",
    "        print(node.value)\n",
    "        stack.append(node.right)\n",
    "        stack.append(node.left)\n",
    "\n",
    "pre_order_stack(node)"
   ]
  },
  {
   "cell_type": "markdown",
   "metadata": {},
   "source": [
    "#### 中序遍历\n",
    "\n",
    "> 左子节点 -> 根节点 -> 右子节点"
   ]
  },
  {
   "cell_type": "code",
   "execution_count": 73,
   "metadata": {},
   "outputs": [
    {
     "name": "stdout",
     "output_type": "stream",
     "text": [
      "4\n",
      "2\n",
      "5\n",
      "1\n",
      "6\n",
      "3\n",
      "7\n"
     ]
    }
   ],
   "source": [
    "def in_order(node):\n",
    "    if not node:\n",
    "        return\n",
    "    in_order(node.left)\n",
    "    print(node.value)\n",
    "    in_order(node.right)\n",
    "\n",
    "in_order(node)"
   ]
  },
  {
   "cell_type": "code",
   "execution_count": 74,
   "metadata": {},
   "outputs": [
    {
     "name": "stdout",
     "output_type": "stream",
     "text": [
      "4\n",
      "2\n",
      "5\n",
      "1\n",
      "6\n",
      "3\n",
      "7\n"
     ]
    }
   ],
   "source": [
    "def in_order_stack(node):\n",
    "    stack = []\n",
    "    while stack or node:\n",
    "        while node:\n",
    "            stack.append(node)\n",
    "            node = node.left\n",
    "\n",
    "        node = stack.pop()\n",
    "        print(node.value)\n",
    "        node = node.right\n",
    "\n",
    "in_order_stack(node)"
   ]
  },
  {
   "cell_type": "markdown",
   "metadata": {},
   "source": [
    "#### 后续遍历\n",
    "\n",
    "> 左子节点 -> 右子节点 -> 根节点"
   ]
  },
  {
   "cell_type": "code",
   "execution_count": 75,
   "metadata": {},
   "outputs": [
    {
     "name": "stdout",
     "output_type": "stream",
     "text": [
      "4\n",
      "5\n",
      "2\n",
      "6\n",
      "7\n",
      "3\n",
      "1\n"
     ]
    }
   ],
   "source": [
    "def post_order(node):\n",
    "    if not node:\n",
    "        return\n",
    "    post_order(node.left)\n",
    "    post_order(node.right)\n",
    "    print(node.value)\n",
    "\n",
    "post_order(node)"
   ]
  },
  {
   "cell_type": "code",
   "execution_count": 76,
   "metadata": {},
   "outputs": [
    {
     "name": "stdout",
     "output_type": "stream",
     "text": [
      "[4, 5, 2, 6, 7, 3, 1]\n"
     ]
    }
   ],
   "source": [
    "def post_order_stack(node):\n",
    "    stack, out = [node], []\n",
    "    while stack:\n",
    "        node = stack.pop()\n",
    "        if not node:\n",
    "            continue\n",
    "        out.append(node.value)\n",
    "        stack.append(node.left)\n",
    "        stack.append(node.right)\n",
    "    print(out[::-1])\n",
    "\n",
    "post_order_stack(node)"
   ]
  },
  {
   "cell_type": "markdown",
   "metadata": {},
   "source": [
    "#### 按层级从左到右遍历"
   ]
  },
  {
   "cell_type": "code",
   "execution_count": 51,
   "metadata": {},
   "outputs": [
    {
     "name": "stdout",
     "output_type": "stream",
     "text": [
      "1\n",
      "2\n",
      "3\n",
      "4\n",
      "5\n",
      "6\n",
      "7\n"
     ]
    }
   ],
   "source": [
    "def layer_order(node):\n",
    "    if node is None:\n",
    "        return\n",
    "    cur = [node]\n",
    "    next = []\n",
    "    while cur:\n",
    "        for node in cur:\n",
    "            print(node.value)\n",
    "            if node.left:\n",
    "                next.append(node.left)\n",
    "            if node.right:\n",
    "                next.append(node.right)\n",
    "        cur = next\n",
    "        next = []\n",
    "\n",
    "layer_order(node)"
   ]
  },
  {
   "cell_type": "code",
   "execution_count": 52,
   "metadata": {},
   "outputs": [
    {
     "name": "stdout",
     "output_type": "stream",
     "text": [
      "1\n",
      "2\n",
      "3\n",
      "4\n",
      "5\n",
      "6\n",
      "7\n"
     ]
    }
   ],
   "source": [
    "from collections import deque\n",
    "\n",
    "\n",
    "def layer_order_v2(node):\n",
    "    queue = deque(node)\n",
    "    while queue:\n",
    "        node = queue.popleft()\n",
    "        if not node:\n",
    "            continue\n",
    "        print(node.value)\n",
    "        queue.append(node.left)\n",
    "        queue.append(node.right)\n",
    "\n",
    "layer_order(node)"
   ]
  },
  {
   "cell_type": "markdown",
   "metadata": {},
   "source": [
    "#### 序列化 & 反序列化"
   ]
  },
  {
   "cell_type": "code",
   "execution_count": null,
   "metadata": {},
   "outputs": [],
   "source": [
    "class Codec:\n",
    "    def serialize(self, root):\n",
    "        \"\"\"Encodes a tree to a single string.\n",
    "        \n",
    "        :type root: TreeNode\n",
    "        :rtype: str\n",
    "        \"\"\"\n",
    "        def dfs(node):\n",
    "            if not node:\n",
    "                return \"null,\"\n",
    "            return f\"{node.val},\" + dfs(node.left) + dfs(node.right)\n",
    "\n",
    "        return dfs(root)\n",
    "\n",
    "        # bfs shown below\n",
    "        res = []\n",
    "        queue = deque([root])\n",
    "        while queue:\n",
    "            node = queue.popleft()\n",
    "            if not node:\n",
    "                res.append(\"null\")\n",
    "                continue\n",
    "            res.append(str(node.val))\n",
    "            queue.append(node.left)\n",
    "            queue.append(node.right)\n",
    "        \n",
    "        return \",\".join(res)\n",
    "\n",
    "    def deserialize(self, data):\n",
    "        \"\"\"Decodes your encoded data to tree.\n",
    "        \n",
    "        :type data: str\n",
    "        :rtype: TreeNode\n",
    "        \"\"\"\n",
    "        if not data:\n",
    "            return None\n",
    "        vals = data.split(\",\")\n",
    "        def dfs():\n",
    "            val = vals.pop(0)\n",
    "            if val == \"null\":\n",
    "                return None\n",
    "            node = Node(int(val))\n",
    "            node.left = dfs()\n",
    "            node.right = dfs()\n",
    "\n",
    "            return node\n",
    "        \n",
    "        return dfs()\n",
    "\n",
    "        # bfs shown below\n",
    "        vals = data.split(\",\")\n",
    "        if vals[0] == \"null\":\n",
    "            return None\n",
    "        \n",
    "        root = Node(int(vals[0]))\n",
    "        queue = deque([root])\n",
    "        i = 1\n",
    "        while queue:\n",
    "            node = queue.popleft()\n",
    "            if vals[i] != \"null\":\n",
    "                node.left = Node(int(vals[i]))\n",
    "                queue.append(node.left)\n",
    "            i += 1\n",
    "            if vals[i] != \"null\":\n",
    "                node.right = Node(int(vals[i]))\n",
    "                queue.append(node.right)\n",
    "            i += 1\n",
    "        return root\n"
   ]
  },
  {
   "cell_type": "markdown",
   "metadata": {},
   "source": [
    "#### 多叉树序列号 & 反序列化"
   ]
  },
  {
   "cell_type": "code",
   "execution_count": 25,
   "metadata": {},
   "outputs": [
    {
     "name": "stdout",
     "output_type": "stream",
     "text": [
      "Serialized: 1,3,2,0,3,2,5,0,6,0,4,0\n",
      "Re-Serialized: 1,3,2,0,3,2,5,0,6,0,4,0\n"
     ]
    }
   ],
   "source": [
    "class TreeNode:\n",
    "    def __init__(self, val, children=None):\n",
    "        self.val = val\n",
    "        self.children = children if children else []\n",
    "\n",
    "class TreeCodec:\n",
    "    def serialize(self, root):\n",
    "        res = []\n",
    "        def dfs(node):\n",
    "            if not node:\n",
    "                return\n",
    "            res.append(str(node.val))\n",
    "            res.append(str(len(node.children)))\n",
    "            for child in node.children:\n",
    "                dfs(child)\n",
    "        \n",
    "        dfs(root)\n",
    "        return \",\".join(res)\n",
    "\n",
    "    def deserialize(self, data):\n",
    "        if not data:\n",
    "            return None\n",
    "        vals = iter(data.split(\",\"))\n",
    "        \n",
    "        def dfs():\n",
    "            val = int(next(vals))\n",
    "            children_size = int(next(vals))\n",
    "            node = TreeNode(val)\n",
    "            node.children = [dfs() for _ in range(children_size)]\n",
    "            return node\n",
    "        \n",
    "        return dfs()\n",
    "\n",
    "root = TreeNode(1, [\n",
    "    TreeNode(2),\n",
    "    TreeNode(3, [TreeNode(5), TreeNode(6)]),\n",
    "    TreeNode(4)\n",
    "])\n",
    "\n",
    "\n",
    "treecodec = TreeCodec()\n",
    "data = treecodec.serialize(root)\n",
    "print(\"Serialized:\", data)\n",
    "\n",
    "root2 = treecodec.deserialize(data)\n",
    "print(\"Re-Serialized:\", treecodec.serialize(root2))"
   ]
  },
  {
   "cell_type": "markdown",
   "metadata": {},
   "source": [
    "#### 求树的高度"
   ]
  },
  {
   "cell_type": "code",
   "execution_count": 78,
   "metadata": {},
   "outputs": [
    {
     "data": {
      "text/plain": [
       "3"
      ]
     },
     "execution_count": 78,
     "metadata": {},
     "output_type": "execute_result"
    },
    {
     "data": {
      "text/plain": [
       "3"
      ]
     },
     "execution_count": 78,
     "metadata": {},
     "output_type": "execute_result"
    }
   ],
   "source": [
    "# 按层遍历\n",
    "def tree_height(root):\n",
    "    if not root:\n",
    "        return 0\n",
    "    height = 0\n",
    "    cur = [root]\n",
    "    next = []\n",
    "    while cur:\n",
    "        height += 1\n",
    "        for node in cur:\n",
    "            if node.left:\n",
    "                next.append(node.left)\n",
    "            if node.right:\n",
    "                next.append(node.right)\n",
    "        cur = next\n",
    "        next = []\n",
    "    return height\n",
    "\n",
    "tree_height(node)\n",
    "\n",
    "# recursion\n",
    "def tree_height_v2(root):\n",
    "    if not root:\n",
    "        return 0\n",
    "    return 1 + max(tree_height_v2(root.left), tree_height_v2(root.right))\n",
    "\n",
    "tree_height_v2(node)"
   ]
  },
  {
   "cell_type": "markdown",
   "metadata": {},
   "source": [
    "## 二叉查找树\n",
    "\n",
    "> 节点的值大于左子树所有节点的值，小于等于右子树所有节点的值，按中序遍历可得升序排序的数组\n",
    "\n",
    "### 常见的操作"
   ]
  },
  {
   "cell_type": "code",
   "execution_count": 79,
   "metadata": {},
   "outputs": [],
   "source": [
    "bst = Node(4, Node(2, Node(1), Node(3)), Node(6, Node(5), Node(7)))"
   ]
  },
  {
   "cell_type": "code",
   "execution_count": 80,
   "metadata": {},
   "outputs": [
    {
     "data": {
      "text/plain": [
       "Node(6, Node(5, None, None), Node(7, None, None))"
      ]
     },
     "execution_count": 80,
     "metadata": {},
     "output_type": "execute_result"
    }
   ],
   "source": [
    "# search in binary search tree (BST) with different value\n",
    "def search_bst(root, val):\n",
    "    while root and root.value != val:\n",
    "        if root.value > val:\n",
    "            root = root.left\n",
    "        else:\n",
    "            root = root.right\n",
    "    \n",
    "    return root\n",
    "\n",
    "search_bst(bst, 6)"
   ]
  },
  {
   "cell_type": "code",
   "execution_count": 81,
   "metadata": {},
   "outputs": [
    {
     "data": {
      "text/plain": [
       "Node(4, Node(2, Node(1, None, None), Node(3, None, None)), Node(6, Node(5, None, None), Node(7, None, Node(8, None, None))))"
      ]
     },
     "execution_count": 81,
     "metadata": {},
     "output_type": "execute_result"
    }
   ],
   "source": [
    "# add node to bst\n",
    "def insert_into_bst(root, val):\n",
    "    if not root:\n",
    "        return Node(val)\n",
    "    cur = root\n",
    "    while True:\n",
    "        if cur.value > val:\n",
    "            if cur.left:\n",
    "                cur = cur.left\n",
    "            else:\n",
    "                cur.left = Node(val)\n",
    "                return root\n",
    "        else:\n",
    "            if cur.right:\n",
    "                cur = cur.right\n",
    "            else:\n",
    "                cur.right = Node(val)\n",
    "                return root\n",
    "\n",
    "insert_into_bst(bst, 8)"
   ]
  },
  {
   "cell_type": "code",
   "execution_count": 82,
   "metadata": {},
   "outputs": [
    {
     "data": {
      "text/plain": [
       "Node(4, Node(2, Node(1, None, None), Node(3, None, None)), Node(6, Node(5, None, None), Node(7, None, None)))"
      ]
     },
     "execution_count": 82,
     "metadata": {},
     "output_type": "execute_result"
    }
   ],
   "source": [
    "# delete node from bst\n",
    "def delete_node(root, key):\n",
    "    if not root:\n",
    "        return root\n",
    "    \n",
    "    pp = None\n",
    "    p = root\n",
    "    while p and p.value != key:\n",
    "        pp = p\n",
    "        if p.value > key:\n",
    "            p = p.left\n",
    "        else:\n",
    "            p = p.right\n",
    "    \n",
    "    if not p:\n",
    "        return root\n",
    "    \n",
    "    if p.left and p.right:\n",
    "        min_pp = p\n",
    "        min_p = p.right\n",
    "        while min_p.left:\n",
    "            min_pp, min_p = min_p, min_p.left\n",
    "        p.value = min_p.value\n",
    "        pp, p = min_pp, min_p\n",
    "\n",
    "    child = p.left if p.left else p.right\n",
    "\n",
    "    if not pp:\n",
    "        return child\n",
    "    \n",
    "    if pp.left == p:\n",
    "        pp.left = child\n",
    "    else:\n",
    "        pp.right = child\n",
    "    \n",
    "    return root\n",
    "\n",
    "\n",
    "delete_node(bst, 8)"
   ]
  },
  {
   "cell_type": "code",
   "execution_count": 83,
   "metadata": {},
   "outputs": [
    {
     "data": {
      "text/plain": [
       "1"
      ]
     },
     "execution_count": 83,
     "metadata": {},
     "output_type": "execute_result"
    }
   ],
   "source": [
    "# find minimum value\n",
    "def minimum_in_bst(root):\n",
    "    while root:\n",
    "        if root.left:\n",
    "            root = root.left\n",
    "        else:\n",
    "            return root.value\n",
    "\n",
    "minimum_in_bst(bst)"
   ]
  },
  {
   "cell_type": "code",
   "execution_count": 84,
   "metadata": {},
   "outputs": [
    {
     "data": {
      "text/plain": [
       "7"
      ]
     },
     "execution_count": 84,
     "metadata": {},
     "output_type": "execute_result"
    }
   ],
   "source": [
    "# find maximum value\n",
    "def maximum_in_bst(root):\n",
    "    while root:\n",
    "        if root.right:\n",
    "            root = root.right\n",
    "        else:\n",
    "            return root.value\n",
    "\n",
    "maximum_in_bst(bst)"
   ]
  },
  {
   "cell_type": "code",
   "execution_count": 85,
   "metadata": {},
   "outputs": [],
   "source": [
    "class Path:\n",
    "    def __init__(self, value, parent=None):\n",
    "        self.value = value\n",
    "        self.parent = parent"
   ]
  },
  {
   "cell_type": "code",
   "execution_count": 86,
   "metadata": {},
   "outputs": [
    {
     "data": {
      "text/plain": [
       "2"
      ]
     },
     "execution_count": 86,
     "metadata": {},
     "output_type": "execute_result"
    },
    {
     "data": {
      "text/plain": [
       "3"
      ]
     },
     "execution_count": 86,
     "metadata": {},
     "output_type": "execute_result"
    },
    {
     "data": {
      "text/plain": [
       "4"
      ]
     },
     "execution_count": 86,
     "metadata": {},
     "output_type": "execute_result"
    }
   ],
   "source": [
    "# find the biggest one which smaller than value\n",
    "def precursor_node(root, val):\n",
    "    pp = None\n",
    "    pl = None\n",
    "    # path = Path(root)\n",
    "    while root and root.value != val:\n",
    "        pp = root\n",
    "        if root.value > val:\n",
    "            root = root.left\n",
    "        else:\n",
    "            root = root.right\n",
    "        \n",
    "        if pp.right == root:\n",
    "            pl = pp\n",
    "        # path = Path(root, path)\n",
    "    \n",
    "    if not root:\n",
    "        return None\n",
    "\n",
    "    if not root.left:\n",
    "        return pl.value if pl else None\n",
    "\n",
    "        while path.parent and path.parent.value.right != path.value:\n",
    "            path = path.parent\n",
    "        \n",
    "        if path.parent:\n",
    "            return path.parent.value.value\n",
    "        else:\n",
    "            return None\n",
    "    \n",
    "    root = root.left\n",
    "    while root.right:\n",
    "        root = root.right\n",
    "    \n",
    "    return root.value\n",
    "\n",
    "precursor_node(bst, 3)\n",
    "precursor_node(bst, 4)\n",
    "precursor_node(bst, 5)"
   ]
  },
  {
   "cell_type": "code",
   "execution_count": 87,
   "metadata": {},
   "outputs": [
    {
     "data": {
      "text/plain": [
       "4"
      ]
     },
     "execution_count": 87,
     "metadata": {},
     "output_type": "execute_result"
    },
    {
     "data": {
      "text/plain": [
       "5"
      ]
     },
     "execution_count": 87,
     "metadata": {},
     "output_type": "execute_result"
    },
    {
     "data": {
      "text/plain": [
       "6"
      ]
     },
     "execution_count": 87,
     "metadata": {},
     "output_type": "execute_result"
    }
   ],
   "source": [
    "# find the smallest one which bigger than value\n",
    "def successor_node(root, val):\n",
    "    pp = None\n",
    "    pr = None\n",
    "    # path = Path(root)\n",
    "    while root and root.value != val:\n",
    "        pp = root\n",
    "        if root.value > val:\n",
    "            root = root.left\n",
    "        else:\n",
    "            root = root.right\n",
    "            \n",
    "        if pp.left == root:\n",
    "            pr = pp\n",
    "        # path = Path(root, path)\n",
    "    \n",
    "    if not root.right:\n",
    "        return pr.value if pr else None\n",
    "\n",
    "        while path.parent and path.parent.value.left != path.value:\n",
    "            path = path.parent\n",
    "        \n",
    "        if path.parent:\n",
    "            return path.parent.value.value\n",
    "        else:\n",
    "            return None\n",
    "    \n",
    "    root = root.right\n",
    "    while root.left:\n",
    "        root = root.left\n",
    "    \n",
    "    return root.value\n",
    "\n",
    "successor_node(bst, 3)\n",
    "successor_node(bst, 4)\n",
    "successor_node(bst, 5)"
   ]
  },
  {
   "cell_type": "markdown",
   "metadata": {},
   "source": [
    "### 时间复杂度分析\n",
    "\n",
    "> 当BST退化成链表时，最差时间复杂度为O(n)，也等于O(height)\n",
    ">\n",
    "> 当BST是完全二叉树时，遍历跟height有关，height在[log(n+1)-1, logn]之间，所以最差时间复杂度为O(logn)\n",
    "\n",
    "> 可见性能和树的高度有关，平衡二叉搜索树高度接近logn\n",
    "\n",
    "### 平衡二叉搜索树对比hash表的优势\n",
    "\n",
    "> 1. 数据有序\n",
    "> 2. hash表扩容、hash冲突导致性能不稳定\n",
    "> 3. hash表设计相对比较复杂，要考虑hash函数设计，hash冲突、扩缩容解决方法。平衡二叉搜索树之需要考虑平衡问题\n",
    "\n",
    "\n",
    "## 平衡二叉搜索树\n",
    "\n",
    "> 严格定义：任一节点的左右子树高度差不超过1\n",
    ">\n",
    "> 常见：AVL树\n",
    "\n",
    "### 红黑树（Red-Black Tree）\n",
    "\n",
    "> 工程应用中一种流行的“不严格”的平衡二叉搜索树，子节点的高度差可能达到一倍\n",
    ">\n",
    "> 定义：节点被标记为黑色或者红色\n",
    "> 1. 根节点是黑色\n",
    "> 2. 每个叶子节点是黑色的空节点，也就是叶子节点不存储数据\n",
    "> 3. 任何相邻的节点不能同时为红色\n",
    "> 4. 根节点到子节点的所有路径上的黑色节点数量一致\n",
    ">\n",
    "> 优点：常见操作保持对数级复杂度，且为了保持相对平衡成本比较低\n",
    "\n",
    "#### 插入\n",
    "\n",
    "> A. 按照bst算法找到插入点插入，标红\n",
    ">\n",
    "> B. 进入下面调整逻辑\n",
    "> 1. 如果没有父节点或者父节点黑，结束\n",
    "> 2. 如果叔节点红，父、叔标黑，祖标红，关注节点变成祖，进入下一轮\n",
    "> 3. 如果不同边（子在父的左边，父在祖的右边，或着反过来），关注点变成父，旋转，父标黑，祖标红，围绕祖反向旋转，进入下一轮\n",
    "\n",
    "#### 删除\n",
    "\n",
    "[参考](image/TreeMap红黑树源码详解.pdf)\n",
    "\n",
    "#### 复杂度分析\n",
    "\n",
    "> 如果把红色节点去掉，剩下黑色节点构成的树是一颗完全二叉树（根节点到子节点经过的路径上黑节点数量一样），bh（black tree height）和 n 的关系 n >= 2^bh - 1，bh <= log(n+1)\n",
    ">\n",
    "> 因为不会有两个相邻的红色节点，所以根节点到子节点的一条路径上，红色节点数量最多和黑色节点数量一样，所以树高最大值：h = 2bh = 2log(n+1)\n",
    "\n",
    "## 堆\n",
    "\n",
    "> 定义\n",
    "> 1. 完全二叉树\n",
    "> 2. 每个节点值大于等于子节点的值（大顶堆），每个节点值小于等于子节点的值（小顶堆）\n",
    "\n",
    "### 常见操作 & 实现\n",
    "> 使用数组存储\n",
    ">\n",
    "> 插入：从下往上构建堆，依次和父节点比较、交换，时间复杂度O(logn)\n",
    ">\n",
    "> 删除堆顶：把尾节点覆盖根节点，从上往下构建堆，依次和子节点比较、交换，时间复杂度O(logn)\n",
    ">\n",
    "> 建堆：O(n)，从非叶子节点从右往左，自上而下构建，非叶子节点有2^(h-1)个，每个移动1次，再上一层有2^(h-2)个，每个移动2次，以此类推，一共需要移动:2^(h-1)*1 + 2^(h-2)*2 + …… + 1*h = n\n",
    "\n",
    "### 常见应用\n",
    "> 1. 排序\n",
    "> 2. topK\n",
    "> 3. 求中位数\n",
    "> 4. 优先队列"
   ]
  },
  {
   "cell_type": "code",
   "execution_count": null,
   "metadata": {},
   "outputs": [
    {
     "data": {
      "text/plain": [
       "[20, 16, 19, 13, 4, 1, 7, 5, 8]"
      ]
     },
     "execution_count": 20,
     "metadata": {},
     "output_type": "execute_result"
    },
    {
     "data": {
      "text/plain": [
       "[22, 20, 19, 13, 16, 1, 7, 5, 8, 4]"
      ]
     },
     "execution_count": 20,
     "metadata": {},
     "output_type": "execute_result"
    },
    {
     "data": {
      "text/plain": [
       "22"
      ]
     },
     "execution_count": 20,
     "metadata": {},
     "output_type": "execute_result"
    },
    {
     "data": {
      "text/plain": [
       "[20, 16, 19, 13, 4, 1, 7, 5, 8]"
      ]
     },
     "execution_count": 20,
     "metadata": {},
     "output_type": "execute_result"
    },
    {
     "data": {
      "text/plain": [
       "[1, 4, 5, 7, 8, 13, 16, 19, 20]"
      ]
     },
     "execution_count": 20,
     "metadata": {},
     "output_type": "execute_result"
    },
    {
     "data": {
      "text/plain": [
       "[20, 19, 16, 13, 8]"
      ]
     },
     "execution_count": 20,
     "metadata": {},
     "output_type": "execute_result"
    }
   ],
   "source": [
    "# Max Heap\n",
    "class Heap:\n",
    "    def __init__(self, array):\n",
    "        self.array = array\n",
    "        self.count = len(array)\n",
    "        self._build_heap()\n",
    "\n",
    "    def push(self, val):\n",
    "        self.array.append(val)\n",
    "        i = self.count\n",
    "        while ((i - 1) >> 1) >= 0 and self.array[i] > self.array[(i-1)>>1]:\n",
    "            self.array[i], self.array[(i-1)>>1] = self.array[(i-1)>>1], self.array[i]\n",
    "            i = (i - 1) >> 1\n",
    "        self.count += 1\n",
    "    \n",
    "    def pop(self):\n",
    "        if self.count == 0:\n",
    "            return\n",
    "        self.array[0], self.array[-1] = self.array[-1], self.array[0]\n",
    "        top = self.array.pop()\n",
    "        self.count -= 1\n",
    "        Heap._heapify(self.array, self.count, 0)\n",
    "        return top\n",
    "    \n",
    "    @staticmethod\n",
    "    def _heapify(array, n, i):\n",
    "        while True:\n",
    "            max_pos = i\n",
    "            if 2*i+1 < n and array[2*i+1] > array[max_pos]:\n",
    "                max_pos = 2*i+1\n",
    "            \n",
    "            if 2*i+2 < n and array[2*i+2] > array[max_pos]:\n",
    "                max_pos = 2*i+2\n",
    "            \n",
    "            if max_pos == i:\n",
    "                break\n",
    "\n",
    "            array[i], array[max_pos] = array[max_pos], array[i]\n",
    "            i = max_pos\n",
    "    \n",
    "    def _build_heap(self):\n",
    "        '''time complexity O(n)'''\n",
    "        for i in range((self.count-1) >> 1, -1, -1):\n",
    "            Heap._heapify(self.array, self.count, i)\n",
    "    \n",
    "    def sorted(self):\n",
    "        array = self.array[:self.count]\n",
    "        for i in range(len(array)-1, -1, -1):\n",
    "            array[0], array[i] = array[i], array[0]\n",
    "            Heap._heapify(array, i ,0)\n",
    "        return array\n",
    "\n",
    "    # def topK(self, k):\n",
    "    #     array = self.array[:self.count]\n",
    "    #     k = min(k, len(array))\n",
    "    #     for i in range(k):\n",
    "    #         max_pos = len(array)-1-i\n",
    "    #         array[0], array[max_pos] = array[max_pos], array[0]\n",
    "    #         Heap._heapify(array, max_pos ,0)\n",
    "    #     return array[-k:][::-1]\n",
    "\n",
    "\n",
    "\n",
    "array = [7,5,19,8,4,1,20,13,16]\n",
    "\n",
    "heap = Heap(array)\n",
    "array\n",
    "heap.push(22)\n",
    "array\n",
    "heap.pop()\n",
    "array\n",
    "heap.sorted()\n",
    "# heap.topK(5)"
   ]
  },
  {
   "cell_type": "code",
   "execution_count": 47,
   "metadata": {},
   "outputs": [
    {
     "data": {
      "text/plain": [
       "[8, 13, 20, 19, 16]"
      ]
     },
     "execution_count": 47,
     "metadata": {},
     "output_type": "execute_result"
    },
    {
     "data": {
      "text/plain": [
       "1"
      ]
     },
     "execution_count": 47,
     "metadata": {},
     "output_type": "execute_result"
    },
    {
     "data": {
      "text/plain": [
       "1"
      ]
     },
     "execution_count": 47,
     "metadata": {},
     "output_type": "execute_result"
    },
    {
     "data": {
      "text/plain": [
       "1"
      ]
     },
     "execution_count": 47,
     "metadata": {},
     "output_type": "execute_result"
    }
   ],
   "source": [
    "# topk\n",
    "import heapq\n",
    "import math\n",
    "\n",
    "def topk(array, k):\n",
    "    priortiy = [float('-inf')] * k\n",
    "    for val in array:\n",
    "        if val > priortiy[0]:\n",
    "            heapq.heappushpop(priortiy, val)\n",
    "    return priortiy\n",
    "\n",
    "topk(array, 5)\n",
    "\n",
    "# quantile\n",
    "class QuantileFinder:\n",
    "    def __init__(self, quantile=0.5):\n",
    "        self.quantile = quantile\n",
    "        self.max_queue = []\n",
    "        self.min_queue = []\n",
    "    \n",
    "    def insert(self, val):\n",
    "        heapq.heappush(self.max_queue, -val)\n",
    "\n",
    "        if self.min_queue and -self.max_queue[0] > self.min_queue[0]:\n",
    "            heapq.heappush(self.min_queue, -heapq.heappop(self.max_queue))\n",
    "        \n",
    "        if len(self.max_queue) > math.ceil(self.quantile * (len(self.max_queue) + len(self.min_queue))):\n",
    "            heapq.heappush(self.min_queue, -heapq.heappop(self.max_queue))\n",
    "        elif len(self.min_queue) > int((1 - self.quantile) * len(self.max_queue) + len(self.min_queue)):\n",
    "            heapq.heappush(self.max_queue, -heapq.heappop(self.min_queue))\n",
    "    \n",
    "    def take(self):\n",
    "        return -self.max_queue[0]\n",
    "        \n",
    "\n",
    "median_finder = QuantileFinder(0.3)\n",
    "median_finder.insert(1)\n",
    "median_finder.take()\n",
    "median_finder.insert(2)\n",
    "median_finder.take()\n",
    "median_finder.insert(3)\n",
    "median_finder.take()"
   ]
  },
  {
   "cell_type": "markdown",
   "metadata": {},
   "source": [
    "## 线段树（Segment Tree）\n",
    "\n",
    "> 应用场景\n",
    "\n",
    "> 给一个数组\n",
    "> 1. 更新数组的值\n",
    "> 2. 求一定范围内的值（求和、最大、最小等等）\n",
    "\n",
    "> 常规解决思路\n",
    "> 1. 直接用原始数组，更新值的时间复杂度是O(1)，求范围值的时间复杂度是O(n)\n",
    "> 2. 使用前缀和数据（数组第i-1个位置保存前i个值的和），更新值的时间复杂度是O(n), 求范围值的时间复杂度是O(n)\n",
    "\n",
    "> 线段树的结构\n",
    "> 1. 数组的值是树的叶子节点\n",
    "> 2. 重复把数组一份为2，直到每一份只有一个节点为止\n",
    "> 3. 父节点是子节点的范围值\n",
    "\n",
    "> 更新值\n",
    "> 1. 如果更新的下标i落在节点的范围内，更新节点的值\n",
    "> 2. 使用二分重复步骤1，直到节点范围不包括i，或者找到i子节点\n",
    "\n",
    "> 求范围值\n",
    "> 1. 若范围完全覆盖节点范围，返回节点值\n",
    "> 2. 若范围完全不覆盖节点范围，返回0\n",
    "> 3. 否则二分\n",
    "\n",
    "> [参考](https://www.geeksforgeeks.org/dsa/segment-tree-sum-of-given-range/)"
   ]
  },
  {
   "cell_type": "code",
   "execution_count": 6,
   "metadata": {},
   "outputs": [
    {
     "data": {
      "text/plain": [
       "[36, 9, 27, 4, 5, 16, 11, 1, 3, 0, 0, 7, 9, 0, 0, 0, 0, 0, 0, 0, 0, 0, 0, 0]"
      ]
     },
     "execution_count": 6,
     "metadata": {},
     "output_type": "execute_result"
    },
    {
     "data": {
      "text/plain": [
       "[35, 8, 27, 3, 5, 16, 11, 1, 2, 0, 0, 7, 9, 0, 0, 0, 0, 0, 0, 0, 0, 0, 0, 0]"
      ]
     },
     "execution_count": 6,
     "metadata": {},
     "output_type": "execute_result"
    },
    {
     "data": {
      "text/plain": [
       "14"
      ]
     },
     "execution_count": 6,
     "metadata": {},
     "output_type": "execute_result"
    }
   ],
   "source": [
    "class SegmentTree:\n",
    "    def __init__(self, array):\n",
    "        self.array = array\n",
    "        self.n = len(array)\n",
    "        self.st = [0] * self.n * 4\n",
    "        self._buildST(0, self.n-1, 0)\n",
    "    \n",
    "    def _buildST(self, start, end, idx):\n",
    "        if start == end:\n",
    "            self.st[idx] = self.array[start]\n",
    "            return self.array[start]\n",
    "\n",
    "        mid = start + (end - start) // 2\n",
    "\n",
    "        val = self._buildST(start, mid, 2*idx+1) + self._buildST(mid+1, end, 2*idx+2)\n",
    "        self.st[idx] = val\n",
    "        return val\n",
    "    \n",
    "    def update(self, i, v):\n",
    "        diff = v - self.array[i]\n",
    "        self.array[i] = v\n",
    "        self._updateST(i, diff, 0, self.n-1, 0)\n",
    "    \n",
    "    def _updateST(self, i, diff, start, end, idx):\n",
    "        if i < start or end < i:\n",
    "            return\n",
    "        \n",
    "        self.st[idx] += diff\n",
    "        if start != end:\n",
    "            mid = start + (end - start) // 2\n",
    "            self._updateST(i, diff, start, mid, 2*idx+1)\n",
    "            self._updateST(i, diff, mid+1, end, 2*idx+2)\n",
    "\n",
    "    def accumulate(self, left, right):\n",
    "        return self._accumulateST(left, right, 0, self.n-1, 0)\n",
    "    \n",
    "    def _accumulateST(self, left, right, start, end, idx):\n",
    "        if left <= start and end <= right:\n",
    "            return self.st[idx]\n",
    "        if end < left or right < start:\n",
    "            return 0\n",
    "        \n",
    "        mid = start + (end - start) // 2\n",
    "        return self._accumulateST(left, right, start, mid, 2*idx+1) + self._accumulateST(left, right, mid+1, end, 2*idx+2)\n",
    "\n",
    "\n",
    "\n",
    "arr = [1,3,5,7,9,11]\n",
    "st = SegmentTree(arr)\n",
    "st.st\n",
    "st.update(1, 2)\n",
    "st.st\n",
    "st.accumulate(1,3)"
   ]
  },
  {
   "cell_type": "markdown",
   "metadata": {},
   "source": [
    "## 树状数组（Binary Index Tree, Fenwick Tree）\n",
    "\n",
    "> 和线段树一样，数据结构上都是数组\n",
    "> 相比线段树，优点是只需要 N 额外的空间，实现逻辑更简单\n",
    "\n",
    "> 结构\n",
    "> 申请一个长度为 n + 1 的数组，从下标 1 开始存数据\n",
    "\n",
    "> 初始化 & 更新\n",
    "> 初始化：对每个数据 arr[i]，存储到 BIT[j]（j 初始值 i+1）+= arr[i]，循环更新下标 j += j & (-j)，并更新 BIT[j]，直到 j > n 停止\n",
    "> 更新：和初始化的逻辑一样\n",
    "\n",
    "> 前缀和（前 i 个数值之和）查询\n",
    "> 累加 BIT[i] 值\n",
    "> 更新下标 i -= i & (-i)，如果 i > 0，则重复上面的步骤\n",
    "\n",
    "> [参考](https://www.geeksforgeeks.org/dsa/binary-indexed-tree-or-fenwick-tree-2/)"
   ]
  },
  {
   "cell_type": "code",
   "execution_count": 23,
   "metadata": {},
   "outputs": [
    {
     "data": {
      "text/plain": [
       "[0, 2, 3, 1, 7, 2, 5, 4, 21, 6, 13, 8, 30]"
      ]
     },
     "execution_count": 23,
     "metadata": {},
     "output_type": "execute_result"
    },
    {
     "data": {
      "text/plain": [
       "[0, 2, 3, 2, 8, 2, 5, 4, 22, 6, 13, 8, 30]"
      ]
     },
     "execution_count": 23,
     "metadata": {},
     "output_type": "execute_result"
    },
    {
     "data": {
      "text/plain": [
       "7"
      ]
     },
     "execution_count": 23,
     "metadata": {},
     "output_type": "execute_result"
    }
   ],
   "source": [
    "class BIT:\n",
    "    def __init__(self, array):\n",
    "        self.array = array\n",
    "        self.bit = [0] * (len(array) + 1)\n",
    "        self._buildBIT()\n",
    "    \n",
    "    def _buildBIT(self):\n",
    "        for i, v in enumerate(self.array):\n",
    "            self._update(i, v)\n",
    "    \n",
    "    def _update(self, i, v):\n",
    "        i += 1\n",
    "        while i < len(self.bit):\n",
    "            self.bit[i] += v\n",
    "            i += i & (-i)\n",
    "    \n",
    "    def _getPrefixSum(self, i):\n",
    "        i += 1\n",
    "        sum_ = 0\n",
    "        while i > 0:\n",
    "            sum_ += self.bit[i]\n",
    "            i -= i & (-i)\n",
    "        return sum_\n",
    "\n",
    "    def update(self, i, v):\n",
    "        if i < 0 or i >= len(self.array):\n",
    "            raise IndexError(\"out of index\")\n",
    "        diff = v - self.array[i]\n",
    "        self.array[i] = v\n",
    "        self._update(i, diff)\n",
    "    \n",
    "    def getSum(self, left, right):\n",
    "        if left < 0 or right >= len(self.array):\n",
    "            raise IndexError(\"out of index\")\n",
    "        \n",
    "        if right < left:\n",
    "            raise TypeError(\"left must less than right\")\n",
    "        \n",
    "        return self._getPrefixSum(right) - self._getPrefixSum(left-1)\n",
    "        \n",
    "\n",
    "bit = BIT([2,1,1,3,2,3,4,5,6,7,8,9])\n",
    "bit.bit\n",
    "bit.update(2, 2)\n",
    "bit.bit\n",
    "bit.getSum(2, 4)"
   ]
  }
 ],
 "metadata": {
  "kernelspec": {
   "display_name": ".venv",
   "language": "python",
   "name": "python3"
  },
  "language_info": {
   "codemirror_mode": {
    "name": "ipython",
    "version": 3
   },
   "file_extension": ".py",
   "mimetype": "text/x-python",
   "name": "python",
   "nbconvert_exporter": "python",
   "pygments_lexer": "ipython3",
   "version": "3.13.0"
  }
 },
 "nbformat": 4,
 "nbformat_minor": 2
}
