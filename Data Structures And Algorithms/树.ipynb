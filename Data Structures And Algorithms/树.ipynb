{
 "cells": [
  {
   "cell_type": "markdown",
   "metadata": {},
   "source": [
    "# 树\n",
    "\n",
    "> 由一个个节点连接而成，每个节点只能从一条路径访问到\n",
    "\n",
    "## 核心概念\n",
    "\n",
    "> 父节点：节点在路径中前一个节点\n",
    "> 子节点：节点在路径中的后续节点\n",
    "> 根节点：入口节点\n",
    "> 叶子节点：没有子节点\n",
    "> 兄弟节点：拥有同一个父节点\n",
    "> 节点高度：节点到叶子节点的最长路径\n",
    "> 节点深度：根节点到节点的路径\n",
    "> 层数：深度+1\n",
    "\n",
    "## 二叉树\n",
    "\n",
    "> 最多拥有2个子节点\n",
    ">\n",
    "> 满二叉树：除了最后一层的叶子节点，其他节点都拥有2个子节点\n",
    "> 完全二叉树：最后一层的叶子节点从左往右看是连续的，并且其他节点都拥有2个子节点\n",
    "\n",
    "### 二叉树的数据结构\n",
    "\n",
    "> 链表存储：最常见\n",
    "> 数组存储：适用于完全二叉树。根节点存储在数组下标1的位置，如果父节点的下标为i，左子节点的下标为2i，右子节点的下标为：2i+1\n",
    "\n",
    "### 二叉树的遍历"
   ]
  },
  {
   "cell_type": "code",
   "execution_count": 49,
   "metadata": {},
   "outputs": [],
   "source": [
    "from IPython.core.interactiveshell import InteractiveShell\n",
    "InteractiveShell.ast_node_interactivity = \"all\""
   ]
  },
  {
   "cell_type": "code",
   "execution_count": 50,
   "metadata": {},
   "outputs": [],
   "source": [
    "# Tree Node\n",
    "class Node:\n",
    "    def __init__(self, value, left=None, right=None):\n",
    "        self.value = value\n",
    "        self.left = left\n",
    "        self.right = right\n",
    "    \n",
    "    def __repr__(self):\n",
    "        return f\"Node({self.value}, {self.left}, {self.right})\"\n",
    "\n",
    "node = Node(1, Node(2, Node(4), Node(5)), Node(3, Node(6), Node(7)))"
   ]
  },
  {
   "cell_type": "markdown",
   "metadata": {},
   "source": [
    "#### 前序遍历\n",
    "\n",
    "> 根节点 -> 左子节点 -> 右子节点"
   ]
  },
  {
   "cell_type": "code",
   "execution_count": 71,
   "metadata": {},
   "outputs": [
    {
     "name": "stdout",
     "output_type": "stream",
     "text": [
      "1\n",
      "2\n",
      "4\n",
      "5\n",
      "3\n",
      "6\n",
      "7\n"
     ]
    }
   ],
   "source": [
    "def pre_order(node):\n",
    "    if node is None:\n",
    "        return\n",
    "    print(node.value)\n",
    "    pre_order(node.left)\n",
    "    pre_order(node.right)\n",
    "\n",
    "pre_order(node)"
   ]
  },
  {
   "cell_type": "code",
   "execution_count": 72,
   "metadata": {},
   "outputs": [
    {
     "name": "stdout",
     "output_type": "stream",
     "text": [
      "1\n",
      "2\n",
      "4\n",
      "5\n",
      "3\n",
      "6\n",
      "7\n"
     ]
    }
   ],
   "source": [
    "def pre_order_stack(node):\n",
    "    stack = [node]\n",
    "    while stack:\n",
    "        node = stack.pop()\n",
    "        if not node:\n",
    "            continue\n",
    "        print(node.value)\n",
    "        stack.append(node.right)\n",
    "        stack.append(node.left)\n",
    "\n",
    "pre_order_stack(node)"
   ]
  },
  {
   "cell_type": "markdown",
   "metadata": {},
   "source": [
    "#### 中序遍历\n",
    "\n",
    "> 左子节点 -> 根节点 -> 右子节点"
   ]
  },
  {
   "cell_type": "code",
   "execution_count": 73,
   "metadata": {},
   "outputs": [
    {
     "name": "stdout",
     "output_type": "stream",
     "text": [
      "4\n",
      "2\n",
      "5\n",
      "1\n",
      "6\n",
      "3\n",
      "7\n"
     ]
    }
   ],
   "source": [
    "def in_order(node):\n",
    "    if not node:\n",
    "        return\n",
    "    in_order(node.left)\n",
    "    print(node.value)\n",
    "    in_order(node.right)\n",
    "\n",
    "in_order(node)"
   ]
  },
  {
   "cell_type": "code",
   "execution_count": 74,
   "metadata": {},
   "outputs": [
    {
     "name": "stdout",
     "output_type": "stream",
     "text": [
      "4\n",
      "2\n",
      "5\n",
      "1\n",
      "6\n",
      "3\n",
      "7\n"
     ]
    }
   ],
   "source": [
    "def in_order_stack(node):\n",
    "    stack = []\n",
    "    while stack or node:\n",
    "        while node:\n",
    "            stack.append(node)\n",
    "            node = node.left\n",
    "\n",
    "        node = stack.pop()\n",
    "        print(node.value)\n",
    "        node = node.right\n",
    "\n",
    "in_order_stack(node)"
   ]
  },
  {
   "cell_type": "markdown",
   "metadata": {},
   "source": [
    "#### 后续遍历\n",
    "\n",
    "> 左子节点 -> 右子节点 -> 根节点"
   ]
  },
  {
   "cell_type": "code",
   "execution_count": 75,
   "metadata": {},
   "outputs": [
    {
     "name": "stdout",
     "output_type": "stream",
     "text": [
      "4\n",
      "5\n",
      "2\n",
      "6\n",
      "7\n",
      "3\n",
      "1\n"
     ]
    }
   ],
   "source": [
    "def post_order(node):\n",
    "    if not node:\n",
    "        return\n",
    "    post_order(node.left)\n",
    "    post_order(node.right)\n",
    "    print(node.value)\n",
    "\n",
    "post_order(node)"
   ]
  },
  {
   "cell_type": "code",
   "execution_count": 76,
   "metadata": {},
   "outputs": [
    {
     "name": "stdout",
     "output_type": "stream",
     "text": [
      "[4, 5, 2, 6, 7, 3, 1]\n"
     ]
    }
   ],
   "source": [
    "def post_order_stack(node):\n",
    "    stack, out = [node], []\n",
    "    while stack:\n",
    "        node = stack.pop()\n",
    "        if not node:\n",
    "            continue\n",
    "        out.append(node.value)\n",
    "        stack.append(node.left)\n",
    "        stack.append(node.right)\n",
    "    print(out[::-1])\n",
    "\n",
    "post_order_stack(node)"
   ]
  },
  {
   "cell_type": "markdown",
   "metadata": {},
   "source": [
    "#### 按层级从左到右遍历"
   ]
  },
  {
   "cell_type": "code",
   "execution_count": 51,
   "metadata": {},
   "outputs": [
    {
     "name": "stdout",
     "output_type": "stream",
     "text": [
      "1\n",
      "2\n",
      "3\n",
      "4\n",
      "5\n",
      "6\n",
      "7\n"
     ]
    }
   ],
   "source": [
    "def layer_order(node):\n",
    "    if node is None:\n",
    "        return\n",
    "    cur = [node]\n",
    "    next = []\n",
    "    while cur:\n",
    "        for node in cur:\n",
    "            print(node.value)\n",
    "            if node.left:\n",
    "                next.append(node.left)\n",
    "            if node.right:\n",
    "                next.append(node.right)\n",
    "        cur = next\n",
    "        next = []\n",
    "\n",
    "layer_order(node)"
   ]
  },
  {
   "cell_type": "code",
   "execution_count": 52,
   "metadata": {},
   "outputs": [
    {
     "name": "stdout",
     "output_type": "stream",
     "text": [
      "1\n",
      "2\n",
      "3\n",
      "4\n",
      "5\n",
      "6\n",
      "7\n"
     ]
    }
   ],
   "source": [
    "from collections import deque\n",
    "\n",
    "\n",
    "def layer_order_v2(node):\n",
    "    queue = deque(node)\n",
    "    while queue:\n",
    "        node = queue.popleft()\n",
    "        if not node:\n",
    "            continue\n",
    "        print(node.value)\n",
    "        queue.append(node.left)\n",
    "        queue.append(node.right)\n",
    "\n",
    "layer_order(node)"
   ]
  },
  {
   "cell_type": "markdown",
   "metadata": {},
   "source": [
    "#### 求树的高度"
   ]
  },
  {
   "cell_type": "code",
   "execution_count": 78,
   "metadata": {},
   "outputs": [
    {
     "data": {
      "text/plain": [
       "3"
      ]
     },
     "execution_count": 78,
     "metadata": {},
     "output_type": "execute_result"
    },
    {
     "data": {
      "text/plain": [
       "3"
      ]
     },
     "execution_count": 78,
     "metadata": {},
     "output_type": "execute_result"
    }
   ],
   "source": [
    "# 按层遍历\n",
    "def tree_height(root):\n",
    "    if not root:\n",
    "        return 0\n",
    "    height = 0\n",
    "    cur = [root]\n",
    "    next = []\n",
    "    while cur:\n",
    "        height += 1\n",
    "        for node in cur:\n",
    "            if node.left:\n",
    "                next.append(node.left)\n",
    "            if node.right:\n",
    "                next.append(node.right)\n",
    "        cur = next\n",
    "        next = []\n",
    "    return height\n",
    "\n",
    "tree_height(node)\n",
    "\n",
    "# recursion\n",
    "def tree_height_v2(root):\n",
    "    if not root:\n",
    "        return 0\n",
    "    return 1 + max(tree_height_v2(root.left), tree_height_v2(root.right))\n",
    "\n",
    "tree_height_v2(node)"
   ]
  },
  {
   "cell_type": "markdown",
   "metadata": {},
   "source": [
    "## 二叉查找树\n",
    "\n",
    "> 节点的值大于左子树所有节点的值，小于等于右子树所有节点的值，按中序遍历可得升序排序的数组\n",
    "\n",
    "### 常见的操作"
   ]
  },
  {
   "cell_type": "code",
   "execution_count": 79,
   "metadata": {},
   "outputs": [],
   "source": [
    "bst = Node(4, Node(2, Node(1), Node(3)), Node(6, Node(5), Node(7)))"
   ]
  },
  {
   "cell_type": "code",
   "execution_count": 80,
   "metadata": {},
   "outputs": [
    {
     "data": {
      "text/plain": [
       "Node(6, Node(5, None, None), Node(7, None, None))"
      ]
     },
     "execution_count": 80,
     "metadata": {},
     "output_type": "execute_result"
    }
   ],
   "source": [
    "# search in binary search tree (BST) with different value\n",
    "def search_bst(root, val):\n",
    "    while root and root.value != val:\n",
    "        if root.value > val:\n",
    "            root = root.left\n",
    "        else:\n",
    "            root = root.right\n",
    "    \n",
    "    return root\n",
    "\n",
    "search_bst(bst, 6)"
   ]
  },
  {
   "cell_type": "code",
   "execution_count": 81,
   "metadata": {},
   "outputs": [
    {
     "data": {
      "text/plain": [
       "Node(4, Node(2, Node(1, None, None), Node(3, None, None)), Node(6, Node(5, None, None), Node(7, None, Node(8, None, None))))"
      ]
     },
     "execution_count": 81,
     "metadata": {},
     "output_type": "execute_result"
    }
   ],
   "source": [
    "# add node to bst\n",
    "def insert_into_bst(root, val):\n",
    "    if not root:\n",
    "        return Node(val)\n",
    "    cur = root\n",
    "    while True:\n",
    "        if cur.value > val:\n",
    "            if cur.left:\n",
    "                cur = cur.left\n",
    "            else:\n",
    "                cur.left = Node(val)\n",
    "                return root\n",
    "        else:\n",
    "            if cur.right:\n",
    "                cur = cur.right\n",
    "            else:\n",
    "                cur.right = Node(val)\n",
    "                return root\n",
    "\n",
    "insert_into_bst(bst, 8)"
   ]
  },
  {
   "cell_type": "code",
   "execution_count": 82,
   "metadata": {},
   "outputs": [
    {
     "data": {
      "text/plain": [
       "Node(4, Node(2, Node(1, None, None), Node(3, None, None)), Node(6, Node(5, None, None), Node(7, None, None)))"
      ]
     },
     "execution_count": 82,
     "metadata": {},
     "output_type": "execute_result"
    }
   ],
   "source": [
    "# delete node from bst\n",
    "def delete_node(root, key):\n",
    "    if not root:\n",
    "        return root\n",
    "    \n",
    "    pp = None\n",
    "    p = root\n",
    "    while p and p.value != key:\n",
    "        pp = p\n",
    "        if p.value > key:\n",
    "            p = p.left\n",
    "        else:\n",
    "            p = p.right\n",
    "    \n",
    "    if not p:\n",
    "        return root\n",
    "    \n",
    "    if p.left and p.right:\n",
    "        min_pp = p\n",
    "        min_p = p.right\n",
    "        while min_p.left:\n",
    "            min_pp, min_p = min_p, min_p.left\n",
    "        p.value = min_p.value\n",
    "        pp, p = min_pp, min_p\n",
    "\n",
    "    child = p.left if p.left else p.right\n",
    "\n",
    "    if not pp:\n",
    "        return child\n",
    "    \n",
    "    if pp.left == p:\n",
    "        pp.left = child\n",
    "    else:\n",
    "        pp.right = child\n",
    "    \n",
    "    return root\n",
    "\n",
    "\n",
    "delete_node(bst, 8)"
   ]
  },
  {
   "cell_type": "code",
   "execution_count": 83,
   "metadata": {},
   "outputs": [
    {
     "data": {
      "text/plain": [
       "1"
      ]
     },
     "execution_count": 83,
     "metadata": {},
     "output_type": "execute_result"
    }
   ],
   "source": [
    "# find minimum value\n",
    "def minimum_in_bst(root):\n",
    "    while root:\n",
    "        if root.left:\n",
    "            root = root.left\n",
    "        else:\n",
    "            return root.value\n",
    "\n",
    "minimum_in_bst(bst)"
   ]
  },
  {
   "cell_type": "code",
   "execution_count": 84,
   "metadata": {},
   "outputs": [
    {
     "data": {
      "text/plain": [
       "7"
      ]
     },
     "execution_count": 84,
     "metadata": {},
     "output_type": "execute_result"
    }
   ],
   "source": [
    "# find maximum value\n",
    "def maximum_in_bst(root):\n",
    "    while root:\n",
    "        if root.right:\n",
    "            root = root.right\n",
    "        else:\n",
    "            return root.value\n",
    "\n",
    "maximum_in_bst(bst)"
   ]
  },
  {
   "cell_type": "code",
   "execution_count": 85,
   "metadata": {},
   "outputs": [],
   "source": [
    "class Path:\n",
    "    def __init__(self, value, parent=None):\n",
    "        self.value = value\n",
    "        self.parent = parent"
   ]
  },
  {
   "cell_type": "code",
   "execution_count": 86,
   "metadata": {},
   "outputs": [
    {
     "data": {
      "text/plain": [
       "2"
      ]
     },
     "execution_count": 86,
     "metadata": {},
     "output_type": "execute_result"
    },
    {
     "data": {
      "text/plain": [
       "3"
      ]
     },
     "execution_count": 86,
     "metadata": {},
     "output_type": "execute_result"
    },
    {
     "data": {
      "text/plain": [
       "4"
      ]
     },
     "execution_count": 86,
     "metadata": {},
     "output_type": "execute_result"
    }
   ],
   "source": [
    "# find the biggest one which smaller than value\n",
    "def precursor_node(root, val):\n",
    "    pp = None\n",
    "    pl = None\n",
    "    # path = Path(root)\n",
    "    while root and root.value != val:\n",
    "        pp = root\n",
    "        if root.value > val:\n",
    "            root = root.left\n",
    "        else:\n",
    "            root = root.right\n",
    "        \n",
    "        if pp.right == root:\n",
    "            pl = pp\n",
    "        # path = Path(root, path)\n",
    "    \n",
    "    if not root:\n",
    "        return None\n",
    "\n",
    "    if not root.left:\n",
    "        return pl.value if pl else None\n",
    "\n",
    "        while path.parent and path.parent.value.right != path.value:\n",
    "            path = path.parent\n",
    "        \n",
    "        if path.parent:\n",
    "            return path.parent.value.value\n",
    "        else:\n",
    "            return None\n",
    "    \n",
    "    root = root.left\n",
    "    while root.right:\n",
    "        root = root.right\n",
    "    \n",
    "    return root.value\n",
    "\n",
    "precursor_node(bst, 3)\n",
    "precursor_node(bst, 4)\n",
    "precursor_node(bst, 5)"
   ]
  },
  {
   "cell_type": "code",
   "execution_count": 87,
   "metadata": {},
   "outputs": [
    {
     "data": {
      "text/plain": [
       "4"
      ]
     },
     "execution_count": 87,
     "metadata": {},
     "output_type": "execute_result"
    },
    {
     "data": {
      "text/plain": [
       "5"
      ]
     },
     "execution_count": 87,
     "metadata": {},
     "output_type": "execute_result"
    },
    {
     "data": {
      "text/plain": [
       "6"
      ]
     },
     "execution_count": 87,
     "metadata": {},
     "output_type": "execute_result"
    }
   ],
   "source": [
    "# find the smallest one which bigger than value\n",
    "def successor_node(root, val):\n",
    "    pp = None\n",
    "    pr = None\n",
    "    # path = Path(root)\n",
    "    while root and root.value != val:\n",
    "        pp = root\n",
    "        if root.value > val:\n",
    "            root = root.left\n",
    "        else:\n",
    "            root = root.right\n",
    "            \n",
    "        if pp.left == root:\n",
    "            pr = pp\n",
    "        # path = Path(root, path)\n",
    "    \n",
    "    if not root.right:\n",
    "        return pr.value if pr else None\n",
    "\n",
    "        while path.parent and path.parent.value.left != path.value:\n",
    "            path = path.parent\n",
    "        \n",
    "        if path.parent:\n",
    "            return path.parent.value.value\n",
    "        else:\n",
    "            return None\n",
    "    \n",
    "    root = root.right\n",
    "    while root.left:\n",
    "        root = root.left\n",
    "    \n",
    "    return root.value\n",
    "\n",
    "successor_node(bst, 3)\n",
    "successor_node(bst, 4)\n",
    "successor_node(bst, 5)"
   ]
  },
  {
   "cell_type": "markdown",
   "metadata": {},
   "source": [
    "### 时间复杂度分析\n",
    "\n",
    "> 当BST退化成链表时，最差时间复杂度为O(n)，也等于O(height)\n",
    ">\n",
    "> 当BST是完全二叉树时，遍历跟height有关，height在[log(n+1)-1, logn]之间，所以最差时间复杂度为O(logn)\n",
    "\n",
    "> 可见性能和树的高度有关，平衡二叉搜索树高度接近logn\n",
    "\n",
    "### 平衡二叉搜索树对比hash表的优势\n",
    "\n",
    "> 1. 数据有序\n",
    "> 2. hash表扩容、hash冲突导致性能不稳定\n",
    "> 3. hash表设计相对比较复杂，要考虑hash函数设计，hash冲突、扩缩容解决方法。平衡二叉搜索树之需要考虑平衡问题\n",
    "\n",
    "\n",
    "## 平衡二叉搜索树\n",
    "\n",
    "> 严格定义：任一节点的左右子树高度差不超过1\n",
    ">\n",
    "> 常见：AVL树\n",
    "\n",
    "### 红黑树（Red-Black Tree）\n",
    "\n",
    "> 工程应用中一种流行的“不严格”的平衡二叉搜索树，子节点的高度差可能达到一倍\n",
    ">\n",
    "> 定义：节点被标记为黑色或者红色\n",
    "> 1. 根节点是黑色\n",
    "> 2. 每个叶子节点是黑色的空节点，也就是叶子节点不存储数据\n",
    "> 3. 任何相邻的节点不能同时为红色\n",
    "> 4. 根节点到子节点的所有路径上的黑色节点数量一致\n",
    ">\n",
    "> 优点：常见操作保持对数级复杂度，且为了保持相对平衡成本比较低\n",
    "\n",
    "### 插入\n",
    "\n",
    "> A. 按照bst算法找到插入点插入，标红\n",
    ">\n",
    "> B. 进入下面调整逻辑\n",
    "> 1. 如果没有父节点或者父节点黑，结束\n",
    "> 2. 如果叔节点红，父、叔标黑，祖标红，关注节点变成祖，进入下一轮\n",
    "> 3. 如果不同边（子在父的左边，父在祖的右边，或着反过来），关注点变成父，旋转，父标黑，祖标红，围绕祖反向旋转，进入下一轮\n",
    "\n",
    "### 删除\n",
    "\n",
    "[参考](image/TreeMap红黑树源码详解.pdf)\n",
    "\n",
    "#### 复杂度分析\n",
    "\n",
    "> 如果把红色节点去掉，剩下黑色节点构成的树是一颗完全二叉树（根节点到子节点经过的路径上黑节点数量一样），bh（black tree height）和 n 的关系 n >= 2^bh - 1，bh <= log(n+1)\n",
    ">\n",
    "> 因为不会有两个相邻的红色节点，所以根节点到子节点的一条路径上，红色节点数量最多和黑色节点数量一样，所以树高最大值：h = 2bh = 2log(n+1)\n",
    "\n",
    "## 堆\n",
    "\n",
    "> 定义\n",
    "> 1. 完全二叉树\n",
    "> 2. 每个节点值大于等于子节点的值（大顶堆），每个节点值小于等于子节点的值（小顶堆）\n",
    "\n",
    "### 常见操作 & 实现\n",
    "> 使用数组存储\n",
    ">\n",
    "> 插入：从下往上构建堆，依次和父节点比较、交换，时间复杂度O(logn)\n",
    ">\n",
    "> 删除堆顶：把尾节点覆盖根节点，从上往下构建堆，依次和子节点比较、交换，时间复杂度O(logn)\n",
    "\n",
    "### 常见应用\n",
    "> 1. 排序\n",
    "> 2. topK\n",
    "> 3. 求中位数\n",
    "> 4. 优先队列"
   ]
  },
  {
   "cell_type": "code",
   "execution_count": null,
   "metadata": {},
   "outputs": [
    {
     "data": {
      "text/plain": [
       "[20, 16, 19, 13, 4, 1, 7, 5, 8]"
      ]
     },
     "execution_count": 20,
     "metadata": {},
     "output_type": "execute_result"
    },
    {
     "data": {
      "text/plain": [
       "[22, 20, 19, 13, 16, 1, 7, 5, 8, 4]"
      ]
     },
     "execution_count": 20,
     "metadata": {},
     "output_type": "execute_result"
    },
    {
     "data": {
      "text/plain": [
       "22"
      ]
     },
     "execution_count": 20,
     "metadata": {},
     "output_type": "execute_result"
    },
    {
     "data": {
      "text/plain": [
       "[20, 16, 19, 13, 4, 1, 7, 5, 8]"
      ]
     },
     "execution_count": 20,
     "metadata": {},
     "output_type": "execute_result"
    },
    {
     "data": {
      "text/plain": [
       "[1, 4, 5, 7, 8, 13, 16, 19, 20]"
      ]
     },
     "execution_count": 20,
     "metadata": {},
     "output_type": "execute_result"
    },
    {
     "data": {
      "text/plain": [
       "[20, 19, 16, 13, 8]"
      ]
     },
     "execution_count": 20,
     "metadata": {},
     "output_type": "execute_result"
    }
   ],
   "source": [
    "# Max Heap\n",
    "class Heap:\n",
    "    def __init__(self, array):\n",
    "        self.array = array\n",
    "        self.count = len(array)\n",
    "        self._build_heap()\n",
    "\n",
    "    def push(self, val):\n",
    "        self.array.append(val)\n",
    "        i = self.count\n",
    "        while ((i - 1) >> 1) >= 0 and self.array[i] > self.array[(i-1)>>1]:\n",
    "            self.array[i], self.array[(i-1)>>1] = self.array[(i-1)>>1], self.array[i]\n",
    "            i = (i - 1) >> 1\n",
    "        self.count += 1\n",
    "    \n",
    "    def pop(self):\n",
    "        if self.count == 0:\n",
    "            return\n",
    "        self.array[0], self.array[-1] = self.array[-1], self.array[0]\n",
    "        top = self.array.pop()\n",
    "        self.count -= 1\n",
    "        Heap._heapify(self.array, self.count, 0)\n",
    "        return top\n",
    "    \n",
    "    @staticmethod\n",
    "    def _heapify(array, n, i):\n",
    "        while True:\n",
    "            max_pos = i\n",
    "            if 2*i+1 < n and array[2*i+1] > array[max_pos]:\n",
    "                max_pos = 2*i+1\n",
    "            \n",
    "            if 2*i+2 < n and array[2*i+2] > array[max_pos]:\n",
    "                max_pos = 2*i+2\n",
    "            \n",
    "            if max_pos == i:\n",
    "                break\n",
    "\n",
    "            array[i], array[max_pos] = array[max_pos], array[i]\n",
    "            i = max_pos\n",
    "    \n",
    "    def _build_heap(self):\n",
    "        '''time complexity O(n)'''\n",
    "        for i in range((self.count-1) >> 1, -1, -1):\n",
    "            Heap._heapify(self.array, self.count, i)\n",
    "    \n",
    "    def sorted(self):\n",
    "        array = self.array[:self.count]\n",
    "        for i in range(len(array)-1, -1, -1):\n",
    "            array[0], array[i] = array[i], array[0]\n",
    "            Heap._heapify(array, i ,0)\n",
    "        return array\n",
    "\n",
    "    # def topK(self, k):\n",
    "    #     array = self.array[:self.count]\n",
    "    #     k = min(k, len(array))\n",
    "    #     for i in range(k):\n",
    "    #         max_pos = len(array)-1-i\n",
    "    #         array[0], array[max_pos] = array[max_pos], array[0]\n",
    "    #         Heap._heapify(array, max_pos ,0)\n",
    "    #     return array[-k:][::-1]\n",
    "\n",
    "\n",
    "\n",
    "array = [7,5,19,8,4,1,20,13,16]\n",
    "\n",
    "heap = Heap(array)\n",
    "array\n",
    "heap.push(22)\n",
    "array\n",
    "heap.pop()\n",
    "array\n",
    "heap.sorted()\n",
    "# heap.topK(5)"
   ]
  },
  {
   "cell_type": "code",
   "execution_count": 47,
   "metadata": {},
   "outputs": [
    {
     "data": {
      "text/plain": [
       "[8, 13, 20, 19, 16]"
      ]
     },
     "execution_count": 47,
     "metadata": {},
     "output_type": "execute_result"
    },
    {
     "data": {
      "text/plain": [
       "1"
      ]
     },
     "execution_count": 47,
     "metadata": {},
     "output_type": "execute_result"
    },
    {
     "data": {
      "text/plain": [
       "1"
      ]
     },
     "execution_count": 47,
     "metadata": {},
     "output_type": "execute_result"
    },
    {
     "data": {
      "text/plain": [
       "1"
      ]
     },
     "execution_count": 47,
     "metadata": {},
     "output_type": "execute_result"
    }
   ],
   "source": [
    "# topk\n",
    "import heapq\n",
    "import math\n",
    "\n",
    "def topk(array, k):\n",
    "    priortiy = [float('-inf')] * k\n",
    "    for val in array:\n",
    "        if val > priortiy[0]:\n",
    "            heapq.heappushpop(priortiy, val)\n",
    "    return priortiy\n",
    "\n",
    "topk(array, 5)\n",
    "\n",
    "# quantile\n",
    "class QuantileFinder:\n",
    "    def __init__(self, quantile=0.5):\n",
    "        self.quantile = quantile\n",
    "        self.max_queue = []\n",
    "        self.min_queue = []\n",
    "    \n",
    "    def insert(self, val):\n",
    "        heapq.heappush(self.max_queue, -val)\n",
    "\n",
    "        if self.min_queue and -self.max_queue[0] > self.min_queue[0]:\n",
    "            heapq.heappush(self.min_queue, -heapq.heappop(self.max_queue))\n",
    "        \n",
    "        if len(self.max_queue) > math.ceil(self.quantile * (len(self.max_queue) + len(self.min_queue))):\n",
    "            heapq.heappush(self.min_queue, -heapq.heappop(self.max_queue))\n",
    "        elif len(self.min_queue) > int((1 - self.quantile) * len(self.max_queue) + len(self.min_queue)):\n",
    "            heapq.heappush(self.max_queue, -heapq.heappop(self.min_queue))\n",
    "    \n",
    "    def take(self):\n",
    "        return -self.max_queue[0]\n",
    "        \n",
    "\n",
    "median_finder = QuantileFinder(0.3)\n",
    "median_finder.insert(1)\n",
    "median_finder.take()\n",
    "median_finder.insert(2)\n",
    "median_finder.take()\n",
    "median_finder.insert(3)\n",
    "median_finder.take()"
   ]
  }
 ],
 "metadata": {
  "kernelspec": {
   "display_name": ".venv",
   "language": "python",
   "name": "python3"
  },
  "language_info": {
   "codemirror_mode": {
    "name": "ipython",
    "version": 3
   },
   "file_extension": ".py",
   "mimetype": "text/x-python",
   "name": "python",
   "nbconvert_exporter": "python",
   "pygments_lexer": "ipython3",
   "version": "3.13.0"
  }
 },
 "nbformat": 4,
 "nbformat_minor": 2
}
