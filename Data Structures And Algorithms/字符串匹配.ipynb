{
 "cells": [
  {
   "cell_type": "markdown",
   "metadata": {},
   "source": [
    "# 字符串匹配\n",
    "\n",
    "> 假设我们现在有这样一个问题：有一个主串S，一个模式串P，问P出现在S中吗？如果出现，P在S的什么位置？"
   ]
  },
  {
   "cell_type": "markdown",
   "metadata": {},
   "source": [
    "## 暴力算法\n",
    "\n",
    "> 遍历，如果当前遍历到文本位置i，模式串位置j，如果 S[i] == P[j], 则 i+=1, j+=1 继续匹配下一个位置；否则 i = i - (j-1), j = 0，相当于模式串右移一位，从模式串头对齐的位置匹配"
   ]
  },
  {
   "cell_type": "code",
   "execution_count": 57,
   "metadata": {},
   "outputs": [],
   "source": [
    "from IPython.core.interactiveshell import InteractiveShell\n",
    "InteractiveShell.ast_node_interactivity = \"all\""
   ]
  },
  {
   "cell_type": "code",
   "execution_count": 58,
   "metadata": {},
   "outputs": [
    {
     "data": {
      "text/plain": [
       "2"
      ]
     },
     "execution_count": 58,
     "metadata": {},
     "output_type": "execute_result"
    }
   ],
   "source": [
    "# brute force solution\n",
    "def violent_match(s, p):\n",
    "    s_len = len(s)\n",
    "    p_len = len(p)\n",
    "    i = 0\n",
    "    while i <= s_len - p_len:\n",
    "        j = 0\n",
    "        while j < p_len and s[i] == p[j]:\n",
    "            i += 1\n",
    "            j += 1\n",
    "        \n",
    "        if j == p_len:\n",
    "            return i - j\n",
    "        else:\n",
    "            i = i - j + 1\n",
    "    return -1\n",
    "\n",
    "violent_match(\"hello\", \"ll\")"
   ]
  },
  {
   "cell_type": "markdown",
   "metadata": {},
   "source": [
    "### 暴力算法的缺点\n",
    "\n",
    "> 当 S[i] != P[j] 时，暴力算法回退比较 S[i-j+1] 和 P[0]，之前已经知道S[i-j+1] = P[1] (假设 j > 1), 所以等同于比较 P[0] 和 P[1]，这是已知的信息，有没有什么办法利用模式串的信息来优化算法呢\n",
    "\n",
    "## RK 算法\n",
    "\n",
    "> 计算主串中每个子串的hash值（子串的hash值可以从前一个子串的hash值中迭代计算），和模式串的hash比较\n",
    "\n"
   ]
  },
  {
   "cell_type": "code",
   "execution_count": 59,
   "metadata": {},
   "outputs": [
    {
     "data": {
      "text/plain": [
       "2"
      ]
     },
     "execution_count": 59,
     "metadata": {},
     "output_type": "execute_result"
    }
   ],
   "source": [
    "# 假设要匹配的字符集是a～z，hash函数逻辑为ord(s[0]) + ord(s[1]) * 26 + ord(s[2]) * 26^2 + ... \n",
    "\n",
    "\n",
    "def rk(s, p):\n",
    "    n = len(s)\n",
    "    m = len(p)\n",
    "\n",
    "    if n < m:\n",
    "        return -1\n",
    "\n",
    "    factor = [ 26**i for i in range(m)]\n",
    "    def hash(text):\n",
    "        l = len(text)\n",
    "        return sum((ord(text[i]) - ord('a')) * factor[l-i-1]  for i in range(l))\n",
    "\n",
    "    p_hash = hash(p)\n",
    "    sub_hash = hash(s[:m])\n",
    "    i = 0\n",
    "    \n",
    "    while sub_hash != p_hash and i < n - m:\n",
    "        sub_hash = (sub_hash - hash(s[i]) * factor[-1]) * factor[1] + hash(s[i+m]) if m > 1 else hash(s[i+m])\n",
    "        i += 1\n",
    "\n",
    "    return -1 if sub_hash != p_hash else i\n",
    "\n",
    "rk('hello', 'll')"
   ]
  },
  {
   "cell_type": "markdown",
   "metadata": {},
   "source": [
    "## KMP 算法\n",
    "\n",
    "> 这里先对 KMP 的流程进行概述，然后再详细解释\n",
    "\n",
    "> 1. 当 S[i] == P[j] 时，比较S[++i] 和 P[++j]\n",
    "> 2. 当 S[i] != P[j] 时，比较S[++i] 和 P[next[j-1]]（j>0），或者比较S[++i] 和 P[j]（j==0）\n",
    "> 3. 当 j == p_len 时，在S中找到模式串的位置i - j, 匹配结束\n",
    "> 4. 当 i == s_len 时，无匹配，匹配结束\n",
    "\n",
    "\n",
    "### next 数组\n",
    "\n",
    "> 不同的实现方式有不同的定义，这里是其中一种定义\n",
    "\n",
    "> 定义：next 数组的值是对应的子串（比如下标i，对应P[:i+1]）的前缀、后缀中公共元素的最大长度（下文简称最大长度）\n",
    "\n",
    "\n",
    "### 字符串的前缀、后缀\n",
    "\n",
    "> 前缀：不包括尾字符，所有包括头字符的子串组合\n",
    "> 后缀：不包括头字符，所有包括尾字符的子串组合\n",
    "\n",
    "#### 举个例子\n",
    "> 字符串：abcab\n",
    "> 前缀：[abca, abc, ab, a]\n",
    "> 后缀：[b, ab, cab, bcab]\n",
    "\n",
    "> next数组\n",
    "> 1. next[0] 对应的子串是：a，最大长度是：0\n",
    "> 2. next[1] 对应的子串是：ab，最大长度是：0\n",
    "> 3. next[2] 对应的子串是：abc，最大长度是：0\n",
    "> 4. next[3] 对应的子串是：abca，最大长度是：1\n",
    "> 5. next[4] 对应的子串是：abcab，最大长度是：2\n",
    "\n",
    "\n",
    "#### next数组实现\n",
    "\n",
    "> 1. next[0] = 0, j=0（记录前缀的位置），i=1（记录后缀的位置）\n",
    "> 2. 如果 j>0 且 P[j] != P[i], j=next[j-1]\n",
    "> 3. 如果 P[j] == P[i], j++\n",
    "> 4. next[i] = j"
   ]
  },
  {
   "cell_type": "code",
   "execution_count": 60,
   "metadata": {},
   "outputs": [
    {
     "data": {
      "text/plain": [
       "[0, 0, 1, 2, 3, 0, 1]"
      ]
     },
     "execution_count": 60,
     "metadata": {},
     "output_type": "execute_result"
    }
   ],
   "source": [
    "# next数组实现\n",
    "def build_next(p):\n",
    "    l = len(p)\n",
    "    next = [0] * l\n",
    "    j = 0\n",
    "    for i in range(1, l):\n",
    "        # p[j] 是最长公共前缀子串的下一个字符\n",
    "        while j > 0 and p[i] != p[j]:\n",
    "            j = next[j - 1]\n",
    "        if p[i] == p[j]:\n",
    "            j += 1\n",
    "        next[i] = j\n",
    "    return next\n",
    "\n",
    "build_next(\"ababaca\")"
   ]
  },
  {
   "cell_type": "code",
   "execution_count": 61,
   "metadata": {},
   "outputs": [
    {
     "data": {
      "text/plain": [
       "2"
      ]
     },
     "execution_count": 61,
     "metadata": {},
     "output_type": "execute_result"
    }
   ],
   "source": [
    "# KMP算法实现\n",
    "def kmp(s, p):\n",
    "    s_len = len(s)\n",
    "    p_len = len(p)\n",
    "    next = build_next(p)\n",
    "    j = 0\n",
    "    for i in range(s_len):\n",
    "        while j > 0 and s[i] != p[j]:\n",
    "            j = next[j - 1]\n",
    "        if s[i] == p[j]:\n",
    "            j += 1\n",
    "        if j == p_len:\n",
    "            return i - j + 1\n",
    "    return -1\n",
    "\n",
    "kmp(\"hello\", \"ll\")"
   ]
  },
  {
   "cell_type": "code",
   "execution_count": 62,
   "metadata": {},
   "outputs": [],
   "source": [
    "# next 数组存最长可匹配前缀的最后一个字符的下标，结果等于上面实现的next数组-1\n",
    "def build_next_v2(p):\n",
    "    next = [-1] * len(p)\n",
    "    j = -1\n",
    "    for i in range(1, len(p)):\n",
    "        # p[j+1] 是最长公共前缀串的下一个字符\n",
    "        while j != -1 and p[i] != p[j+1]:\n",
    "            j = next[j]\n",
    "        \n",
    "        if p[i] == p[j+1]:\n",
    "            j += 1\n",
    "        \n",
    "        next[i] = j\n",
    "    \n",
    "    return next\n",
    "\n",
    "def kmp_v2(s, p ):\n",
    "    next = build_next_v2(p)\n",
    "    # p已经匹配的字符下标\n",
    "    j = -1\n",
    "    for i in range(len(s)):\n",
    "        while j != -1 and s[i] != p[j+1]:\n",
    "            j = next[j]\n",
    "        \n",
    "        if s[i] == p[j+1]:\n",
    "            j += 1\n",
    "        \n",
    "        if j == len(p) - 1:\n",
    "            return i - j\n",
    "        \n",
    "    return -1"
   ]
  },
  {
   "cell_type": "markdown",
   "metadata": {},
   "source": [
    "### 复杂度分析\n",
    "\n",
    "> 空间复杂度：next数组长度等于模式串长度，所以复杂度为O(m)\n",
    ">\n",
    "> 时间复杂度：构建next数组O(m), 查找O(n+m)"
   ]
  },
  {
   "cell_type": "markdown",
   "metadata": {},
   "source": [
    "## 扩展\n",
    "\n",
    "### BM算法\n",
    "\n",
    "> 用于在文本S中搜索模式串P\n",
    ">\n",
    "> [参考](https://writings.sh/post/algorithm-string-searching-boyer-moore)\n",
    ">\n",
    "> [参考](image/字符串匹配%20-%20Boyer–Moore%20算法原理和实现.pdf)\n",
    "\n",
    "\n",
    "\n",
    "#### 整体思路\n",
    "> 1. 从模式串P尾部开始匹配，i, j 分别为 S、P 当前比较的位置下标，n, m分别为 S、P的长度，初始化 i=j=m-1\n",
    "> 2. 当 S[i] == P[j], i--, j--\n",
    "> 3. 当 S[i] != P[j], S[i] 称为“坏字符”，S[i+1:i+m-j]（后面已经匹配上的子串）称为“好后缀”。例如S为ABCAD，P为BAD，当 i = 2, j = 0时, “C”为坏字符，“AD”为好后缀\n",
    "> 4. 模式串有两种向后移动的方法(规则)\n",
    "> 5. 坏字符规则：在P当前失配位置左边找最近的匹配字符。例如P为ABCAB，失配时，S[i] = A, j=4, 最近的匹配字符为j=3的”A“\n",
    "> 6. 好后缀规则：在P当前失配位置左边找最近的匹配子串。例如P为ABCAB，失配时，S[i] = C, j=2，最近的匹配子串为j=0的”AB“\n",
    "> 7. 当 i >= s_len, 没匹配；当j < 0, 匹配\n",
    "\n",
    "##### 坏字符规则\n",
    "\n",
    "> 后移模式串，等同于后移i，也就是我们要找出i后移的距离d\n",
    ">\n",
    "> 二维坏字符表：行表示文本串中的字符，列表示失配时在P的位置，值表示i需要移动的距离d，d > m - j，坏字符在左边的位置为k，d = m - k"
   ]
  },
  {
   "cell_type": "code",
   "execution_count": 63,
   "metadata": {},
   "outputs": [
    {
     "data": {
      "text/html": [
       "<div>\n",
       "<style scoped>\n",
       "    .dataframe tbody tr th:only-of-type {\n",
       "        vertical-align: middle;\n",
       "    }\n",
       "\n",
       "    .dataframe tbody tr th {\n",
       "        vertical-align: top;\n",
       "    }\n",
       "\n",
       "    .dataframe thead th {\n",
       "        text-align: right;\n",
       "    }\n",
       "</style>\n",
       "<table border=\"1\" class=\"dataframe\">\n",
       "  <thead>\n",
       "    <tr style=\"text-align: right;\">\n",
       "      <th></th>\n",
       "      <th>0</th>\n",
       "      <th>1</th>\n",
       "      <th>2</th>\n",
       "      <th>3</th>\n",
       "      <th>4</th>\n",
       "      <th>5</th>\n",
       "      <th>6</th>\n",
       "    </tr>\n",
       "  </thead>\n",
       "  <tbody>\n",
       "    <tr>\n",
       "      <th>A</th>\n",
       "      <td>7</td>\n",
       "      <td>7</td>\n",
       "      <td>7</td>\n",
       "      <td>7</td>\n",
       "      <td>7</td>\n",
       "      <td>2</td>\n",
       "      <td>2</td>\n",
       "    </tr>\n",
       "    <tr>\n",
       "      <th>B</th>\n",
       "      <td>7</td>\n",
       "      <td>6</td>\n",
       "      <td>6</td>\n",
       "      <td>6</td>\n",
       "      <td>3</td>\n",
       "      <td>3</td>\n",
       "      <td>3</td>\n",
       "    </tr>\n",
       "    <tr>\n",
       "      <th>D</th>\n",
       "      <td>7</td>\n",
       "      <td>7</td>\n",
       "      <td>7</td>\n",
       "      <td>4</td>\n",
       "      <td>4</td>\n",
       "      <td>4</td>\n",
       "      <td>4</td>\n",
       "    </tr>\n",
       "    <tr>\n",
       "      <th>C</th>\n",
       "      <td>7</td>\n",
       "      <td>7</td>\n",
       "      <td>5</td>\n",
       "      <td>5</td>\n",
       "      <td>5</td>\n",
       "      <td>5</td>\n",
       "      <td>1</td>\n",
       "    </tr>\n",
       "  </tbody>\n",
       "</table>\n",
       "</div>"
      ],
      "text/plain": [
       "   0  1  2  3  4  5  6\n",
       "A  7  7  7  7  7  2  2\n",
       "B  7  6  6  6  3  3  3\n",
       "D  7  7  7  4  4  4  4\n",
       "C  7  7  5  5  5  5  1"
      ]
     },
     "execution_count": 63,
     "metadata": {},
     "output_type": "execute_result"
    }
   ],
   "source": [
    "# 2D bad character table\n",
    "import numpy as np\n",
    "import pandas as pd\n",
    "\n",
    "def bad_character_table(p):\n",
    "    m = len(p)\n",
    "    char = list(set(p))\n",
    "    table = pd.DataFrame(np.full((len(char), m), m), index=char)\n",
    "    for i in range(1, m):\n",
    "        table.iloc[:, i] = table.iloc[:, i-1]\n",
    "        table.loc[p[i-1], i] = m - i\n",
    "    return table\n",
    "\n",
    "bad_character_table('BCDBACD')"
   ]
  },
  {
   "cell_type": "markdown",
   "metadata": {},
   "source": [
    "##### 好后缀规则\n",
    "\n",
    "> 分两种情况\n",
    "> 1. 失配位置的左边能找到好后缀，假设失配位置为j，相当于找P[:j]最长的子串（最长前缀串），子串后缀为P[j+1:]，i移动的距离d，d > m-j, 重复串头部位置为t，d = m - t\n",
    "> 2. 失配位置的左边不能找到好后缀或能在前缀中找到部分好后缀，d = m + len(suffix) - len(prefix)\n",
    "\n",
    "> 因为我们要在失配位置左边找离失配位置最近的好后缀，所以先找第二种情况，再找第一种情况"
   ]
  },
  {
   "cell_type": "code",
   "execution_count": 64,
   "metadata": {},
   "outputs": [],
   "source": [
    "# good suffix table\n",
    "def good_suffix_table(p):\n",
    "    m = len(p)\n",
    "    table = [0] * m\n",
    "    # suffix not found\n",
    "    def good_suffix_not_on_left(p):\n",
    "        table[m-1] = 1\n",
    "        last_prefix_length = 0\n",
    "        for i in range(m-1, 0, -1):\n",
    "            suffix_length = m - i\n",
    "            if p[i:] == p[:m-i]:\n",
    "                last_prefix_length = prefix_length = suffix_length\n",
    "            else:\n",
    "                prefix_length = last_prefix_length\n",
    "            table[i-1] = m + suffix_length - prefix_length\n",
    "    # suffix found\n",
    "    def good_suffix_on_left(p):\n",
    "        def common_suffix_length(p, i, j):\n",
    "            length = 0\n",
    "            while i >= 0 and p[i] == p[j]:\n",
    "                length += 1\n",
    "                i -= 1\n",
    "                j -= 1\n",
    "            return length\n",
    "        \n",
    "        for i in range(m-1):\n",
    "            common_suffix_length_ = common_suffix_length(p, i, m-1)\n",
    "            if common_suffix_length_ > 0:\n",
    "                j = m - 1 - common_suffix_length_\n",
    "                table[j] = m - (i + 1 - common_suffix_length_)\n",
    "    \n",
    "    good_suffix_not_on_left(p)\n",
    "    good_suffix_on_left(p)\n",
    "    return table"
   ]
  },
  {
   "cell_type": "markdown",
   "metadata": {},
   "source": [
    "> 结合“坏字符”规则和“好后缀”规则，取两者后移比较大的值\n",
    "\n",
    "> 实践中，经常用一维”坏字符“规则，原因是实现简单，且结合上述逻辑，不会出现死循环"
   ]
  },
  {
   "cell_type": "code",
   "execution_count": 65,
   "metadata": {},
   "outputs": [
    {
     "data": {
      "text/plain": [
       "A    2\n",
       "B    3\n",
       "D    4\n",
       "C    1\n",
       "dtype: int64"
      ]
     },
     "execution_count": 65,
     "metadata": {},
     "output_type": "execute_result"
    },
    {
     "data": {
      "text/plain": [
       "7"
      ]
     },
     "execution_count": 65,
     "metadata": {},
     "output_type": "execute_result"
    }
   ],
   "source": [
    "# 1D bad character table\n",
    "def bad_character_table(p):\n",
    "    m = len(p)\n",
    "    char = list(set(p))\n",
    "    table = pd.Series([m] * len(char), index=char)\n",
    "    table[p[-1]] = 1\n",
    "    for i in range(m-1):\n",
    "        table[p[i]] = m - 1 - i\n",
    "    return table\n",
    "\n",
    "char_table = bad_character_table('BCDBACD')\n",
    "char_table\n",
    "char_table.get('F', len('BCDBACD'))"
   ]
  },
  {
   "cell_type": "code",
   "execution_count": 66,
   "metadata": {},
   "outputs": [
    {
     "data": {
      "text/plain": [
       "np.int64(9)"
      ]
     },
     "execution_count": 66,
     "metadata": {},
     "output_type": "execute_result"
    }
   ],
   "source": [
    "# BM\n",
    "def bm(s, p):\n",
    "    n, m = len(s), len(p)\n",
    "    if n < m:\n",
    "        return -1\n",
    "    bad_char = bad_character_table(p)\n",
    "    good_suffix = good_suffix_table(p)\n",
    "    i = m - 1\n",
    "    while i < n:\n",
    "        j = m - 1\n",
    "        while j >= 0 and s[i] == p[j]:\n",
    "            i -= 1\n",
    "            j -= 1\n",
    "        if j == -1:\n",
    "            return i + 1\n",
    "        i += max(bad_char.get(s[i], m), good_suffix[j]) # max(bad_char.loc[s[i], j], good_suffix[j])\n",
    "    return -1\n",
    "\n",
    "bm('BCBAABACAABABACAA', 'ABABAC')"
   ]
  },
  {
   "cell_type": "markdown",
   "metadata": {},
   "source": [
    "##### 复杂度分析\n",
    "\n",
    "> 空间复杂度：\n",
    ">> 坏字符表大小是字符集S，好后缀表大小是M，所以复杂度为O(S+M)\n",
    ">\n",
    "> 时间复杂度：\n",
    ">> “坏字符“规则：一维是O(M)，二维是O(M)\n",
    ">>\n",
    ">> “好后缀”规则：O(M2)\n",
    ">>\n",
    ">> 查找：\n",
    ">\n",
    "> 使用场景：M远比N小"
   ]
  },
  {
   "cell_type": "markdown",
   "metadata": {},
   "source": [
    "## Trie 树\n",
    "\n",
    "> 也叫字典树、前缀树，用于存储字符串集合，查找匹配某个前缀的子集\n",
    "\n",
    "### 应用场景\n",
    "> 1. 搜索关键词提示\n",
    "> 2. 输入自动补全"
   ]
  },
  {
   "cell_type": "code",
   "execution_count": 67,
   "metadata": {},
   "outputs": [
    {
     "data": {
      "text/plain": [
       "(Root) \n",
       "  (h) \n",
       "    (e) \n",
       "      (l) \n",
       "        (l) \n",
       "          (o) [End], len=5\n",
       "      (r) [End], len=3\n",
       "    (i) [End], len=2\n",
       "    (o) \n",
       "      (w) [End], len=3\n",
       "  (s) \n",
       "    (e) \n",
       "      (e) [End], len=3\n",
       "    (o) [End], len=2"
      ]
     },
     "execution_count": 67,
     "metadata": {},
     "output_type": "execute_result"
    },
    {
     "data": {
      "text/plain": [
       "False"
      ]
     },
     "execution_count": 67,
     "metadata": {},
     "output_type": "execute_result"
    }
   ],
   "source": [
    "class TrieNode:\n",
    "    def __init__(self):\n",
    "        self.ending_char = False\n",
    "        self.length = -1 # record string length when ending_char is True\n",
    "        self.children = [None] * 26 # consider character set only consist of a ~ z\n",
    "    \n",
    "    def __repr__(self, level=0, char=\"Root\"):\n",
    "        \"\"\" 递归打印 Trie 结构 \"\"\"\n",
    "        indent = \"  \" * level  # 控制缩进\n",
    "        children_repr = []\n",
    "        for i, child in enumerate(self.children):\n",
    "            if child:\n",
    "                children_repr.append(child.__repr__(level + 1, chr(ord('a') + i)))  # 递归打印子节点\n",
    "        return f\"{indent}({char}) {f'[End], len={self.length}' if self.ending_char else ''}\\n\" + \"\".join(children_repr)\n",
    "    \n",
    "\n",
    "class Trie:\n",
    "    def __init__(self, *patterns):\n",
    "        self.root = TrieNode()\n",
    "        self.insert(*patterns)\n",
    "    \n",
    "    def insert(self, *patterns):\n",
    "        for pattern in patterns:\n",
    "            p = self.root\n",
    "            for char in pattern:\n",
    "                idx = ord(char)-ord('a')\n",
    "                if not p.children[idx]:\n",
    "                    p.children[idx] = TrieNode()\n",
    "                p = p.children[idx]\n",
    "            p.ending_char = True\n",
    "            p.length = len(pattern)\n",
    "        \n",
    "    # 检查pattern是否在trie中\n",
    "    def find(self, pattern):\n",
    "        p = self.root\n",
    "        for char in pattern:\n",
    "            idx = ord(char) - ord('a')\n",
    "            if not p.children[idx]:\n",
    "                return False\n",
    "            p = p.children[idx]\n",
    "        return p.ending_char\n",
    "\n",
    "trie = Trie('how', 'hi', 'her', 'hello', 'so', 'see')\n",
    "trie.root\n",
    "# trie.insert('how', 'hi', 'her', 'hello', 'so', 'see')\n",
    "trie.find('ho')"
   ]
  },
  {
   "cell_type": "markdown",
   "metadata": {},
   "source": [
    "### 使用限制\n",
    "\n",
    "> 1. 字符集不能太大，大了浪费很多额外的存储空间。可以优化存储方式，比如缩点优化\n",
    "> 2. 字符串前缀重合要多\n",
    "\n",
    "### 性能分析\n",
    "> 空间复杂度：每个节点数组长度26，每个元素存储指针8字节， 节点个数为k，复杂度为O(208k)\n",
    ">\n",
    "> 时间复杂度\n",
    ">> 构建：O(m*len)，m是模式串个数，len是模式串平均长度\n",
    ">>\n",
    ">> 查找：O(n)，n是被查找的模式串长度\n",
    ">>\n",
    ">> 匹配：O(n*len)，n是文本串长度，len是模式串平均长度"
   ]
  },
  {
   "cell_type": "markdown",
   "metadata": {},
   "source": [
    "## AC自动机\n",
    "\n",
    "> 用于多模式串匹配，就是在多个模式串和主串之间匹配，也就是在主串中查找多个模式串\n",
    "> \n",
    "> 用单模式串匹配算法，也可以满足多模式串匹配的要求，不过效率很低，需要把每个模式串和主串匹配一遍\n",
    ">\n",
    "> 用 Trie 树虽然可以做到只匹配一遍，但是遇到不匹配的字符时，在主串中往后移动一位，从Trie根节点开始重新匹配，效率还是不高，类似单模式串下的BF算法"
   ]
  },
  {
   "cell_type": "code",
   "execution_count": 68,
   "metadata": {},
   "outputs": [
    {
     "data": {
      "text/plain": [
       "([[1, 4], [9, 12], [20, 23], [24, 26]], ['how', 'her', 'see', 'so'])"
      ]
     },
     "execution_count": 68,
     "metadata": {},
     "output_type": "execute_result"
    },
    {
     "data": {
      "text/plain": [
       "([[0, 3]], ['how'])"
      ]
     },
     "execution_count": 68,
     "metadata": {},
     "output_type": "execute_result"
    }
   ],
   "source": [
    "# 找到在text中出现的pattern的位置\n",
    "def trie_find(text, *patterns):\n",
    "    trie = Trie(*patterns)\n",
    "    i = 0\n",
    "    n = len(text)\n",
    "    matched = []\n",
    "    while i < n:\n",
    "        j = i\n",
    "        p = trie.root\n",
    "        while not p.ending_char and p.children[ord(text[j]) - ord('a')]:\n",
    "            p = p.children[ord(text[j]) - ord('a')]\n",
    "            j += 1\n",
    "        if p.ending_char:\n",
    "            # match\n",
    "            matched.append([i,j])\n",
    "            i = j\n",
    "        else:\n",
    "            # not match\n",
    "            i += 1\n",
    "    return matched, [text[i:j] for i, j in matched]\n",
    "\n",
    "trie_find('ahowiloveherbutshenoseeisosad', 'how', 'hi', 'her', 'hello', 'so', 'see')\n",
    "\n",
    "trie_find('how', 'how', 'ow')\n"
   ]
  },
  {
   "cell_type": "markdown",
   "metadata": {},
   "source": [
    "### failure pointer（失效指针）\n",
    "\n",
    "> 类似 KMP 算法中的 next 数组（失效函数），next 数组记录的是最长可匹配前缀最后一个字符下标。\n",
    "> \n",
    "> 拿模式串的后缀，和其他模式串的前缀匹配，failure pointer 指向最长可匹配的后缀对应的其他模式串前缀的最后一个字符节点"
   ]
  },
  {
   "cell_type": "code",
   "execution_count": 69,
   "metadata": {},
   "outputs": [
    {
     "data": {
      "text/plain": [
       "(Root) \n",
       "  (a) \n",
       "    (b) \n",
       "      (c) \n",
       "        (d) [End], len=4\n",
       "  (b) \n",
       "    (c) \n",
       "      (d) [End], len=3\n",
       "  (c) [End], len=1"
      ]
     },
     "execution_count": 69,
     "metadata": {},
     "output_type": "execute_result"
    },
    {
     "data": {
      "text/plain": [
       "([[2, 3], [0, 4], [1, 4]], ['c', 'abcd', 'bcd'])"
      ]
     },
     "execution_count": 69,
     "metadata": {},
     "output_type": "execute_result"
    }
   ],
   "source": [
    "from collections import deque\n",
    "\n",
    "\n",
    "class ACNode(TrieNode):\n",
    "    def __init__(self):\n",
    "        super().__init__()\n",
    "        self.fail = None\n",
    "\n",
    "\n",
    "class AC(Trie):\n",
    "    def __init__(self, *patterns):\n",
    "        self.root = ACNode()\n",
    "        super().insert(*patterns)\n",
    "        self.build_failure_pointer()\n",
    "\n",
    "    # failure pointer\n",
    "    def build_failure_pointer(self):\n",
    "        queue = deque([self.root])\n",
    "        while queue:\n",
    "            p = queue.popleft()\n",
    "            for idx, pc in enumerate(p.children):\n",
    "                if not pc:\n",
    "                    continue\n",
    "                if p == self.root:\n",
    "                    pc.fail = self.root\n",
    "                else:\n",
    "                    q = p.fail\n",
    "                    while q and not q.children[idx]:\n",
    "                        q = q.fail\n",
    "                    \n",
    "                    if q:\n",
    "                        pc.fail = q.children[idx]\n",
    "                    else:\n",
    "                        pc.fail = self.root\n",
    "\n",
    "                queue.append(pc)\n",
    "    \n",
    "    # 在text中匹配模式串\n",
    "    def match(self, text):\n",
    "        p = self.root\n",
    "        matched = []\n",
    "        for i, char in enumerate(text):\n",
    "            idx = ord(char) - ord('a')\n",
    "            while p != self.root and not p.children[idx]:\n",
    "                p = p.fail\n",
    "    \n",
    "            p = p.children[idx]\n",
    "\n",
    "            if not p:\n",
    "                p = self.root\n",
    "            \n",
    "            tmp = p\n",
    "            while tmp != self.root:\n",
    "                if tmp.ending_char:\n",
    "                    # found pattern\n",
    "                    matched.append([i+1-tmp.length, i+1])\n",
    "                \n",
    "                tmp = tmp.fail\n",
    "\n",
    "        return matched, [text[i:j] for i, j in matched]\n",
    "\n",
    "\n",
    "ac = AC('abcd', 'bcd', 'c')\n",
    "ac.root\n",
    "ac.match('abcde')"
   ]
  },
  {
   "cell_type": "markdown",
   "metadata": {},
   "source": [
    "### 性能分析\n",
    "\n",
    "> 时间复杂度\n",
    ">> 构建失败指针：O(k*len), k是节点个数，len是模式串平均长度\n",
    ">>\n",
    ">> 匹配：最坏情况O(n*len)，n是文本串长度，len是模式串平均长度，一般情况下，fail指针指向root，速度会快很多\n",
    "\n",
    "## 总结\n",
    "\n",
    "> 单模式串匹配：在文本串中查找一个模式串，常见算法有BF, RK, KMP, BM\n",
    ">\n",
    "> 多模式串匹配：在文本串中查找多个模式串，常见算法有Trie, AC\n",
    "\n",
    "||空间复杂度|时间复杂度\n",
    "|---|---|---\n",
    "|BF|O(1)|O(n*m)\n",
    "|RK|O(1)|O(n)\n",
    "|KMP|O(m)|O(n+m)\n",
    "|BM|O(m)|O(?n)\n",
    "|Trie|O(k)|O(n*len)\n",
    "|AC|O(k)|O(n*len)\n"
   ]
  }
 ],
 "metadata": {
  "kernelspec": {
   "display_name": ".venv",
   "language": "python",
   "name": "python3"
  },
  "language_info": {
   "codemirror_mode": {
    "name": "ipython",
    "version": 3
   },
   "file_extension": ".py",
   "mimetype": "text/x-python",
   "name": "python",
   "nbconvert_exporter": "python",
   "pygments_lexer": "ipython3",
   "version": "3.13.0"
  }
 },
 "nbformat": 4,
 "nbformat_minor": 2
}
