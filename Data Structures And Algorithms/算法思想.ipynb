{
 "cells": [
  {
   "cell_type": "markdown",
   "metadata": {},
   "source": [
    "# 算法思想\n",
    "\n",
    "## 贪心算法（Greedy Algorithm）\n",
    "\n",
    "> 贪心算法是一种算法思想，把问题分解成可迭代的子问题，在每个子问题中都选择局部最优解，所有的局部最优解叠加得到全局最优解\n",
    ">\n",
    "> 无后效性：当前选择不影响后续选择，判断能不能用贪心算法的一个重要准则\n",
    ">\n",
    "> 掌握贪心算法诀窍：多练\n",
    "\n",
    "### 经典问题"
   ]
  },
  {
   "cell_type": "code",
   "execution_count": 3,
   "metadata": {},
   "outputs": [],
   "source": [
    "from IPython.core.interactiveshell import InteractiveShell\n",
    "InteractiveShell.ast_node_interactivity = \"all\""
   ]
  },
  {
   "cell_type": "code",
   "execution_count": null,
   "metadata": {},
   "outputs": [],
   "source": [
    "# \n"
   ]
  },
  {
   "cell_type": "markdown",
   "metadata": {},
   "source": [
    "## 分治算法（divide and conquer）\n",
    "\n",
    "> 分而治之，最常见的实现方式：递归\n",
    ">\n",
    "> 子问题之间没有依赖\n",
    "\n",
    "### 经典问题"
   ]
  },
  {
   "cell_type": "code",
   "execution_count": null,
   "metadata": {},
   "outputs": [],
   "source": [
    "#"
   ]
  },
  {
   "cell_type": "markdown",
   "metadata": {},
   "source": [
    "## 回溯算法（backtracking）\n",
    "\n",
    "> 本质上是枚举，注意做到不遗漏、不重复\n",
    ">\n",
    "> 常见用迭代 + 递归来实现，比如dfs\n",
    ">\n",
    "> 运用在最优化问题上时，要用记忆化搜索+剪枝条件，避免低效的搜索\n",
    "\n",
    "### 经典问题"
   ]
  },
  {
   "cell_type": "code",
   "execution_count": 5,
   "metadata": {},
   "outputs": [
    {
     "data": {
      "text/plain": [
       "[[1, 2, 3], [1, 2, 4], [1, 3, 4], [2, 3, 4]]"
      ]
     },
     "execution_count": 5,
     "metadata": {},
     "output_type": "execute_result"
    },
    {
     "data": {
      "text/plain": [
       "[[1],\n",
       " [1, 2],\n",
       " [1, 2, 3],\n",
       " [1, 2, 3, 4],\n",
       " [1, 2, 4],\n",
       " [1, 3],\n",
       " [1, 3, 4],\n",
       " [1, 4],\n",
       " [2],\n",
       " [2, 3],\n",
       " [2, 3, 4],\n",
       " [2, 4],\n",
       " [3],\n",
       " [3, 4],\n",
       " [4]]"
      ]
     },
     "execution_count": 5,
     "metadata": {},
     "output_type": "execute_result"
    }
   ],
   "source": [
    "# 组合\n",
    "def combine(nums, k):\n",
    "    n = len(nums)\n",
    "    combs = []\n",
    "    comb = []\n",
    "    def dfs(start):\n",
    "        if len(comb) == k:\n",
    "            combs.append(comb[:])\n",
    "            return\n",
    "        for i in range(start, n):\n",
    "            comb.append(nums[i])\n",
    "            dfs(i+1)\n",
    "            comb.pop()\n",
    "    \n",
    "    dfs(0)\n",
    "    return combs\n",
    "\n",
    "combine([1,2,3,4], 3)\n",
    "\n",
    "\n",
    "def subsets(nums):\n",
    "    n = len(nums)\n",
    "    res = []\n",
    "    sub = []\n",
    "    def dfs(start):\n",
    "        if start == n:\n",
    "            return\n",
    "        for i in range(start, n):\n",
    "            sub.append(nums[i])\n",
    "            res.append(sub[:])\n",
    "            dfs(i+1)\n",
    "            sub.pop()\n",
    "    \n",
    "    dfs(0)\n",
    "    return res\n",
    "\n",
    "subsets([1,2,3,4])"
   ]
  },
  {
   "cell_type": "code",
   "execution_count": 8,
   "metadata": {},
   "outputs": [
    {
     "data": {
      "text/plain": [
       "[[1, 2], [1, 3], [2, 1], [2, 3], [3, 2], [3, 1]]"
      ]
     },
     "execution_count": 8,
     "metadata": {},
     "output_type": "execute_result"
    },
    {
     "data": {
      "text/plain": [
       "[[1],\n",
       " [1, 2],\n",
       " [1, 2, 3],\n",
       " [1, 2, 3, 4],\n",
       " [1, 2, 4],\n",
       " [1, 2, 4, 3],\n",
       " [1, 3],\n",
       " [1, 3, 2],\n",
       " [1, 3, 2, 4],\n",
       " [1, 3, 4],\n",
       " [1, 3, 4, 2],\n",
       " [1, 4],\n",
       " [1, 4, 3],\n",
       " [1, 4, 3, 2],\n",
       " [1, 4, 2],\n",
       " [1, 4, 2, 3],\n",
       " [2],\n",
       " [2, 1],\n",
       " [2, 1, 3],\n",
       " [2, 1, 3, 4],\n",
       " [2, 1, 4],\n",
       " [2, 1, 4, 3],\n",
       " [2, 3],\n",
       " [2, 3, 1],\n",
       " [2, 3, 1, 4],\n",
       " [2, 3, 4],\n",
       " [2, 3, 4, 1],\n",
       " [2, 4],\n",
       " [2, 4, 3],\n",
       " [2, 4, 3, 1],\n",
       " [2, 4, 1],\n",
       " [2, 4, 1, 3],\n",
       " [3],\n",
       " [3, 2],\n",
       " [3, 2, 1],\n",
       " [3, 2, 1, 4],\n",
       " [3, 2, 4],\n",
       " [3, 2, 4, 1],\n",
       " [3, 1],\n",
       " [3, 1, 2],\n",
       " [3, 1, 2, 4],\n",
       " [3, 1, 4],\n",
       " [3, 1, 4, 2],\n",
       " [3, 4],\n",
       " [3, 4, 1],\n",
       " [3, 4, 1, 2],\n",
       " [3, 4, 2],\n",
       " [3, 4, 2, 1],\n",
       " [4],\n",
       " [4, 2],\n",
       " [4, 2, 3],\n",
       " [4, 2, 3, 1],\n",
       " [4, 2, 1],\n",
       " [4, 2, 1, 3],\n",
       " [4, 3],\n",
       " [4, 3, 2],\n",
       " [4, 3, 2, 1],\n",
       " [4, 3, 1],\n",
       " [4, 3, 1, 2],\n",
       " [4, 1],\n",
       " [4, 1, 3],\n",
       " [4, 1, 3, 2],\n",
       " [4, 1, 2],\n",
       " [4, 1, 2, 3]]"
      ]
     },
     "execution_count": 8,
     "metadata": {},
     "output_type": "execute_result"
    }
   ],
   "source": [
    "# 排列\n",
    "\n",
    "def permute(nums, k):\n",
    "    n = len(nums)\n",
    "    permu = []\n",
    "    def dfs(start):\n",
    "        if start == k:\n",
    "            permu.append(nums[:k])\n",
    "        for i in range(start, n):\n",
    "            nums[i], nums[start] = nums[start], nums[i]\n",
    "            dfs(start+1)\n",
    "            nums[i], nums[start] = nums[start], nums[i]\n",
    "    \n",
    "    dfs(0)\n",
    "    return permu\n",
    "\n",
    "permute([1,2,3], 2)\n",
    "\n",
    "\n",
    "def ordered_subsets(nums):\n",
    "    n = len(nums)\n",
    "    res = []\n",
    "    def dfs(start):\n",
    "        if start == n:\n",
    "            return\n",
    "        for i in range(start, n):\n",
    "            nums[i], nums[start] = nums[start], nums[i]\n",
    "            res.append(nums[:start+1])\n",
    "            dfs(start+1)\n",
    "            nums[i], nums[start] = nums[start], nums[i]\n",
    "    dfs(0)\n",
    "    return res\n",
    "\n",
    "ordered_subsets([1,2,3,4])"
   ]
  },
  {
   "cell_type": "code",
   "execution_count": null,
   "metadata": {},
   "outputs": [],
   "source": [
    "# N-Queue"
   ]
  },
  {
   "cell_type": "code",
   "execution_count": null,
   "metadata": {},
   "outputs": [],
   "source": [
    "# sudoku"
   ]
  },
  {
   "cell_type": "code",
   "execution_count": null,
   "metadata": {},
   "outputs": [],
   "source": [
    "# 0-1 背包"
   ]
  },
  {
   "cell_type": "markdown",
   "metadata": {},
   "source": [
    "## 动态规划\n",
    "\n",
    "> 一个模型三个特征\n",
    ">\n",
    "> 一个模型：多阶段决策的最优问题\n",
    ">\n",
    "> 三个特征：\n",
    "> 1. 最优子结构\n",
    "> 2. 无后效性\n",
    "> 3. 重复子问题\n",
    "\n",
    "### 经典问题"
   ]
  },
  {
   "cell_type": "code",
   "execution_count": null,
   "metadata": {},
   "outputs": [],
   "source": [
    "# 0-1 背包"
   ]
  },
  {
   "cell_type": "code",
   "execution_count": null,
   "metadata": {},
   "outputs": [],
   "source": [
    "# 零钱"
   ]
  },
  {
   "cell_type": "code",
   "execution_count": 4,
   "metadata": {},
   "outputs": [
    {
     "data": {
      "text/plain": [
       "3"
      ]
     },
     "execution_count": 4,
     "metadata": {},
     "output_type": "execute_result"
    },
    {
     "data": {
      "text/plain": [
       "4"
      ]
     },
     "execution_count": 4,
     "metadata": {},
     "output_type": "execute_result"
    }
   ],
   "source": [
    "# 字符串相似度\n",
    "\n",
    "def lwst_distance(text1, text2):\n",
    "    '''\n",
    "    莱文斯坦距离\n",
    "    t1[i]等于t2[j]时，距离不变，接着比较t1[i+1]和t2[j+1]\n",
    "    t1[i]不等于t2[j]时\n",
    "        1. 在t1[i]前面插入t2[j]或者删除t2[j]，距离+1，接着比较t1[i]和t2[j+1]\n",
    "        2. 在t2[j]前面插入t1[i]或者删除t1[i]，距离+1，接着比较t1[i+1]和t2[j]\n",
    "        3. 替换t1[i]成t2[j]或者替换t2[j]成t2[i]，距离+1，接着比较t1[i+1]和t2[j+1] \n",
    "    '''\n",
    "    n, m = len(text1), len(text2)\n",
    "    dist = [[None] * m for _ in range(n)]\n",
    "    dist[0][0] = 0 if text1[0] == text2[0] else 1\n",
    "\n",
    "    # 初始化第一行\n",
    "    for j in range(1, m):\n",
    "        dist[0][j] = dist[0][j-1] + 1\n",
    "    \n",
    "    # 初始化第一列\n",
    "    for i in range(1, n):\n",
    "        dist[i][0] = dist[i-1][0] + 1\n",
    "    \n",
    "    for i in range(1, n):\n",
    "        for j in range(1, m):\n",
    "            if text1[i] == text2[j]:\n",
    "                dist[i][j] = min(dist[i-1][j]+1, dist[i][j-1]+1, dist[i-1][j-1])\n",
    "            else:\n",
    "                dist[i][j] = min(dist[i-1][j]+1, dist[i][j-1]+1, dist[i-1][j-1]+1)\n",
    "    \n",
    "    return dist[-1][-1]\n",
    "\n",
    "lwst_distance('mitcmu', 'mtacnu')\n",
    "\n",
    "\n",
    "def max_common_substr(text1, text2):\n",
    "    '''\n",
    "    最长公共子串\n",
    "    t1[i]等于t2[j]时，长度+1，接着比较t1[i+1]和t2[j+1]\n",
    "    t1[i]不等于t2[j]时\n",
    "        1. 在t1[i]前面插入t2[j]或者删除t2[j]，距离+1，接着比较t1[i]和t2[j+1]\n",
    "        2. 在t2[j]前面插入t1[i]或者删除t1[i]，距离+1，接着比较t1[i+1]和t2[j]\n",
    "    '''\n",
    "    n, m = len(text1), len(text2)\n",
    "    dist = [[None] * m for _ in range(n)]\n",
    "    dist[0][0] = 1 if text1[0] == text2[0] else 0\n",
    "    # 初始化第一行\n",
    "    for j in range(1, m):\n",
    "        dist[0][j] = dist[0][j-1]\n",
    "    \n",
    "    # 初始化第一列\n",
    "    for i in range(1, n):\n",
    "        dist[i][0] = dist[i-1][0]\n",
    "    \n",
    "    for i in range(1, n):\n",
    "        for j in range(1, m):\n",
    "            if text1[i] == text2[j]:\n",
    "                dist[i][j] = max(dist[i-1][j], dist[i][j-1], dist[i-1][j-1]+1)\n",
    "            else:\n",
    "                dist[i][j] = max(dist[i-1][j], dist[i][j-1], dist[i-1][j-1])\n",
    "    \n",
    "    return dist[-1][-1]\n",
    "\n",
    "max_common_substr('mitcmu', 'mtacnu')"
   ]
  },
  {
   "cell_type": "markdown",
   "metadata": {},
   "source": [
    "### 解题技巧\n",
    "\n",
    "> 看问题是否符合多阶段决策模型\n",
    ">\n",
    "> 定义状态，思考回溯算法是否存在重复子问题，剪枝\n",
    ">\n",
    "> 修改状态定义，写出状态转移方程，用DP算法"
   ]
  }
 ],
 "metadata": {
  "kernelspec": {
   "display_name": ".venv",
   "language": "python",
   "name": "python3"
  },
  "language_info": {
   "codemirror_mode": {
    "name": "ipython",
    "version": 3
   },
   "file_extension": ".py",
   "mimetype": "text/x-python",
   "name": "python",
   "nbconvert_exporter": "python",
   "pygments_lexer": "ipython3",
   "version": "3.13.0"
  }
 },
 "nbformat": 4,
 "nbformat_minor": 2
}
