{
 "cells": [
  {
   "cell_type": "markdown",
   "metadata": {},
   "source": [
    "# BM算法\n",
    "\n",
    "> 用于在文本S中搜索模式串P\n",
    "\n",
    "\n",
    "\n",
    "## 整体思路\n",
    "> 1. 从模式串P尾部开始匹配，i, j 分别为 S、P 当前比较的位置下标，n, m分别为 S、P的长度，初始化 i=j=m-1\n",
    "> 2. 当 S[i] == P[j], i--, j--\n",
    "> 3. 当 S[i] != P[j], S[i] 称为“坏字符”，S[i+1:i+m-j]（后面已经匹配上的子串）称为“好后缀”。例如S为ABCAD，P为BAD，当 i = 2, j = 0时, “C”为坏字符，“AD”为好后缀\n",
    "> 4. 模式串有两种向后移动的方法(规则)\n",
    "> 5. 坏字符规则：在P当前失配位置左边找最近的匹配字符。例如P为ABCAB，失配时，S[i] = A, j=4, 最近的匹配字符为j=3的”A“\n",
    "> 6. 好后缀规则：在P当前失配位置左边找最近的匹配子串。例如P为ABCAB，失配时，S[i] = C, j=2，最近的匹配子串为j=0的”AB“\n",
    "> 7. 当 i >= s_len, 没匹配；当j < 0, 匹配\n",
    "\n",
    "### 坏字符规则\n",
    "\n",
    "> 后移模式串，等同于后移i，也就是我们要找出i后移的距离d\n",
    "> 二维坏字符表：行表示文本串中的字符，列表示失配时在P的位置，值表示i需要移动的距离d，d > m - j，坏字符在左边的位置为k，d = m - k"
   ]
  },
  {
   "cell_type": "code",
   "execution_count": 1,
   "metadata": {},
   "outputs": [
    {
     "name": "stdout",
     "output_type": "stream",
     "text": [
      "   0  1  2  3  4  5  6\n",
      "A  7  7  7  7  7  2  2\n",
      "D  7  7  7  4  4  4  4\n",
      "B  7  6  6  6  3  3  3\n",
      "C  7  7  5  5  5  5  1\n"
     ]
    }
   ],
   "source": [
    "# 2D bad character table\n",
    "import numpy as np\n",
    "import pandas as pd\n",
    "\n",
    "def bad_character_table(p):\n",
    "    m = len(p)\n",
    "    char = list(set(p))\n",
    "    table = pd.DataFrame(np.full((len(char), m), m), index=char)\n",
    "    for i in range(1, m):\n",
    "        table.iloc[:, i] = table.iloc[:, i-1]\n",
    "        table.loc[p[i-1], i] = m - i\n",
    "    return table\n",
    "\n",
    "print(bad_character_table('BCDBACD'))\n"
   ]
  },
  {
   "cell_type": "markdown",
   "metadata": {},
   "source": [
    "### 好后缀规则\n",
    "\n",
    "> 分两种情况\n",
    "> 1. 失配位置的左边能找到好后缀，假设失配位置为j，相当于找P[:j]最长的子串（最长前缀串），子串后缀为P[j+1:]，i移动的距离d，d > m-j, 重复串头部位置为t，d = m - t\n",
    "> 2. 失配位置的左边不能找到好后缀或能在前缀中找到部分好后缀，d = m + len(suffix) - len(prefix)\n",
    "\n",
    "> 因为我们要在失配位置左边找离失配位置最近的好后缀，所以先找第二种情况，再找第一种情况"
   ]
  },
  {
   "cell_type": "code",
   "execution_count": 2,
   "metadata": {},
   "outputs": [],
   "source": [
    "# good suffix table\n",
    "def good_suffix_table(p):\n",
    "    m = len(p)\n",
    "    table = [0] * m\n",
    "    # suffix not found\n",
    "    def good_suffix_not_on_left(p):\n",
    "        table[m-1] = 1\n",
    "        last_prefix_length = 0\n",
    "        for i in range(m-1, 0, -1):\n",
    "            suffix_length = m - i\n",
    "            if p[i:] == p[:m-i]:\n",
    "                last_prefix_length = prefix_length = suffix_length\n",
    "            else:\n",
    "                prefix_length = last_prefix_length\n",
    "            table[i-1] = m + suffix_length - prefix_length\n",
    "    # suffix found\n",
    "    def good_suffix_on_left(p):\n",
    "        def common_suffix_length(p, i, j):\n",
    "            length = 0\n",
    "            while i >= 0 and p[i] == p[j]:\n",
    "                length += 1\n",
    "                i -= 1\n",
    "                j -= 1\n",
    "            return length\n",
    "        \n",
    "        for i in range(m-1):\n",
    "            common_suffix_length_ = common_suffix_length(p, i, m-1)\n",
    "            if common_suffix_length_ > 0:\n",
    "                j = m - 1 - common_suffix_length_\n",
    "                table[j] = m - (i + 1 - common_suffix_length_)\n",
    "    \n",
    "    good_suffix_not_on_left(p)\n",
    "    good_suffix_on_left(p)\n",
    "    return table"
   ]
  },
  {
   "cell_type": "markdown",
   "metadata": {},
   "source": [
    "> 结合“坏字符”规则和“好后缀”规则，取两者后移比较大的值\n",
    "\n",
    "> 实践中，经常用一维”坏字符“规则，原因是实现简单，且结合上述逻辑，不会出现死循环"
   ]
  },
  {
   "cell_type": "code",
   "execution_count": 3,
   "metadata": {},
   "outputs": [
    {
     "name": "stdout",
     "output_type": "stream",
     "text": [
      "A    2\n",
      "D    4\n",
      "B    3\n",
      "C    1\n",
      "dtype: int64\n",
      "7\n"
     ]
    }
   ],
   "source": [
    "# 1D bad character table\n",
    "def bad_character_table(p):\n",
    "    m = len(p)\n",
    "    char = list(set(p))\n",
    "    table = pd.Series([m] * len(char), index=char)\n",
    "    table[p[-1]] = 1\n",
    "    for i in range(m-1):\n",
    "        table[p[i]] = m - 1 - i\n",
    "    return table\n",
    "\n",
    "char_table = bad_character_table('BCDBACD')\n",
    "print(char_table)\n",
    "print(char_table.get('F', len('BCDBACD')))"
   ]
  },
  {
   "cell_type": "code",
   "execution_count": 4,
   "metadata": {},
   "outputs": [
    {
     "name": "stdout",
     "output_type": "stream",
     "text": [
      "9\n"
     ]
    }
   ],
   "source": [
    "# BM\n",
    "def bm(s, p):\n",
    "    n, m = len(s), len(p)\n",
    "    if n < m:\n",
    "        return -1\n",
    "    bad_char = bad_character_table(p)\n",
    "    good_suffix = good_suffix_table(p)\n",
    "    i = m - 1\n",
    "    while i < n:\n",
    "        j = m - 1\n",
    "        while j >= 0 and s[i] == p[j]:\n",
    "            i -= 1\n",
    "            j -= 1\n",
    "        if j == -1:\n",
    "            return i + 1\n",
    "        i += max(bad_char.get(s[i], m), good_suffix[j]) # max(bad_char.loc[s[i], j], good_suffix[j])\n",
    "    return -1\n",
    "\n",
    "print(bm('BCBAABACAABABACAA', 'ABABAC'))"
   ]
  },
  {
   "cell_type": "markdown",
   "metadata": {},
   "source": [
    "## 复杂度分析\n",
    "\n",
    "> “坏字符“规则：一维是O(S + M)，二维是O(S * M), S是考虑的字符集，M是P的长度\n",
    "> “好后缀”规则：O(M2)\n",
    "> 查找：O(N*M)\n",
    "\n",
    "> 使用场景：M远比N小"
   ]
  },
  {
   "cell_type": "markdown",
   "metadata": {},
   "source": [
    "================= 分割线 ================="
   ]
  },
  {
   "cell_type": "code",
   "execution_count": 29,
   "metadata": {},
   "outputs": [],
   "source": [
    "from IPython.core.interactiveshell import InteractiveShell\n",
    "InteractiveShell.ast_node_interactivity = \"all\""
   ]
  },
  {
   "cell_type": "code",
   "execution_count": 31,
   "metadata": {},
   "outputs": [
    {
     "data": {
      "text/plain": [
       "'\\nkmp\\n1. 从前往后匹配\\n2. 出现不匹配字符时，在模式串的前缀子串中迭代找可以匹配的字符\\n'"
      ]
     },
     "execution_count": 31,
     "metadata": {},
     "output_type": "execute_result"
    },
    {
     "data": {
      "text/plain": [
       "[0, 0, 1, 2, 3, 0, 1]"
      ]
     },
     "execution_count": 31,
     "metadata": {},
     "output_type": "execute_result"
    },
    {
     "data": {
      "text/plain": [
       "[-1, -1, 0, 1, 2, -1, 0]"
      ]
     },
     "execution_count": 31,
     "metadata": {},
     "output_type": "execute_result"
    },
    {
     "data": {
      "text/plain": [
       "2"
      ]
     },
     "execution_count": 31,
     "metadata": {},
     "output_type": "execute_result"
    },
    {
     "data": {
      "text/plain": [
       "2"
      ]
     },
     "execution_count": 31,
     "metadata": {},
     "output_type": "execute_result"
    }
   ],
   "source": [
    "'''\n",
    "kmp\n",
    "1. 从前往后匹配\n",
    "2. 出现不匹配字符时，在模式串的前缀子串中迭代找可以匹配的字符\n",
    "'''\n",
    "\n",
    "# next 数组存前、后缀最长公共子串长度\n",
    "def build_next(p):\n",
    "    next = [0] * len(p)\n",
    "    \n",
    "    j = 0\n",
    "    for i in range(1, len(p)):\n",
    "        # p[j] 是最长公共前缀串的下一个字符\n",
    "        while j > 0 and p[i] != p[j]:\n",
    "            j = next[j-1]\n",
    "        \n",
    "        if p[i] == p[j]:\n",
    "            j += 1\n",
    "        \n",
    "        next[i] = j\n",
    "    \n",
    "    return next\n",
    "\n",
    "# next 数组存最长公共前缀的最后一个字符的下标\n",
    "def build_next_v2(p):\n",
    "    next = [-1] * len(p)\n",
    "    j = -1\n",
    "    for i in range(1, len(p)):\n",
    "        # p[j+1] 是最长公共前缀串的下一个字符\n",
    "        while j != -1 and p[i] != p[j+1]:\n",
    "            j = next[j]\n",
    "        \n",
    "        if p[i] == p[j+1]:\n",
    "            j += 1\n",
    "        \n",
    "        next[i] = j\n",
    "    \n",
    "    return next\n",
    "\n",
    "\n",
    "build_next(\"ababaca\")\n",
    "build_next_v2(\"ababaca\")\n",
    "\n",
    "\n",
    "def kmp(s, p):\n",
    "    next = build_next(p)\n",
    "    # 模式串待比较的字符下标\n",
    "    j = 0\n",
    "    for i in range(len(s)):\n",
    "        while j > 0 and s[i] != p[j]:\n",
    "            j = next[j-1]\n",
    "\n",
    "        if s[i] == p[j]:\n",
    "            j += 1\n",
    "        \n",
    "        if j == len(p):\n",
    "            return i - j + 1\n",
    "    \n",
    "    return -1\n",
    "\n",
    "\n",
    "def kmp_v2(s, p ):\n",
    "    next = build_next_v2(p)\n",
    "    # p已经匹配的字符下标\n",
    "    j = -1\n",
    "    for i in range(len(s)):\n",
    "        while j != -1 and s[i] != p[j+1]:\n",
    "            j = next[j]\n",
    "        \n",
    "        if s[i] == p[j+1]:\n",
    "            j += 1\n",
    "        \n",
    "        if j == len(p) - 1:\n",
    "            return i - j\n",
    "        \n",
    "    return -1\n",
    "\n",
    "\n",
    "kmp('hello', 'll')\n",
    "kmp_v2('hello', 'll')\n"
   ]
  },
  {
   "cell_type": "code",
   "execution_count": 33,
   "metadata": {},
   "outputs": [
    {
     "data": {
      "text/plain": [
       "'\\nbm\\n1. 从后往前匹配\\n2. 出现不匹配时，使用坏字符规则和好后缀规则后移\\n'"
      ]
     },
     "execution_count": 33,
     "metadata": {},
     "output_type": "execute_result"
    },
    {
     "data": {
      "text/plain": [
       "9"
      ]
     },
     "execution_count": 33,
     "metadata": {},
     "output_type": "execute_result"
    }
   ],
   "source": [
    "'''\n",
    "bm\n",
    "1. 从后往前匹配\n",
    "2. 出现不匹配时，使用坏字符规则和好后缀规则后移\n",
    "'''\n",
    "\n",
    "def bm(s, p):\n",
    "    bc_table = bad_character(p)\n",
    "    gs_table = good_suffix_table(p)\n",
    "    i = len(p) - 1\n",
    "    while i < len(s):\n",
    "        j = len(p) - 1\n",
    "        while j >= 0 and s[i] == p[j]:\n",
    "            i -= 1\n",
    "            j -= 1\n",
    "\n",
    "        if j < 0:\n",
    "            return i + 1\n",
    "            \n",
    "        i += max(bc_table[ord(s[i])- ord('a')], gs_table[j])\n",
    "\n",
    "    return -1\n",
    "\n",
    "def bad_character(p):\n",
    "    table = [len(p)] * 256\n",
    "    for i in range(len(p)):\n",
    "        table[ord(p[i])-ord('a')] = len(p) - 1 - i\n",
    "    \n",
    "    return table\n",
    "\n",
    "\n",
    "def good_suffix(p):\n",
    "    table = [0] * len(p)\n",
    "    table[-1] = 1\n",
    "    def not_on_left():\n",
    "        last_prefix_len = 0\n",
    "        # i 是好后缀开头字符下标\n",
    "        for i in range(len(p)-1, 0, -1):\n",
    "            suffix_len = len(p) - i\n",
    "            if p[i:] == p[:len(p)-i]:\n",
    "                prefix_len = suffix_len\n",
    "                last_prefix_len = prefix_len\n",
    "            else:\n",
    "                prefix_len = last_prefix_len\n",
    "            \n",
    "            # i - 1 失配下标\n",
    "            table[i-1] = len(p) + suffix_len - prefix_len\n",
    "\n",
    "\n",
    "    def on_left():\n",
    "        def common_suffix_len(i, j):\n",
    "            length = 0\n",
    "            while i >= 0 and p[i] == p[j]:\n",
    "                length += 1\n",
    "                i -= 1\n",
    "                j -= 1\n",
    "            \n",
    "            return length\n",
    "        \n",
    "        for i in range(len(p)-1):\n",
    "            suffix_len = common_suffix_len(i, len(p)-1)\n",
    "            if suffix_len > 0:\n",
    "                table[len(p)-1-suffix_len] = len(p) - (i + 1 - suffix_len)\n",
    "    \n",
    "    not_on_left()\n",
    "    on_left()\n",
    "    return table\n",
    "\n",
    "bm('BCBAABACAABABACAA', 'ABABAC')"
   ]
  },
  {
   "cell_type": "code",
   "execution_count": 57,
   "metadata": {},
   "outputs": [
    {
     "data": {
      "text/plain": [
       "[[1, 2], [1, 3], [2, 1], [2, 3], [3, 2], [3, 1]]"
      ]
     },
     "execution_count": 57,
     "metadata": {},
     "output_type": "execute_result"
    }
   ],
   "source": [
    "def permute(nums, k):\n",
    "    n = len(nums)\n",
    "    permu = []\n",
    "    def dfs(start):\n",
    "        if start == k:\n",
    "            permu.append(nums[:k])\n",
    "        for i in range(start, n):\n",
    "            nums[i], nums[start] = nums[start], nums[i]\n",
    "            dfs(start+1)\n",
    "            nums[i], nums[start] = nums[start], nums[i]\n",
    "    \n",
    "    dfs(0)\n",
    "    return permu\n",
    "\n",
    "permute([1,2,3], 2)\n"
   ]
  },
  {
   "cell_type": "code",
   "execution_count": 52,
   "metadata": {},
   "outputs": [
    {
     "data": {
      "text/plain": [
       "[[1, 2, 3], [1, 2, 4], [1, 3, 4], [2, 3, 4]]"
      ]
     },
     "execution_count": 52,
     "metadata": {},
     "output_type": "execute_result"
    }
   ],
   "source": [
    "def combine(nums, k):\n",
    "    n = len(nums)\n",
    "    combs = []\n",
    "    comb = []\n",
    "    def dfs(start):\n",
    "        if len(comb) == k:\n",
    "            combs.append(comb[:])\n",
    "            return\n",
    "        for i in range(start, n):\n",
    "            comb.append(nums[i])\n",
    "            dfs(i+1)\n",
    "            comb.pop()\n",
    "    \n",
    "    dfs(0)\n",
    "    return combs\n",
    "\n",
    "combine([1,2,3,4], 3)\n",
    "        "
   ]
  },
  {
   "cell_type": "code",
   "execution_count": 60,
   "metadata": {},
   "outputs": [
    {
     "data": {
      "text/plain": [
       "9"
      ]
     },
     "execution_count": 60,
     "metadata": {},
     "output_type": "execute_result"
    }
   ],
   "source": [
    "def knapsack1(w, target):\n",
    "    n = len(w)\n",
    "    dp = [[False] * (target+1)] * n\n",
    "    dp[0][0] = True\n",
    "    if w[0] <= target:\n",
    "        dp[0][w[0]] = True\n",
    "    \n",
    "    for i in range(1, n):\n",
    "        for j in range(target+1):\n",
    "            if not dp[i-1][j]:\n",
    "                continue\n",
    "            # not select\n",
    "            dp[i][j] = True\n",
    "            # select\n",
    "            if j + w[i] <= target:\n",
    "                dp[i][j+w[i]] = True\n",
    "    \n",
    "    \n",
    "    for i in range(target, -1, -1):\n",
    "        if dp[n-1][i]:\n",
    "            return i\n",
    "    \n",
    "    return 0\n",
    "\n",
    "knapsack1([1,2,2,4,6], 9)"
   ]
  },
  {
   "cell_type": "code",
   "execution_count": 61,
   "metadata": {},
   "outputs": [
    {
     "data": {
      "text/plain": [
       "9"
      ]
     },
     "execution_count": 61,
     "metadata": {},
     "output_type": "execute_result"
    }
   ],
   "source": [
    "def knapsack1_v2(w, target):\n",
    "    n = len(w)\n",
    "    dp = [False] * (target+1)\n",
    "    dp[0] = True\n",
    "    \n",
    "    if w[0] <= target:\n",
    "        dp[w[0]] = True\n",
    "\n",
    "    for i in range(1, n):\n",
    "        for j in range(target-w[i], -1 , -1):\n",
    "            if dp[j]:\n",
    "                dp[j+w[i]] = True\n",
    "\n",
    "    for i in range(target, -1, -1):\n",
    "        if dp[i]:\n",
    "            return i\n",
    "\n",
    "    return 0\n",
    "\n",
    "knapsack1_v2([1,2,2,4,6], 9)"
   ]
  },
  {
   "cell_type": "code",
   "execution_count": 62,
   "metadata": {},
   "outputs": [
    {
     "data": {
      "text/plain": [
       "18"
      ]
     },
     "execution_count": 62,
     "metadata": {},
     "output_type": "execute_result"
    }
   ],
   "source": [
    "def knapsack2(w, v, capacity):\n",
    "    n = len(w)\n",
    "    dp = [[-1] * (capacity + 1)] * n\n",
    "    dp[0][0] = 0\n",
    "    if w[0] <= capacity:\n",
    "        dp[0][w[0]] = v[0]\n",
    "    \n",
    "    for i in range(1, n):\n",
    "        for j in range(capacity+1):\n",
    "            if dp[i-1][j] == -1:\n",
    "                continue\n",
    "            # select\n",
    "            dp[i][j] = dp[i-1][j]\n",
    "            # not select\n",
    "            if j + w[i] <= capacity:\n",
    "                dp[i][j+w[i]] = max(dp[i][j+w[i]], dp[i-1][j]+v[i])\n",
    "    \n",
    "    return max(dp[n-1])\n",
    "\n",
    "knapsack2([2,2,4,6,3], [3,4,8,9,6], 9)"
   ]
  },
  {
   "cell_type": "code",
   "execution_count": 63,
   "metadata": {},
   "outputs": [
    {
     "data": {
      "text/plain": [
       "18"
      ]
     },
     "execution_count": 63,
     "metadata": {},
     "output_type": "execute_result"
    }
   ],
   "source": [
    "def knapsack2_v2(w, v, capactiy):\n",
    "    n = len(w)\n",
    "    dp = [-1] * (capactiy+1)\n",
    "    dp[0] = 0\n",
    "    if w[0] <= capactiy:\n",
    "        dp[w[0]] = v[0]\n",
    "    \n",
    "    for i in range(1, n):\n",
    "        for j in range(capactiy-w[i], -1, -1):\n",
    "            if dp[j] == -1:\n",
    "                continue\n",
    "            dp[j+w[i]] = max(dp[j+w[i]], dp[j]+v[i])\n",
    "    \n",
    "    return max(dp)\n",
    "\n",
    "knapsack2([2,2,4,6,3], [3,4,8,9,6], 9)"
   ]
  },
  {
   "cell_type": "code",
   "execution_count": 67,
   "metadata": {},
   "outputs": [
    {
     "data": {
      "text/plain": [
       "19"
      ]
     },
     "execution_count": 67,
     "metadata": {},
     "output_type": "execute_result"
    }
   ],
   "source": [
    "def shortpath(matrix):\n",
    "    n = len(matrix)\n",
    "    res = float('inf')\n",
    "    memo = {}\n",
    "\n",
    "    def dfs(i, j, path):\n",
    "        nonlocal res\n",
    "        if i == n or j == n:\n",
    "            return\n",
    "        path += matrix[i][j]\n",
    "        \n",
    "        if (i, j) in memo and memo[(i, j)] < path:\n",
    "            return\n",
    "\n",
    "        memo[(i, j)] = path\n",
    "\n",
    "        if i == n - 1 and j == n - 1:\n",
    "            res = min(res, path)\n",
    "            return\n",
    "        \n",
    "        dfs(i+1, j, path)\n",
    "        dfs(i, j+1, path)\n",
    "    dfs(0, 0, 0)\n",
    "    return res\n",
    "\n",
    "\n",
    "shortpath([[1,3,5,9],[2,1,3,4],[5,2,6,7],[6,8,4,3]])"
   ]
  },
  {
   "cell_type": "code",
   "execution_count": 69,
   "metadata": {},
   "outputs": [
    {
     "data": {
      "text/plain": [
       "19"
      ]
     },
     "execution_count": 69,
     "metadata": {},
     "output_type": "execute_result"
    }
   ],
   "source": [
    "def shortpath_v2(matrix):\n",
    "    n = len(matrix)\n",
    "    dp = [[None] * n for _ in range(n)]\n",
    "    sum_ = 0\n",
    "    for i in range(n):\n",
    "        sum_ += matrix[0][i]\n",
    "        dp[0][i] = sum_\n",
    "    \n",
    "    sum_ = 0\n",
    "    for i in range(n):\n",
    "        sum_ += matrix[i][0]\n",
    "        dp[i][0] = sum_\n",
    "    \n",
    "    for i in range(1, n):\n",
    "        for j in range(1, n):\n",
    "            dp[i][j] = matrix[i][j] + min(dp[i-1][j], dp[i][j-1])\n",
    "    \n",
    "    return dp[-1][-1]\n",
    "\n",
    "shortpath_v2([[1,3,5,9],[2,1,3,4],[5,2,6,7],[6,8,4,3]])\n"
   ]
  },
  {
   "cell_type": "code",
   "execution_count": 70,
   "metadata": {},
   "outputs": [
    {
     "data": {
      "text/plain": [
       "19"
      ]
     },
     "execution_count": 70,
     "metadata": {},
     "output_type": "execute_result"
    }
   ],
   "source": [
    "def shortpath_v3(matrix):\n",
    "    n = len(matrix)\n",
    "    dp = [None] * n\n",
    "    sum_ = 0\n",
    "    for j in range(n):\n",
    "        sum_ += matrix[0][j]\n",
    "        dp[j] = sum_\n",
    "    \n",
    "    for i in range(1, n):\n",
    "        dp[0] += matrix[i][0]\n",
    "        for j in range(1, n):\n",
    "            dp[j] = matrix[i][j] + min(dp[j-1], dp[j])\n",
    "    \n",
    "    return dp[-1]\n",
    "\n",
    "shortpath_v3([[1,3,5,9],[2,1,3,4],[5,2,6,7],[6,8,4,3]])"
   ]
  },
  {
   "cell_type": "code",
   "execution_count": 73,
   "metadata": {},
   "outputs": [
    {
     "data": {
      "text/plain": [
       "2"
      ]
     },
     "execution_count": 73,
     "metadata": {},
     "output_type": "execute_result"
    }
   ],
   "source": [
    "def jump(nums):\n",
    "    n = len(nums)\n",
    "    dp = [0] + [n-1] * (n - 1)\n",
    "    for i in range(n):\n",
    "        for j in range(1, nums[i]+1):\n",
    "            dp[i + j] = min(dp[i +j], dp[i] + 1)\n",
    "            if i + j == n - 1:\n",
    "                return dp[-1]\n",
    "\n",
    "jump([2,3,1,1,4])"
   ]
  },
  {
   "cell_type": "code",
   "execution_count": 2,
   "metadata": {},
   "outputs": [
    {
     "data": {
      "text/plain": [
       "[0]"
      ]
     },
     "execution_count": 2,
     "metadata": {},
     "output_type": "execute_result"
    }
   ],
   "source": [
    "from collections import defaultdict, deque\n",
    "from typing import List\n",
    "\n",
    "\n",
    "def findMinHeightTrees(n: int, edges: List[List[int]]) -> List[int]:\n",
    "    degree = defaultdict(int)\n",
    "    adj = [[] for _ in range(n)]\n",
    "    for i, j in edges:\n",
    "        adj[i].append(j)\n",
    "        adj[j].append(i)\n",
    "        degree[i] += 1\n",
    "        degree[j] += 1\n",
    "    degree = sorted((-v, k) for k, v in degree.items())\n",
    "\n",
    "    def bfs(root):\n",
    "        queue = deque([[root, 0]])\n",
    "        visited = [False] * n\n",
    "        height = 0\n",
    "        while queue:\n",
    "            node, h = queue.popleft()\n",
    "            visited[node] = True\n",
    "            height = max(height, h)\n",
    "            for i in adj[node]:\n",
    "                if visited[i]:\n",
    "                    continue \n",
    "                queue.append([i, h+1])\n",
    "        return height\n",
    "\n",
    "    min_height = float('inf')\n",
    "    res = [0]\n",
    "    for _, node in degree:\n",
    "        height = bfs(node)\n",
    "        if height <= min_height:\n",
    "            if height < min_height:\n",
    "                    res.pop()\n",
    "            min_height = height\n",
    "            res.append(node)\n",
    "        else:\n",
    "            break\n",
    "    return res\n",
    "\n",
    "findMinHeightTrees(10, [[0,1],[0,2],[0,3],[2,4],[0,5],[5,6],[6,7],[2,8],[7,9]])"
   ]
  },
  {
   "cell_type": "code",
   "execution_count": 14,
   "metadata": {},
   "outputs": [],
   "source": [
    "import heapq\n",
    "\n",
    "\n",
    "class Solution:\n",
    "    def findCheapestPrice(self, n: int, flights: List[List[int]], src: int, dst: int, k: int) -> int:\n",
    "        adj = [[] for _ in range(n)]\n",
    "        for f, t, price in flights:\n",
    "            adj[f].append((t, price))\n",
    "        # cost = [float('inf')] * n\n",
    "        # cost[src] = 0\n",
    "\n",
    "        queue = [(0, 0, src)]\n",
    "        while queue:\n",
    "            price, stop, city = heapq.heappop(queue)\n",
    "            if city == dst:\n",
    "                return price\n",
    "            \n",
    "            if stop >= k:\n",
    "                continue\n",
    "            \n",
    "            for neighbor, p in adj[city]:\n",
    "                heapq.heappush(queue, (price + p, stop+1, neighbor))\n",
    "        \n",
    "        \n",
    "s = Solution()\n",
    "s.findCheapestPrice(4, [[0,1,100],[1,2,100],[2,0,100],[1,3,600],[2,3,200]], 0, 3, 1)"
   ]
  },
  {
   "cell_type": "code",
   "execution_count": 26,
   "metadata": {},
   "outputs": [
    {
     "data": {
      "text/plain": [
       "'10101'"
      ]
     },
     "execution_count": 26,
     "metadata": {},
     "output_type": "execute_result"
    }
   ],
   "source": [
    "import array\n",
    "class Bitset:\n",
    "\n",
    "    def __init__(self, size: int):\n",
    "        self.cnt = 0\n",
    "        self.capacity = size\n",
    "        self.size = self._index(size-1) + 1\n",
    "        self.words = array.array('B', [0] * self.size)\n",
    "        self.flipped = False\n",
    "\n",
    "    def _index(self, idx):\n",
    "        return idx >> 3\n",
    "\n",
    "    def fix(self, idx: int) -> None:\n",
    "        i = self._index(idx)\n",
    "        w = 1 << (idx & 7)\n",
    "        if self.flipped:\n",
    "            if self.words[i] & w:\n",
    "                self.cnt -= 1\n",
    "                self.words[i] &= ~w\n",
    "        else:\n",
    "            if not self.words[i] & w:\n",
    "                self.cnt += 1\n",
    "                self.words[i] |= w\n",
    "\n",
    "\n",
    "    def unfix(self, idx: int) -> None:\n",
    "        i = self._index(idx)\n",
    "        w = 1 << (idx & 7)\n",
    "        if self.flipped:\n",
    "            if not self.words[i] & w:\n",
    "                self.cnt += 1\n",
    "                self.words[i] |= w\n",
    "        else:\n",
    "            if self.words[i] & w:\n",
    "                self.cnt -= 1\n",
    "                self.words[i] &= ~w\n",
    "\n",
    "    def flip(self) -> None:\n",
    "        self.flipped = not self.flipped\n",
    "\n",
    "    def all(self) -> bool:\n",
    "        return self.cnt == 0 if self.flipped else self.cnt == self.capacity\n",
    "\n",
    "    def one(self) -> bool:\n",
    "        return self.count() > 0\n",
    "\n",
    "    def count(self) -> int:\n",
    "        return self.capacity - self.cnt if self.flipped else self.cnt\n",
    "\n",
    "    def toString(self) -> str:\n",
    "        result = []\n",
    "        for i, w in enumerate(self.words):\n",
    "            bit_str = f'{w ^ (0xFF if self.flipped else 0):08b}'\n",
    "            if i == self.size - 1:\n",
    "                bit_str = bit_str[-(self.capacity & 7):]\n",
    "            result.append(bit_str)\n",
    "        return ''.join(result[::-1])\n",
    "\n",
    "# Your Bitset object will be instantiated and called as such:\n",
    "obj = Bitset(5)\n",
    "obj.fix(3)\n",
    "obj.fix(1)\n",
    "obj.flip()\n",
    "obj.toString()"
   ]
  }
 ],
 "metadata": {
  "kernelspec": {
   "display_name": ".venv",
   "language": "python",
   "name": "python3"
  },
  "language_info": {
   "codemirror_mode": {
    "name": "ipython",
    "version": 3
   },
   "file_extension": ".py",
   "mimetype": "text/x-python",
   "name": "python",
   "nbconvert_exporter": "python",
   "pygments_lexer": "ipython3",
   "version": "3.13.0"
  }
 },
 "nbformat": 4,
 "nbformat_minor": 2
}
