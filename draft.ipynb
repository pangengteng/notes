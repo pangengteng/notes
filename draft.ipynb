{
 "cells": [
  {
   "cell_type": "markdown",
   "metadata": {},
   "source": [
    "# BM算法\n",
    "\n",
    "> 用于在文本S中搜索模式串P\n",
    "\n",
    "\n",
    "\n",
    "## 整体思路\n",
    "> 1. 从模式串P尾部开始匹配，i, j 分别为 S、P 当前比较的位置下标，n, m分别为 S、P的长度，初始化 i=j=m-1\n",
    "> 2. 当 S[i] == P[j], i--, j--\n",
    "> 3. 当 S[i] != P[j], S[i] 称为“坏字符”，S[i+1:i+m-j]（后面已经匹配上的子串）称为“好后缀”。例如S为ABCAD，P为BAD，当 i = 2, j = 0时, “C”为坏字符，“AD”为好后缀\n",
    "> 4. 模式串有两种向后移动的方法(规则)\n",
    "> 5. 坏字符规则：在P当前失配位置左边找最近的匹配字符。例如P为ABCAB，失配时，S[i] = A, j=4, 最近的匹配字符为j=3的”A“\n",
    "> 6. 好后缀规则：在P当前失配位置左边找最近的匹配子串。例如P为ABCAB，失配时，S[i] = C, j=2，最近的匹配子串为j=0的”AB“\n",
    "> 7. 当 i >= s_len, 没匹配；当j < 0, 匹配\n",
    "\n",
    "### 坏字符规则\n",
    "\n",
    "> 后移模式串，等同于后移i，也就是我们要找出i后移的距离d\n",
    "> 二维坏字符表：行表示文本串中的字符，列表示失配时在P的位置，值表示i需要移动的距离d，d > m - j，坏字符在左边的位置为k，d = m - k"
   ]
  },
  {
   "cell_type": "code",
   "execution_count": 1,
   "metadata": {},
   "outputs": [
    {
     "name": "stdout",
     "output_type": "stream",
     "text": [
      "   0  1  2  3  4  5  6\n",
      "A  7  7  7  7  7  2  2\n",
      "D  7  7  7  4  4  4  4\n",
      "B  7  6  6  6  3  3  3\n",
      "C  7  7  5  5  5  5  1\n"
     ]
    }
   ],
   "source": [
    "# 2D bad character table\n",
    "import numpy as np\n",
    "import pandas as pd\n",
    "\n",
    "def bad_character_table(p):\n",
    "    m = len(p)\n",
    "    char = list(set(p))\n",
    "    table = pd.DataFrame(np.full((len(char), m), m), index=char)\n",
    "    for i in range(1, m):\n",
    "        table.iloc[:, i] = table.iloc[:, i-1]\n",
    "        table.loc[p[i-1], i] = m - i\n",
    "    return table\n",
    "\n",
    "print(bad_character_table('BCDBACD'))\n"
   ]
  },
  {
   "cell_type": "markdown",
   "metadata": {},
   "source": [
    "### 好后缀规则\n",
    "\n",
    "> 分两种情况\n",
    "> 1. 失配位置的左边能找到好后缀，假设失配位置为j，相当于找P[:j]最长的子串（最长前缀串），子串后缀为P[j+1:]，i移动的距离d，d > m-j, 重复串头部位置为t，d = m - t\n",
    "> 2. 失配位置的左边不能找到好后缀或能在前缀中找到部分好后缀，d = m + len(suffix) - len(prefix)\n",
    "\n",
    "> 因为我们要在失配位置左边找离失配位置最近的好后缀，所以先找第二种情况，再找第一种情况"
   ]
  },
  {
   "cell_type": "code",
   "execution_count": 2,
   "metadata": {},
   "outputs": [],
   "source": [
    "# good suffix table\n",
    "def good_suffix_table(p):\n",
    "    m = len(p)\n",
    "    table = [0] * m\n",
    "    # suffix not found\n",
    "    def good_suffix_not_on_left(p):\n",
    "        table[m-1] = 1\n",
    "        last_prefix_length = 0\n",
    "        for i in range(m-1, 0, -1):\n",
    "            suffix_length = m - i\n",
    "            if p[i:] == p[:m-i]:\n",
    "                last_prefix_length = prefix_length = suffix_length\n",
    "            else:\n",
    "                prefix_length = last_prefix_length\n",
    "            table[i-1] = m + suffix_length - prefix_length\n",
    "    # suffix found\n",
    "    def good_suffix_on_left(p):\n",
    "        def common_suffix_length(p, i, j):\n",
    "            length = 0\n",
    "            while i >= 0 and p[i] == p[j]:\n",
    "                length += 1\n",
    "                i -= 1\n",
    "                j -= 1\n",
    "            return length\n",
    "        \n",
    "        for i in range(m-1):\n",
    "            common_suffix_length_ = common_suffix_length(p, i, m-1)\n",
    "            if common_suffix_length_ > 0:\n",
    "                j = m - 1 - common_suffix_length_\n",
    "                table[j] = m - (i + 1 - common_suffix_length_)\n",
    "    \n",
    "    good_suffix_not_on_left(p)\n",
    "    good_suffix_on_left(p)\n",
    "    return table"
   ]
  },
  {
   "cell_type": "markdown",
   "metadata": {},
   "source": [
    "> 结合“坏字符”规则和“好后缀”规则，取两者后移比较大的值\n",
    "\n",
    "> 实践中，经常用一维”坏字符“规则，原因是实现简单，且结合上述逻辑，不会出现死循环"
   ]
  },
  {
   "cell_type": "code",
   "execution_count": 3,
   "metadata": {},
   "outputs": [
    {
     "name": "stdout",
     "output_type": "stream",
     "text": [
      "A    2\n",
      "D    4\n",
      "B    3\n",
      "C    1\n",
      "dtype: int64\n",
      "7\n"
     ]
    }
   ],
   "source": [
    "# 1D bad character table\n",
    "def bad_character_table(p):\n",
    "    m = len(p)\n",
    "    char = list(set(p))\n",
    "    table = pd.Series([m] * len(char), index=char)\n",
    "    table[p[-1]] = 1\n",
    "    for i in range(m-1):\n",
    "        table[p[i]] = m - 1 - i\n",
    "    return table\n",
    "\n",
    "char_table = bad_character_table('BCDBACD')\n",
    "print(char_table)\n",
    "print(char_table.get('F', len('BCDBACD')))"
   ]
  },
  {
   "cell_type": "code",
   "execution_count": 4,
   "metadata": {},
   "outputs": [
    {
     "name": "stdout",
     "output_type": "stream",
     "text": [
      "9\n"
     ]
    }
   ],
   "source": [
    "# BM\n",
    "def bm(s, p):\n",
    "    n, m = len(s), len(p)\n",
    "    if n < m:\n",
    "        return -1\n",
    "    bad_char = bad_character_table(p)\n",
    "    good_suffix = good_suffix_table(p)\n",
    "    i = m - 1\n",
    "    while i < n:\n",
    "        j = m - 1\n",
    "        while j >= 0 and s[i] == p[j]:\n",
    "            i -= 1\n",
    "            j -= 1\n",
    "        if j == -1:\n",
    "            return i + 1\n",
    "        i += max(bad_char.get(s[i], m), good_suffix[j]) # max(bad_char.loc[s[i], j], good_suffix[j])\n",
    "    return -1\n",
    "\n",
    "print(bm('BCBAABACAABABACAA', 'ABABAC'))"
   ]
  },
  {
   "cell_type": "markdown",
   "metadata": {},
   "source": [
    "## 复杂度分析\n",
    "\n",
    "> “坏字符“规则：一维是O(S + M)，二维是O(S * M), S是考虑的字符集，M是P的长度\n",
    "> “好后缀”规则：O(M2)\n",
    "> 查找：O(N*M)\n",
    "\n",
    "> 使用场景：M远比N小"
   ]
  },
  {
   "cell_type": "markdown",
   "metadata": {},
   "source": [
    "================= 分割线 ================="
   ]
  },
  {
   "cell_type": "code",
   "execution_count": 29,
   "metadata": {},
   "outputs": [],
   "source": [
    "from IPython.core.interactiveshell import InteractiveShell\n",
    "InteractiveShell.ast_node_interactivity = \"all\""
   ]
  },
  {
   "cell_type": "code",
   "execution_count": 31,
   "metadata": {},
   "outputs": [
    {
     "data": {
      "text/plain": [
       "'\\nkmp\\n1. 从前往后匹配\\n2. 出现不匹配字符时，在模式串的前缀子串中迭代找可以匹配的字符\\n'"
      ]
     },
     "execution_count": 31,
     "metadata": {},
     "output_type": "execute_result"
    },
    {
     "data": {
      "text/plain": [
       "[0, 0, 1, 2, 3, 0, 1]"
      ]
     },
     "execution_count": 31,
     "metadata": {},
     "output_type": "execute_result"
    },
    {
     "data": {
      "text/plain": [
       "[-1, -1, 0, 1, 2, -1, 0]"
      ]
     },
     "execution_count": 31,
     "metadata": {},
     "output_type": "execute_result"
    },
    {
     "data": {
      "text/plain": [
       "2"
      ]
     },
     "execution_count": 31,
     "metadata": {},
     "output_type": "execute_result"
    },
    {
     "data": {
      "text/plain": [
       "2"
      ]
     },
     "execution_count": 31,
     "metadata": {},
     "output_type": "execute_result"
    }
   ],
   "source": [
    "'''\n",
    "kmp\n",
    "1. 从前往后匹配\n",
    "2. 出现不匹配字符时，在模式串的前缀子串中迭代找可以匹配的字符\n",
    "'''\n",
    "\n",
    "# next 数组存前、后缀最长公共子串长度\n",
    "def build_next(p):\n",
    "    next = [0] * len(p)\n",
    "    \n",
    "    j = 0\n",
    "    for i in range(1, len(p)):\n",
    "        # p[j] 是最长公共前缀串的下一个字符\n",
    "        while j > 0 and p[i] != p[j]:\n",
    "            j = next[j-1]\n",
    "        \n",
    "        if p[i] == p[j]:\n",
    "            j += 1\n",
    "        \n",
    "        next[i] = j\n",
    "    \n",
    "    return next\n",
    "\n",
    "# next 数组存最长公共前缀的最后一个字符的下标\n",
    "def build_next_v2(p):\n",
    "    next = [-1] * len(p)\n",
    "    j = -1\n",
    "    for i in range(1, len(p)):\n",
    "        # p[j+1] 是最长公共前缀串的下一个字符\n",
    "        while j != -1 and p[i] != p[j+1]:\n",
    "            j = next[j]\n",
    "        \n",
    "        if p[i] == p[j+1]:\n",
    "            j += 1\n",
    "        \n",
    "        next[i] = j\n",
    "    \n",
    "    return next\n",
    "\n",
    "\n",
    "build_next(\"ababaca\")\n",
    "build_next_v2(\"ababaca\")\n",
    "\n",
    "\n",
    "def kmp(s, p):\n",
    "    next = build_next(p)\n",
    "    # 模式串待比较的字符下标\n",
    "    j = 0\n",
    "    for i in range(len(s)):\n",
    "        while j > 0 and s[i] != p[j]:\n",
    "            j = next[j-1]\n",
    "\n",
    "        if s[i] == p[j]:\n",
    "            j += 1\n",
    "        \n",
    "        if j == len(p):\n",
    "            return i - j + 1\n",
    "    \n",
    "    return -1\n",
    "\n",
    "\n",
    "def kmp_v2(s, p ):\n",
    "    next = build_next_v2(p)\n",
    "    # p已经匹配的字符下标\n",
    "    j = -1\n",
    "    for i in range(len(s)):\n",
    "        while j != -1 and s[i] != p[j+1]:\n",
    "            j = next[j]\n",
    "        \n",
    "        if s[i] == p[j+1]:\n",
    "            j += 1\n",
    "        \n",
    "        if j == len(p) - 1:\n",
    "            return i - j\n",
    "        \n",
    "    return -1\n",
    "\n",
    "\n",
    "kmp('hello', 'll')\n",
    "kmp_v2('hello', 'll')\n"
   ]
  },
  {
   "cell_type": "code",
   "execution_count": 33,
   "metadata": {},
   "outputs": [
    {
     "data": {
      "text/plain": [
       "'\\nbm\\n1. 从后往前匹配\\n2. 出现不匹配时，使用坏字符规则和好后缀规则后移\\n'"
      ]
     },
     "execution_count": 33,
     "metadata": {},
     "output_type": "execute_result"
    },
    {
     "data": {
      "text/plain": [
       "9"
      ]
     },
     "execution_count": 33,
     "metadata": {},
     "output_type": "execute_result"
    }
   ],
   "source": [
    "'''\n",
    "bm\n",
    "1. 从后往前匹配\n",
    "2. 出现不匹配时，使用坏字符规则和好后缀规则后移\n",
    "'''\n",
    "\n",
    "def bm(s, p):\n",
    "    bc_table = bad_character(p)\n",
    "    gs_table = good_suffix_table(p)\n",
    "    i = len(p) - 1\n",
    "    while i < len(s):\n",
    "        j = len(p) - 1\n",
    "        while j >= 0 and s[i] == p[j]:\n",
    "            i -= 1\n",
    "            j -= 1\n",
    "\n",
    "        if j < 0:\n",
    "            return i + 1\n",
    "            \n",
    "        i += max(bc_table[ord(s[i])- ord('a')], gs_table[j])\n",
    "\n",
    "    return -1\n",
    "\n",
    "def bad_character(p):\n",
    "    table = [len(p)] * 256\n",
    "    for i in range(len(p)):\n",
    "        table[ord(p[i])-ord('a')] = len(p) - 1 - i\n",
    "    \n",
    "    return table\n",
    "\n",
    "\n",
    "def good_suffix(p):\n",
    "    table = [0] * len(p)\n",
    "    table[-1] = 1\n",
    "    def not_on_left():\n",
    "        last_prefix_len = 0\n",
    "        # i 是好后缀开头字符下标\n",
    "        for i in range(len(p)-1, 0, -1):\n",
    "            suffix_len = len(p) - i\n",
    "            if p[i:] == p[:len(p)-i]:\n",
    "                prefix_len = suffix_len\n",
    "                last_prefix_len = prefix_len\n",
    "            else:\n",
    "                prefix_len = last_prefix_len\n",
    "            \n",
    "            # i - 1 失配下标\n",
    "            table[i-1] = len(p) + suffix_len - prefix_len\n",
    "\n",
    "\n",
    "    def on_left():\n",
    "        def common_suffix_len(i, j):\n",
    "            length = 0\n",
    "            while i >= 0 and p[i] == p[j]:\n",
    "                length += 1\n",
    "                i -= 1\n",
    "                j -= 1\n",
    "            \n",
    "            return length\n",
    "        \n",
    "        for i in range(len(p)-1):\n",
    "            suffix_len = common_suffix_len(i, len(p)-1)\n",
    "            if suffix_len > 0:\n",
    "                table[len(p)-1-suffix_len] = len(p) - (i + 1 - suffix_len)\n",
    "    \n",
    "    not_on_left()\n",
    "    on_left()\n",
    "    return table\n",
    "\n",
    "bm('BCBAABACAABABACAA', 'ABABAC')"
   ]
  },
  {
   "cell_type": "code",
   "execution_count": 57,
   "metadata": {},
   "outputs": [
    {
     "data": {
      "text/plain": [
       "[[1, 2], [1, 3], [2, 1], [2, 3], [3, 2], [3, 1]]"
      ]
     },
     "execution_count": 57,
     "metadata": {},
     "output_type": "execute_result"
    }
   ],
   "source": [
    "def permute(nums, k):\n",
    "    n = len(nums)\n",
    "    permu = []\n",
    "    def dfs(start):\n",
    "        if start == k:\n",
    "            permu.append(nums[:k])\n",
    "        for i in range(start, n):\n",
    "            nums[i], nums[start] = nums[start], nums[i]\n",
    "            dfs(start+1)\n",
    "            nums[i], nums[start] = nums[start], nums[i]\n",
    "    \n",
    "    dfs(0)\n",
    "    return permu\n",
    "\n",
    "permute([1,2,3], 2)\n"
   ]
  },
  {
   "cell_type": "code",
   "execution_count": 52,
   "metadata": {},
   "outputs": [
    {
     "data": {
      "text/plain": [
       "[[1, 2, 3], [1, 2, 4], [1, 3, 4], [2, 3, 4]]"
      ]
     },
     "execution_count": 52,
     "metadata": {},
     "output_type": "execute_result"
    }
   ],
   "source": [
    "def combine(nums, k):\n",
    "    n = len(nums)\n",
    "    combs = []\n",
    "    comb = []\n",
    "    def dfs(start):\n",
    "        if len(comb) == k:\n",
    "            combs.append(comb[:])\n",
    "            return\n",
    "        for i in range(start, n):\n",
    "            comb.append(nums[i])\n",
    "            dfs(i+1)\n",
    "            comb.pop()\n",
    "    \n",
    "    dfs(0)\n",
    "    return combs\n",
    "\n",
    "combine([1,2,3,4], 3)\n",
    "        "
   ]
  }
 ],
 "metadata": {
  "kernelspec": {
   "display_name": ".venv",
   "language": "python",
   "name": "python3"
  },
  "language_info": {
   "codemirror_mode": {
    "name": "ipython",
    "version": 3
   },
   "file_extension": ".py",
   "mimetype": "text/x-python",
   "name": "python",
   "nbconvert_exporter": "python",
   "pygments_lexer": "ipython3",
   "version": "3.13.0"
  }
 },
 "nbformat": 4,
 "nbformat_minor": 2
}
